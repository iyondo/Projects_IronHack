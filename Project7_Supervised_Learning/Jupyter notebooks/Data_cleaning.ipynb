{
 "cells": [
  {
   "cell_type": "markdown",
   "metadata": {},
   "source": [
    "## Description of data\n"
   ]
  },
  {
   "cell_type": "code",
   "execution_count": 524,
   "metadata": {},
   "outputs": [],
   "source": [
    "import pandas as pd \n",
    "import numpy as np \n",
    "import matplotlib.pyplot as plt \n",
    "import seaborn as sns "
   ]
  },
  {
   "cell_type": "markdown",
   "metadata": {},
   "source": [
    "Loading the data \n"
   ]
  },
  {
   "cell_type": "code",
   "execution_count": 525,
   "metadata": {},
   "outputs": [],
   "source": [
    "data = pd.read_csv(r'C:\\Users\\radek\\IronHack\\IronRadek\\Week7\\Project7_Supervised_Learning\\imdb_processed.csv')"
   ]
  },
  {
   "cell_type": "code",
   "execution_count": 526,
   "metadata": {},
   "outputs": [
    {
     "data": {
      "text/html": [
       "<div>\n",
       "<style scoped>\n",
       "    .dataframe tbody tr th:only-of-type {\n",
       "        vertical-align: middle;\n",
       "    }\n",
       "\n",
       "    .dataframe tbody tr th {\n",
       "        vertical-align: top;\n",
       "    }\n",
       "\n",
       "    .dataframe thead th {\n",
       "        text-align: right;\n",
       "    }\n",
       "</style>\n",
       "<table border=\"1\" class=\"dataframe\">\n",
       "  <thead>\n",
       "    <tr style=\"text-align: right;\">\n",
       "      <th></th>\n",
       "      <th>Unnamed: 0</th>\n",
       "      <th>title</th>\n",
       "      <th>year</th>\n",
       "      <th>kind</th>\n",
       "      <th>genre</th>\n",
       "      <th>rating</th>\n",
       "      <th>vote</th>\n",
       "      <th>country</th>\n",
       "      <th>language</th>\n",
       "      <th>cast</th>\n",
       "      <th>director</th>\n",
       "      <th>composer</th>\n",
       "      <th>writer</th>\n",
       "      <th>runtime</th>\n",
       "    </tr>\n",
       "  </thead>\n",
       "  <tbody>\n",
       "    <tr>\n",
       "      <th>0</th>\n",
       "      <td>0</td>\n",
       "      <td>Dinosaur Planet</td>\n",
       "      <td>2003.0</td>\n",
       "      <td>tv mini series</td>\n",
       "      <td>['Documentary', 'Animation', 'Family']</td>\n",
       "      <td>7.7</td>\n",
       "      <td>474.0</td>\n",
       "      <td>['United States']</td>\n",
       "      <td>['English']</td>\n",
       "      <td>['Christian Slater', 'Scott Sampson']</td>\n",
       "      <td>NaN</td>\n",
       "      <td>NaN</td>\n",
       "      <td>['Mike Carrol', 'Mike Carroll', 'Georgann Kane']</td>\n",
       "      <td>50.0</td>\n",
       "    </tr>\n",
       "    <tr>\n",
       "      <th>1</th>\n",
       "      <td>1</td>\n",
       "      <td>Get Up and Dance!</td>\n",
       "      <td>1994.0</td>\n",
       "      <td>video movie</td>\n",
       "      <td>['Family']</td>\n",
       "      <td>8.1</td>\n",
       "      <td>18.0</td>\n",
       "      <td>['United States']</td>\n",
       "      <td>['English']</td>\n",
       "      <td>['Paula Abdul', 'Aurorah Allain', 'Bill Bohl',...</td>\n",
       "      <td>['Steve Purcell']</td>\n",
       "      <td>NaN</td>\n",
       "      <td>NaN</td>\n",
       "      <td>83.0</td>\n",
       "    </tr>\n",
       "    <tr>\n",
       "      <th>2</th>\n",
       "      <td>2</td>\n",
       "      <td>8 Man</td>\n",
       "      <td>1992.0</td>\n",
       "      <td>movie</td>\n",
       "      <td>['Action', 'Sci-Fi']</td>\n",
       "      <td>5.5</td>\n",
       "      <td>93.0</td>\n",
       "      <td>['Japan']</td>\n",
       "      <td>['Japanese']</td>\n",
       "      <td>['Kai Shishido', 'Etsushi Takahashi', 'Sachiko...</td>\n",
       "      <td>['Yasuhiro Horiuchi']</td>\n",
       "      <td>['Carole King']</td>\n",
       "      <td>['Kazumasa Hirai', 'Jirô Kuwata', 'Junko Suzuki']</td>\n",
       "      <td>NaN</td>\n",
       "    </tr>\n",
       "    <tr>\n",
       "      <th>3</th>\n",
       "      <td>3</td>\n",
       "      <td>What the #$*! Do We (K)now!?</td>\n",
       "      <td>2004.0</td>\n",
       "      <td>movie</td>\n",
       "      <td>['Documentary', 'Comedy', 'Drama', 'Fantasy', ...</td>\n",
       "      <td>5.3</td>\n",
       "      <td>13432.0</td>\n",
       "      <td>['United States']</td>\n",
       "      <td>['English', 'German', 'Spanish']</td>\n",
       "      <td>['Marlee Matlin', 'Elaine Hendrix', 'John Ross...</td>\n",
       "      <td>['William Arntz', 'Betsy Chasse', 'Mark Vicente']</td>\n",
       "      <td>['Christopher Franke']</td>\n",
       "      <td>['William Arntz', 'Betsy Chasse', 'Matthew Hof...</td>\n",
       "      <td>60.0</td>\n",
       "    </tr>\n",
       "    <tr>\n",
       "      <th>4</th>\n",
       "      <td>4</td>\n",
       "      <td>Class of Nuke 'Em High Part II: Subhumanoid Me...</td>\n",
       "      <td>1991.0</td>\n",
       "      <td>movie</td>\n",
       "      <td>['Comedy', 'Horror', 'Sci-Fi']</td>\n",
       "      <td>4.5</td>\n",
       "      <td>2177.0</td>\n",
       "      <td>['United States']</td>\n",
       "      <td>['English']</td>\n",
       "      <td>['Brick Bronsky', 'Lisa Gaye', 'Leesa Rowland'...</td>\n",
       "      <td>['Eric Louzil']</td>\n",
       "      <td>['Bob Mithoff']</td>\n",
       "      <td>['Lloyd Kaufman', 'Carl Morano', 'Matt Unger']</td>\n",
       "      <td>96.0</td>\n",
       "    </tr>\n",
       "  </tbody>\n",
       "</table>\n",
       "</div>"
      ],
      "text/plain": [
       "   Unnamed: 0                                              title    year  \\\n",
       "0           0                                    Dinosaur Planet  2003.0   \n",
       "1           1                                  Get Up and Dance!  1994.0   \n",
       "2           2                                              8 Man  1992.0   \n",
       "3           3                       What the #$*! Do We (K)now!?  2004.0   \n",
       "4           4  Class of Nuke 'Em High Part II: Subhumanoid Me...  1991.0   \n",
       "\n",
       "             kind                                              genre  rating  \\\n",
       "0  tv mini series             ['Documentary', 'Animation', 'Family']     7.7   \n",
       "1     video movie                                         ['Family']     8.1   \n",
       "2           movie                               ['Action', 'Sci-Fi']     5.5   \n",
       "3           movie  ['Documentary', 'Comedy', 'Drama', 'Fantasy', ...     5.3   \n",
       "4           movie                     ['Comedy', 'Horror', 'Sci-Fi']     4.5   \n",
       "\n",
       "      vote            country                          language  \\\n",
       "0    474.0  ['United States']                       ['English']   \n",
       "1     18.0  ['United States']                       ['English']   \n",
       "2     93.0          ['Japan']                      ['Japanese']   \n",
       "3  13432.0  ['United States']  ['English', 'German', 'Spanish']   \n",
       "4   2177.0  ['United States']                       ['English']   \n",
       "\n",
       "                                                cast  \\\n",
       "0              ['Christian Slater', 'Scott Sampson']   \n",
       "1  ['Paula Abdul', 'Aurorah Allain', 'Bill Bohl',...   \n",
       "2  ['Kai Shishido', 'Etsushi Takahashi', 'Sachiko...   \n",
       "3  ['Marlee Matlin', 'Elaine Hendrix', 'John Ross...   \n",
       "4  ['Brick Bronsky', 'Lisa Gaye', 'Leesa Rowland'...   \n",
       "\n",
       "                                            director                composer  \\\n",
       "0                                                NaN                     NaN   \n",
       "1                                  ['Steve Purcell']                     NaN   \n",
       "2                              ['Yasuhiro Horiuchi']         ['Carole King']   \n",
       "3  ['William Arntz', 'Betsy Chasse', 'Mark Vicente']  ['Christopher Franke']   \n",
       "4                                    ['Eric Louzil']         ['Bob Mithoff']   \n",
       "\n",
       "                                              writer  runtime  \n",
       "0   ['Mike Carrol', 'Mike Carroll', 'Georgann Kane']     50.0  \n",
       "1                                                NaN     83.0  \n",
       "2  ['Kazumasa Hirai', 'Jirô Kuwata', 'Junko Suzuki']      NaN  \n",
       "3  ['William Arntz', 'Betsy Chasse', 'Matthew Hof...     60.0  \n",
       "4     ['Lloyd Kaufman', 'Carl Morano', 'Matt Unger']     96.0  "
      ]
     },
     "execution_count": 526,
     "metadata": {},
     "output_type": "execute_result"
    }
   ],
   "source": [
    "data.head()"
   ]
  },
  {
   "cell_type": "markdown",
   "metadata": {},
   "source": [
    "Drop unnamed column"
   ]
  },
  {
   "cell_type": "code",
   "execution_count": 527,
   "metadata": {},
   "outputs": [],
   "source": [
    "#We are droping unamed column as it has no information\n",
    "data.drop(columns='Unnamed: 0', inplace=True)"
   ]
  },
  {
   "cell_type": "code",
   "execution_count": 528,
   "metadata": {},
   "outputs": [
    {
     "data": {
      "text/plain": [
       "(8451, 13)"
      ]
     },
     "execution_count": 528,
     "metadata": {},
     "output_type": "execute_result"
    }
   ],
   "source": [
    "#Checking the shape of data\n",
    "data.shape"
   ]
  },
  {
   "cell_type": "code",
   "execution_count": 529,
   "metadata": {},
   "outputs": [
    {
     "data": {
      "text/plain": [
       "title        object\n",
       "year        float64\n",
       "kind         object\n",
       "genre        object\n",
       "rating      float64\n",
       "vote        float64\n",
       "country      object\n",
       "language     object\n",
       "cast         object\n",
       "director     object\n",
       "composer     object\n",
       "writer       object\n",
       "runtime     float64\n",
       "dtype: object"
      ]
     },
     "execution_count": 529,
     "metadata": {},
     "output_type": "execute_result"
    }
   ],
   "source": [
    "#We are checking the type of data \n",
    "data.dtypes"
   ]
  },
  {
   "cell_type": "code",
   "execution_count": 530,
   "metadata": {},
   "outputs": [
    {
     "data": {
      "text/html": [
       "<div>\n",
       "<style scoped>\n",
       "    .dataframe tbody tr th:only-of-type {\n",
       "        vertical-align: middle;\n",
       "    }\n",
       "\n",
       "    .dataframe tbody tr th {\n",
       "        vertical-align: top;\n",
       "    }\n",
       "\n",
       "    .dataframe thead th {\n",
       "        text-align: right;\n",
       "    }\n",
       "</style>\n",
       "<table border=\"1\" class=\"dataframe\">\n",
       "  <thead>\n",
       "    <tr style=\"text-align: right;\">\n",
       "      <th></th>\n",
       "      <th>year</th>\n",
       "      <th>rating</th>\n",
       "      <th>vote</th>\n",
       "      <th>runtime</th>\n",
       "    </tr>\n",
       "  </thead>\n",
       "  <tbody>\n",
       "    <tr>\n",
       "      <th>count</th>\n",
       "      <td>8451.000000</td>\n",
       "      <td>8135.000000</td>\n",
       "      <td>8.135000e+03</td>\n",
       "      <td>6798.000000</td>\n",
       "    </tr>\n",
       "    <tr>\n",
       "      <th>mean</th>\n",
       "      <td>1991.626080</td>\n",
       "      <td>6.680000</td>\n",
       "      <td>1.873295e+04</td>\n",
       "      <td>99.984113</td>\n",
       "    </tr>\n",
       "    <tr>\n",
       "      <th>std</th>\n",
       "      <td>15.129001</td>\n",
       "      <td>1.281778</td>\n",
       "      <td>8.957999e+04</td>\n",
       "      <td>65.277725</td>\n",
       "    </tr>\n",
       "    <tr>\n",
       "      <th>min</th>\n",
       "      <td>1905.000000</td>\n",
       "      <td>1.500000</td>\n",
       "      <td>5.000000e+00</td>\n",
       "      <td>2.000000</td>\n",
       "    </tr>\n",
       "    <tr>\n",
       "      <th>25%</th>\n",
       "      <td>1987.000000</td>\n",
       "      <td>6.000000</td>\n",
       "      <td>3.075000e+02</td>\n",
       "      <td>82.000000</td>\n",
       "    </tr>\n",
       "    <tr>\n",
       "      <th>50%</th>\n",
       "      <td>1998.000000</td>\n",
       "      <td>6.900000</td>\n",
       "      <td>1.531000e+03</td>\n",
       "      <td>95.000000</td>\n",
       "    </tr>\n",
       "    <tr>\n",
       "      <th>75%</th>\n",
       "      <td>2002.000000</td>\n",
       "      <td>7.600000</td>\n",
       "      <td>6.897500e+03</td>\n",
       "      <td>110.000000</td>\n",
       "    </tr>\n",
       "    <tr>\n",
       "      <th>max</th>\n",
       "      <td>2005.000000</td>\n",
       "      <td>9.600000</td>\n",
       "      <td>2.462087e+06</td>\n",
       "      <td>1620.000000</td>\n",
       "    </tr>\n",
       "  </tbody>\n",
       "</table>\n",
       "</div>"
      ],
      "text/plain": [
       "              year       rating          vote      runtime\n",
       "count  8451.000000  8135.000000  8.135000e+03  6798.000000\n",
       "mean   1991.626080     6.680000  1.873295e+04    99.984113\n",
       "std      15.129001     1.281778  8.957999e+04    65.277725\n",
       "min    1905.000000     1.500000  5.000000e+00     2.000000\n",
       "25%    1987.000000     6.000000  3.075000e+02    82.000000\n",
       "50%    1998.000000     6.900000  1.531000e+03    95.000000\n",
       "75%    2002.000000     7.600000  6.897500e+03   110.000000\n",
       "max    2005.000000     9.600000  2.462087e+06  1620.000000"
      ]
     },
     "execution_count": 530,
     "metadata": {},
     "output_type": "execute_result"
    }
   ],
   "source": [
    "data.describe()"
   ]
  },
  {
   "cell_type": "markdown",
   "metadata": {},
   "source": [
    "## Data Cleaning"
   ]
  },
  {
   "cell_type": "code",
   "execution_count": 531,
   "metadata": {},
   "outputs": [],
   "source": [
    "#We decided to drop title column as it doesn't bring a lot of information, as title is specific to each movie. \n",
    "data.drop(columns='title', inplace=True)"
   ]
  },
  {
   "cell_type": "code",
   "execution_count": 532,
   "metadata": {},
   "outputs": [
    {
     "data": {
      "text/plain": [
       "year           0\n",
       "kind           0\n",
       "genre         67\n",
       "rating       316\n",
       "vote         316\n",
       "country      299\n",
       "language     399\n",
       "cast         171\n",
       "director    1311\n",
       "composer    2729\n",
       "writer      1247\n",
       "runtime     1653\n",
       "dtype: int64"
      ]
     },
     "execution_count": 532,
     "metadata": {},
     "output_type": "execute_result"
    }
   ],
   "source": [
    "data.isna().sum()"
   ]
  },
  {
   "cell_type": "markdown",
   "metadata": {},
   "source": [
    "Now, our approach for cleaning data is to go column by column and clean it, impout missing data etc. "
   ]
  },
  {
   "cell_type": "markdown",
   "metadata": {},
   "source": [
    "### Year: \n",
    "column is a float and has no missing values so we leave it like it is"
   ]
  },
  {
   "cell_type": "markdown",
   "metadata": {},
   "source": [
    "### Genre"
   ]
  },
  {
   "cell_type": "code",
   "execution_count": 533,
   "metadata": {},
   "outputs": [
    {
     "data": {
      "text/plain": [
       "['Documentary']                                             452\n",
       "['Drama']                                                   451\n",
       "['Documentary', 'Music']                                    326\n",
       "['Comedy']                                                  311\n",
       "['Drama', 'Romance']                                        283\n",
       "                                                           ... \n",
       "['Short', 'Fantasy']                                          1\n",
       "['Thriller', 'Action', 'Fantasy', 'Horror']                   1\n",
       "['Animation', 'Adventure', 'Comedy', 'Horror', 'Sci-Fi']      1\n",
       "['Animation', 'Drama', 'Family']                              1\n",
       "['Animation', 'Action', 'Adventure', 'Crime', 'Mystery']      1\n",
       "Name: genre, Length: 1436, dtype: int64"
      ]
     },
     "execution_count": 533,
     "metadata": {},
     "output_type": "execute_result"
    }
   ],
   "source": [
    "data.genre.value_counts()"
   ]
  },
  {
   "cell_type": "code",
   "execution_count": 534,
   "metadata": {},
   "outputs": [],
   "source": [
    "#We are striping the strings from brackets\n",
    "data['genre'] = data['genre'].str.strip(\"[]\")"
   ]
  },
  {
   "cell_type": "code",
   "execution_count": 535,
   "metadata": {},
   "outputs": [],
   "source": [
    "#We are replacing ' by empty space\n",
    "data['genre'] = data['genre'].str.replace(\"'\",\"\")"
   ]
  },
  {
   "cell_type": "code",
   "execution_count": 536,
   "metadata": {},
   "outputs": [],
   "source": [
    "#We are creating a list at ','\n",
    "data['genre'] = data['genre'].str.split(',')"
   ]
  },
  {
   "cell_type": "code",
   "execution_count": 537,
   "metadata": {},
   "outputs": [],
   "source": [
    "#We are taking to first elemnts of the list\n",
    "data['genre'] = data['genre'].str[:2]"
   ]
  },
  {
   "cell_type": "code",
   "execution_count": 538,
   "metadata": {},
   "outputs": [],
   "source": [
    "#We create a column with the first genre\n",
    "data['genre1']= data['genre'].str[0]"
   ]
  },
  {
   "cell_type": "code",
   "execution_count": 539,
   "metadata": {},
   "outputs": [],
   "source": [
    "#We create a column with the second genre\n",
    "data['genre2']= data['genre'].str[1]"
   ]
  },
  {
   "cell_type": "code",
   "execution_count": 540,
   "metadata": {},
   "outputs": [],
   "source": [
    "#We can drop now genre column\n",
    "data.drop(columns='genre', inplace=True)"
   ]
  },
  {
   "cell_type": "code",
   "execution_count": 541,
   "metadata": {},
   "outputs": [
    {
     "data": {
      "text/html": [
       "<div>\n",
       "<style scoped>\n",
       "    .dataframe tbody tr th:only-of-type {\n",
       "        vertical-align: middle;\n",
       "    }\n",
       "\n",
       "    .dataframe tbody tr th {\n",
       "        vertical-align: top;\n",
       "    }\n",
       "\n",
       "    .dataframe thead th {\n",
       "        text-align: right;\n",
       "    }\n",
       "</style>\n",
       "<table border=\"1\" class=\"dataframe\">\n",
       "  <thead>\n",
       "    <tr style=\"text-align: right;\">\n",
       "      <th></th>\n",
       "      <th>year</th>\n",
       "      <th>kind</th>\n",
       "      <th>rating</th>\n",
       "      <th>vote</th>\n",
       "      <th>country</th>\n",
       "      <th>language</th>\n",
       "      <th>cast</th>\n",
       "      <th>director</th>\n",
       "      <th>composer</th>\n",
       "      <th>writer</th>\n",
       "      <th>runtime</th>\n",
       "      <th>genre1</th>\n",
       "      <th>genre2</th>\n",
       "    </tr>\n",
       "  </thead>\n",
       "  <tbody>\n",
       "    <tr>\n",
       "      <th>0</th>\n",
       "      <td>2003.0</td>\n",
       "      <td>tv mini series</td>\n",
       "      <td>7.7</td>\n",
       "      <td>474.0</td>\n",
       "      <td>['United States']</td>\n",
       "      <td>['English']</td>\n",
       "      <td>['Christian Slater', 'Scott Sampson']</td>\n",
       "      <td>NaN</td>\n",
       "      <td>NaN</td>\n",
       "      <td>['Mike Carrol', 'Mike Carroll', 'Georgann Kane']</td>\n",
       "      <td>50.0</td>\n",
       "      <td>Documentary</td>\n",
       "      <td>Animation</td>\n",
       "    </tr>\n",
       "    <tr>\n",
       "      <th>1</th>\n",
       "      <td>1994.0</td>\n",
       "      <td>video movie</td>\n",
       "      <td>8.1</td>\n",
       "      <td>18.0</td>\n",
       "      <td>['United States']</td>\n",
       "      <td>['English']</td>\n",
       "      <td>['Paula Abdul', 'Aurorah Allain', 'Bill Bohl',...</td>\n",
       "      <td>['Steve Purcell']</td>\n",
       "      <td>NaN</td>\n",
       "      <td>NaN</td>\n",
       "      <td>83.0</td>\n",
       "      <td>Family</td>\n",
       "      <td>NaN</td>\n",
       "    </tr>\n",
       "    <tr>\n",
       "      <th>2</th>\n",
       "      <td>1992.0</td>\n",
       "      <td>movie</td>\n",
       "      <td>5.5</td>\n",
       "      <td>93.0</td>\n",
       "      <td>['Japan']</td>\n",
       "      <td>['Japanese']</td>\n",
       "      <td>['Kai Shishido', 'Etsushi Takahashi', 'Sachiko...</td>\n",
       "      <td>['Yasuhiro Horiuchi']</td>\n",
       "      <td>['Carole King']</td>\n",
       "      <td>['Kazumasa Hirai', 'Jirô Kuwata', 'Junko Suzuki']</td>\n",
       "      <td>NaN</td>\n",
       "      <td>Action</td>\n",
       "      <td>Sci-Fi</td>\n",
       "    </tr>\n",
       "    <tr>\n",
       "      <th>3</th>\n",
       "      <td>2004.0</td>\n",
       "      <td>movie</td>\n",
       "      <td>5.3</td>\n",
       "      <td>13432.0</td>\n",
       "      <td>['United States']</td>\n",
       "      <td>['English', 'German', 'Spanish']</td>\n",
       "      <td>['Marlee Matlin', 'Elaine Hendrix', 'John Ross...</td>\n",
       "      <td>['William Arntz', 'Betsy Chasse', 'Mark Vicente']</td>\n",
       "      <td>['Christopher Franke']</td>\n",
       "      <td>['William Arntz', 'Betsy Chasse', 'Matthew Hof...</td>\n",
       "      <td>60.0</td>\n",
       "      <td>Documentary</td>\n",
       "      <td>Comedy</td>\n",
       "    </tr>\n",
       "    <tr>\n",
       "      <th>4</th>\n",
       "      <td>1991.0</td>\n",
       "      <td>movie</td>\n",
       "      <td>4.5</td>\n",
       "      <td>2177.0</td>\n",
       "      <td>['United States']</td>\n",
       "      <td>['English']</td>\n",
       "      <td>['Brick Bronsky', 'Lisa Gaye', 'Leesa Rowland'...</td>\n",
       "      <td>['Eric Louzil']</td>\n",
       "      <td>['Bob Mithoff']</td>\n",
       "      <td>['Lloyd Kaufman', 'Carl Morano', 'Matt Unger']</td>\n",
       "      <td>96.0</td>\n",
       "      <td>Comedy</td>\n",
       "      <td>Horror</td>\n",
       "    </tr>\n",
       "  </tbody>\n",
       "</table>\n",
       "</div>"
      ],
      "text/plain": [
       "     year            kind  rating     vote            country  \\\n",
       "0  2003.0  tv mini series     7.7    474.0  ['United States']   \n",
       "1  1994.0     video movie     8.1     18.0  ['United States']   \n",
       "2  1992.0           movie     5.5     93.0          ['Japan']   \n",
       "3  2004.0           movie     5.3  13432.0  ['United States']   \n",
       "4  1991.0           movie     4.5   2177.0  ['United States']   \n",
       "\n",
       "                           language  \\\n",
       "0                       ['English']   \n",
       "1                       ['English']   \n",
       "2                      ['Japanese']   \n",
       "3  ['English', 'German', 'Spanish']   \n",
       "4                       ['English']   \n",
       "\n",
       "                                                cast  \\\n",
       "0              ['Christian Slater', 'Scott Sampson']   \n",
       "1  ['Paula Abdul', 'Aurorah Allain', 'Bill Bohl',...   \n",
       "2  ['Kai Shishido', 'Etsushi Takahashi', 'Sachiko...   \n",
       "3  ['Marlee Matlin', 'Elaine Hendrix', 'John Ross...   \n",
       "4  ['Brick Bronsky', 'Lisa Gaye', 'Leesa Rowland'...   \n",
       "\n",
       "                                            director                composer  \\\n",
       "0                                                NaN                     NaN   \n",
       "1                                  ['Steve Purcell']                     NaN   \n",
       "2                              ['Yasuhiro Horiuchi']         ['Carole King']   \n",
       "3  ['William Arntz', 'Betsy Chasse', 'Mark Vicente']  ['Christopher Franke']   \n",
       "4                                    ['Eric Louzil']         ['Bob Mithoff']   \n",
       "\n",
       "                                              writer  runtime       genre1  \\\n",
       "0   ['Mike Carrol', 'Mike Carroll', 'Georgann Kane']     50.0  Documentary   \n",
       "1                                                NaN     83.0       Family   \n",
       "2  ['Kazumasa Hirai', 'Jirô Kuwata', 'Junko Suzuki']      NaN       Action   \n",
       "3  ['William Arntz', 'Betsy Chasse', 'Matthew Hof...     60.0  Documentary   \n",
       "4     ['Lloyd Kaufman', 'Carl Morano', 'Matt Unger']     96.0       Comedy   \n",
       "\n",
       "       genre2  \n",
       "0   Animation  \n",
       "1         NaN  \n",
       "2      Sci-Fi  \n",
       "3      Comedy  \n",
       "4      Horror  "
      ]
     },
     "execution_count": 541,
     "metadata": {},
     "output_type": "execute_result"
    }
   ],
   "source": [
    "data.head()"
   ]
  },
  {
   "cell_type": "code",
   "execution_count": 542,
   "metadata": {},
   "outputs": [
    {
     "data": {
      "text/plain": [
       "year           0\n",
       "kind           0\n",
       "rating       316\n",
       "vote         316\n",
       "country      299\n",
       "language     399\n",
       "cast         171\n",
       "director    1311\n",
       "composer    2729\n",
       "writer      1247\n",
       "runtime     1653\n",
       "genre1        67\n",
       "genre2      1952\n",
       "dtype: int64"
      ]
     },
     "execution_count": 542,
     "metadata": {},
     "output_type": "execute_result"
    }
   ],
   "source": [
    "data.isna().sum()"
   ]
  },
  {
   "cell_type": "markdown",
   "metadata": {},
   "source": [
    "### Rating column - Target"
   ]
  },
  {
   "cell_type": "markdown",
   "metadata": {},
   "source": [
    "We are deleting rows with missing values as we cannot work with it "
   ]
  },
  {
   "cell_type": "code",
   "execution_count": 543,
   "metadata": {},
   "outputs": [],
   "source": [
    "data =data.dropna(subset=['rating'])"
   ]
  },
  {
   "cell_type": "code",
   "execution_count": 544,
   "metadata": {},
   "outputs": [
    {
     "data": {
      "text/plain": [
       "year           0\n",
       "kind           0\n",
       "rating         0\n",
       "vote           0\n",
       "country      177\n",
       "language     283\n",
       "cast          89\n",
       "director    1135\n",
       "composer    2456\n",
       "writer      1034\n",
       "runtime     1605\n",
       "genre1        46\n",
       "genre2      1760\n",
       "dtype: int64"
      ]
     },
     "execution_count": 544,
     "metadata": {},
     "output_type": "execute_result"
    }
   ],
   "source": [
    "data.isna().sum()"
   ]
  },
  {
   "cell_type": "markdown",
   "metadata": {},
   "source": [
    "\n",
    "### Vote"
   ]
  },
  {
   "cell_type": "markdown",
   "metadata": {},
   "source": [
    "We suspect that there is a high correlation between vote and rating, we will verufy that and if it is a case we will drop vote column "
   ]
  },
  {
   "cell_type": "code",
   "execution_count": 545,
   "metadata": {},
   "outputs": [
    {
     "data": {
      "text/plain": [
       "0.14345913543783492"
      ]
     },
     "execution_count": 545,
     "metadata": {},
     "output_type": "execute_result"
    }
   ],
   "source": [
    "data.rating.corr(data.vote)"
   ]
  },
  {
   "cell_type": "markdown",
   "metadata": {},
   "source": [
    "### Country"
   ]
  },
  {
   "cell_type": "markdown",
   "metadata": {},
   "source": [
    "For the country column we decided to keep only the first country"
   ]
  },
  {
   "cell_type": "code",
   "execution_count": 546,
   "metadata": {},
   "outputs": [
    {
     "data": {
      "text/plain": [
       "['United States']                        3680\n",
       "['United Kingdom']                        717\n",
       "['Japan']                                 571\n",
       "['India']                                 241\n",
       "['Hong Kong']                             216\n",
       "                                         ... \n",
       "['France', 'Italy', 'Portugal']             1\n",
       "['Germany', 'Mongolia']                     1\n",
       "['Sweden', 'Norway']                        1\n",
       "['France', 'Martinique']                    1\n",
       "['Israel', 'France', 'United States']       1\n",
       "Name: country, Length: 649, dtype: int64"
      ]
     },
     "execution_count": 546,
     "metadata": {},
     "output_type": "execute_result"
    }
   ],
   "source": [
    "data.country.value_counts()"
   ]
  },
  {
   "cell_type": "code",
   "execution_count": 547,
   "metadata": {},
   "outputs": [],
   "source": [
    "#We are striping the strings from brackets\n",
    "data['country'] = data['country'].str.strip(\"[]\")"
   ]
  },
  {
   "cell_type": "code",
   "execution_count": 548,
   "metadata": {},
   "outputs": [],
   "source": [
    "#We are replacing ' by empty space\n",
    "data['country'] = data['country'].str.replace(\"'\",\"\")"
   ]
  },
  {
   "cell_type": "code",
   "execution_count": 549,
   "metadata": {},
   "outputs": [],
   "source": [
    "#We are creating a list at ','\n",
    "data['country'] = data['country'].str.split(',')"
   ]
  },
  {
   "cell_type": "code",
   "execution_count": 550,
   "metadata": {},
   "outputs": [],
   "source": [
    "#We are taking to first elemnts of the list\n",
    "data['country'] = data['country'].str[0]"
   ]
  },
  {
   "cell_type": "code",
   "execution_count": 551,
   "metadata": {},
   "outputs": [
    {
     "data": {
      "text/html": [
       "<div>\n",
       "<style scoped>\n",
       "    .dataframe tbody tr th:only-of-type {\n",
       "        vertical-align: middle;\n",
       "    }\n",
       "\n",
       "    .dataframe tbody tr th {\n",
       "        vertical-align: top;\n",
       "    }\n",
       "\n",
       "    .dataframe thead th {\n",
       "        text-align: right;\n",
       "    }\n",
       "</style>\n",
       "<table border=\"1\" class=\"dataframe\">\n",
       "  <thead>\n",
       "    <tr style=\"text-align: right;\">\n",
       "      <th></th>\n",
       "      <th>year</th>\n",
       "      <th>kind</th>\n",
       "      <th>rating</th>\n",
       "      <th>vote</th>\n",
       "      <th>country</th>\n",
       "      <th>language</th>\n",
       "      <th>cast</th>\n",
       "      <th>director</th>\n",
       "      <th>composer</th>\n",
       "      <th>writer</th>\n",
       "      <th>runtime</th>\n",
       "      <th>genre1</th>\n",
       "      <th>genre2</th>\n",
       "    </tr>\n",
       "  </thead>\n",
       "  <tbody>\n",
       "    <tr>\n",
       "      <th>0</th>\n",
       "      <td>2003.0</td>\n",
       "      <td>tv mini series</td>\n",
       "      <td>7.7</td>\n",
       "      <td>474.0</td>\n",
       "      <td>United States</td>\n",
       "      <td>['English']</td>\n",
       "      <td>['Christian Slater', 'Scott Sampson']</td>\n",
       "      <td>NaN</td>\n",
       "      <td>NaN</td>\n",
       "      <td>['Mike Carrol', 'Mike Carroll', 'Georgann Kane']</td>\n",
       "      <td>50.0</td>\n",
       "      <td>Documentary</td>\n",
       "      <td>Animation</td>\n",
       "    </tr>\n",
       "    <tr>\n",
       "      <th>1</th>\n",
       "      <td>1994.0</td>\n",
       "      <td>video movie</td>\n",
       "      <td>8.1</td>\n",
       "      <td>18.0</td>\n",
       "      <td>United States</td>\n",
       "      <td>['English']</td>\n",
       "      <td>['Paula Abdul', 'Aurorah Allain', 'Bill Bohl',...</td>\n",
       "      <td>['Steve Purcell']</td>\n",
       "      <td>NaN</td>\n",
       "      <td>NaN</td>\n",
       "      <td>83.0</td>\n",
       "      <td>Family</td>\n",
       "      <td>NaN</td>\n",
       "    </tr>\n",
       "    <tr>\n",
       "      <th>2</th>\n",
       "      <td>1992.0</td>\n",
       "      <td>movie</td>\n",
       "      <td>5.5</td>\n",
       "      <td>93.0</td>\n",
       "      <td>Japan</td>\n",
       "      <td>['Japanese']</td>\n",
       "      <td>['Kai Shishido', 'Etsushi Takahashi', 'Sachiko...</td>\n",
       "      <td>['Yasuhiro Horiuchi']</td>\n",
       "      <td>['Carole King']</td>\n",
       "      <td>['Kazumasa Hirai', 'Jirô Kuwata', 'Junko Suzuki']</td>\n",
       "      <td>NaN</td>\n",
       "      <td>Action</td>\n",
       "      <td>Sci-Fi</td>\n",
       "    </tr>\n",
       "    <tr>\n",
       "      <th>3</th>\n",
       "      <td>2004.0</td>\n",
       "      <td>movie</td>\n",
       "      <td>5.3</td>\n",
       "      <td>13432.0</td>\n",
       "      <td>United States</td>\n",
       "      <td>['English', 'German', 'Spanish']</td>\n",
       "      <td>['Marlee Matlin', 'Elaine Hendrix', 'John Ross...</td>\n",
       "      <td>['William Arntz', 'Betsy Chasse', 'Mark Vicente']</td>\n",
       "      <td>['Christopher Franke']</td>\n",
       "      <td>['William Arntz', 'Betsy Chasse', 'Matthew Hof...</td>\n",
       "      <td>60.0</td>\n",
       "      <td>Documentary</td>\n",
       "      <td>Comedy</td>\n",
       "    </tr>\n",
       "    <tr>\n",
       "      <th>4</th>\n",
       "      <td>1991.0</td>\n",
       "      <td>movie</td>\n",
       "      <td>4.5</td>\n",
       "      <td>2177.0</td>\n",
       "      <td>United States</td>\n",
       "      <td>['English']</td>\n",
       "      <td>['Brick Bronsky', 'Lisa Gaye', 'Leesa Rowland'...</td>\n",
       "      <td>['Eric Louzil']</td>\n",
       "      <td>['Bob Mithoff']</td>\n",
       "      <td>['Lloyd Kaufman', 'Carl Morano', 'Matt Unger']</td>\n",
       "      <td>96.0</td>\n",
       "      <td>Comedy</td>\n",
       "      <td>Horror</td>\n",
       "    </tr>\n",
       "  </tbody>\n",
       "</table>\n",
       "</div>"
      ],
      "text/plain": [
       "     year            kind  rating     vote        country  \\\n",
       "0  2003.0  tv mini series     7.7    474.0  United States   \n",
       "1  1994.0     video movie     8.1     18.0  United States   \n",
       "2  1992.0           movie     5.5     93.0          Japan   \n",
       "3  2004.0           movie     5.3  13432.0  United States   \n",
       "4  1991.0           movie     4.5   2177.0  United States   \n",
       "\n",
       "                           language  \\\n",
       "0                       ['English']   \n",
       "1                       ['English']   \n",
       "2                      ['Japanese']   \n",
       "3  ['English', 'German', 'Spanish']   \n",
       "4                       ['English']   \n",
       "\n",
       "                                                cast  \\\n",
       "0              ['Christian Slater', 'Scott Sampson']   \n",
       "1  ['Paula Abdul', 'Aurorah Allain', 'Bill Bohl',...   \n",
       "2  ['Kai Shishido', 'Etsushi Takahashi', 'Sachiko...   \n",
       "3  ['Marlee Matlin', 'Elaine Hendrix', 'John Ross...   \n",
       "4  ['Brick Bronsky', 'Lisa Gaye', 'Leesa Rowland'...   \n",
       "\n",
       "                                            director                composer  \\\n",
       "0                                                NaN                     NaN   \n",
       "1                                  ['Steve Purcell']                     NaN   \n",
       "2                              ['Yasuhiro Horiuchi']         ['Carole King']   \n",
       "3  ['William Arntz', 'Betsy Chasse', 'Mark Vicente']  ['Christopher Franke']   \n",
       "4                                    ['Eric Louzil']         ['Bob Mithoff']   \n",
       "\n",
       "                                              writer  runtime       genre1  \\\n",
       "0   ['Mike Carrol', 'Mike Carroll', 'Georgann Kane']     50.0  Documentary   \n",
       "1                                                NaN     83.0       Family   \n",
       "2  ['Kazumasa Hirai', 'Jirô Kuwata', 'Junko Suzuki']      NaN       Action   \n",
       "3  ['William Arntz', 'Betsy Chasse', 'Matthew Hof...     60.0  Documentary   \n",
       "4     ['Lloyd Kaufman', 'Carl Morano', 'Matt Unger']     96.0       Comedy   \n",
       "\n",
       "       genre2  \n",
       "0   Animation  \n",
       "1         NaN  \n",
       "2      Sci-Fi  \n",
       "3      Comedy  \n",
       "4      Horror  "
      ]
     },
     "execution_count": 551,
     "metadata": {},
     "output_type": "execute_result"
    }
   ],
   "source": [
    "data.head()"
   ]
  },
  {
   "cell_type": "code",
   "execution_count": 552,
   "metadata": {},
   "outputs": [
    {
     "data": {
      "text/plain": [
       "United States              4068\n",
       "United Kingdom             1035\n",
       "Japan                       606\n",
       "Canada                      366\n",
       "France                      347\n",
       "                           ... \n",
       "Indonesia                     1\n",
       "Armenia                       1\n",
       "Palestinian Territories       1\n",
       "Chile                         1\n",
       "Colombia                      1\n",
       "Name: country, Length: 67, dtype: int64"
      ]
     },
     "execution_count": 552,
     "metadata": {},
     "output_type": "execute_result"
    }
   ],
   "source": [
    "data.country.value_counts()"
   ]
  },
  {
   "cell_type": "code",
   "execution_count": 553,
   "metadata": {},
   "outputs": [
    {
     "data": {
      "text/plain": [
       "177"
      ]
     },
     "execution_count": 553,
     "metadata": {},
     "output_type": "execute_result"
    }
   ],
   "source": [
    "data.country.isna().sum()"
   ]
  },
  {
   "cell_type": "code",
   "execution_count": 554,
   "metadata": {},
   "outputs": [
    {
     "data": {
      "text/plain": [
       "2.175783650891211"
      ]
     },
     "execution_count": 554,
     "metadata": {},
     "output_type": "execute_result"
    }
   ],
   "source": [
    "#The missing values in the country column represent 2,17% of data, so we decide to drop these rows\n",
    "(data.country.isna().sum()/data.shape[0])*100"
   ]
  },
  {
   "cell_type": "code",
   "execution_count": 555,
   "metadata": {},
   "outputs": [],
   "source": [
    "data =data.dropna(subset=['country'])"
   ]
  },
  {
   "cell_type": "code",
   "execution_count": 556,
   "metadata": {},
   "outputs": [
    {
     "data": {
      "text/plain": [
       "year           0\n",
       "kind           0\n",
       "rating         0\n",
       "vote           0\n",
       "country        0\n",
       "language     130\n",
       "cast          71\n",
       "director    1045\n",
       "composer    2345\n",
       "writer       984\n",
       "runtime     1577\n",
       "genre1        42\n",
       "genre2      1716\n",
       "dtype: int64"
      ]
     },
     "execution_count": 556,
     "metadata": {},
     "output_type": "execute_result"
    }
   ],
   "source": [
    "data.isna().sum()"
   ]
  },
  {
   "cell_type": "markdown",
   "metadata": {},
   "source": [
    "### Language"
   ]
  },
  {
   "cell_type": "code",
   "execution_count": 557,
   "metadata": {},
   "outputs": [
    {
     "data": {
      "text/plain": [
       "['English']                                                           4844\n",
       "['Japanese']                                                           394\n",
       "['Hindi']                                                              192\n",
       "['French']                                                             173\n",
       "['English', 'French']                                                  120\n",
       "                                                                      ... \n",
       "['Japanese', 'English', 'Mandarin']                                      1\n",
       "['English', 'Bosnian', 'Croatian', 'Serbian']                            1\n",
       "['Chinese', 'Mandarin', 'Japanese', 'Korean', 'French', 'English']       1\n",
       "['English', 'Dari']                                                      1\n",
       "['English', 'Spanish', 'Russian']                                        1\n",
       "Name: language, Length: 704, dtype: int64"
      ]
     },
     "execution_count": 557,
     "metadata": {},
     "output_type": "execute_result"
    }
   ],
   "source": [
    "data.language.value_counts()"
   ]
  },
  {
   "cell_type": "code",
   "execution_count": 558,
   "metadata": {},
   "outputs": [
    {
     "data": {
      "text/html": [
       "<div>\n",
       "<style scoped>\n",
       "    .dataframe tbody tr th:only-of-type {\n",
       "        vertical-align: middle;\n",
       "    }\n",
       "\n",
       "    .dataframe tbody tr th {\n",
       "        vertical-align: top;\n",
       "    }\n",
       "\n",
       "    .dataframe thead th {\n",
       "        text-align: right;\n",
       "    }\n",
       "</style>\n",
       "<table border=\"1\" class=\"dataframe\">\n",
       "  <thead>\n",
       "    <tr style=\"text-align: right;\">\n",
       "      <th></th>\n",
       "      <th>year</th>\n",
       "      <th>kind</th>\n",
       "      <th>rating</th>\n",
       "      <th>vote</th>\n",
       "      <th>country</th>\n",
       "      <th>language</th>\n",
       "      <th>cast</th>\n",
       "      <th>director</th>\n",
       "      <th>composer</th>\n",
       "      <th>writer</th>\n",
       "      <th>runtime</th>\n",
       "      <th>genre1</th>\n",
       "      <th>genre2</th>\n",
       "    </tr>\n",
       "  </thead>\n",
       "  <tbody>\n",
       "    <tr>\n",
       "      <th>0</th>\n",
       "      <td>2003.0</td>\n",
       "      <td>tv mini series</td>\n",
       "      <td>7.7</td>\n",
       "      <td>474.0</td>\n",
       "      <td>United States</td>\n",
       "      <td>['English']</td>\n",
       "      <td>['Christian Slater', 'Scott Sampson']</td>\n",
       "      <td>NaN</td>\n",
       "      <td>NaN</td>\n",
       "      <td>['Mike Carrol', 'Mike Carroll', 'Georgann Kane']</td>\n",
       "      <td>50.0</td>\n",
       "      <td>Documentary</td>\n",
       "      <td>Animation</td>\n",
       "    </tr>\n",
       "    <tr>\n",
       "      <th>1</th>\n",
       "      <td>1994.0</td>\n",
       "      <td>video movie</td>\n",
       "      <td>8.1</td>\n",
       "      <td>18.0</td>\n",
       "      <td>United States</td>\n",
       "      <td>['English']</td>\n",
       "      <td>['Paula Abdul', 'Aurorah Allain', 'Bill Bohl',...</td>\n",
       "      <td>['Steve Purcell']</td>\n",
       "      <td>NaN</td>\n",
       "      <td>NaN</td>\n",
       "      <td>83.0</td>\n",
       "      <td>Family</td>\n",
       "      <td>NaN</td>\n",
       "    </tr>\n",
       "    <tr>\n",
       "      <th>2</th>\n",
       "      <td>1992.0</td>\n",
       "      <td>movie</td>\n",
       "      <td>5.5</td>\n",
       "      <td>93.0</td>\n",
       "      <td>Japan</td>\n",
       "      <td>['Japanese']</td>\n",
       "      <td>['Kai Shishido', 'Etsushi Takahashi', 'Sachiko...</td>\n",
       "      <td>['Yasuhiro Horiuchi']</td>\n",
       "      <td>['Carole King']</td>\n",
       "      <td>['Kazumasa Hirai', 'Jirô Kuwata', 'Junko Suzuki']</td>\n",
       "      <td>NaN</td>\n",
       "      <td>Action</td>\n",
       "      <td>Sci-Fi</td>\n",
       "    </tr>\n",
       "    <tr>\n",
       "      <th>3</th>\n",
       "      <td>2004.0</td>\n",
       "      <td>movie</td>\n",
       "      <td>5.3</td>\n",
       "      <td>13432.0</td>\n",
       "      <td>United States</td>\n",
       "      <td>['English', 'German', 'Spanish']</td>\n",
       "      <td>['Marlee Matlin', 'Elaine Hendrix', 'John Ross...</td>\n",
       "      <td>['William Arntz', 'Betsy Chasse', 'Mark Vicente']</td>\n",
       "      <td>['Christopher Franke']</td>\n",
       "      <td>['William Arntz', 'Betsy Chasse', 'Matthew Hof...</td>\n",
       "      <td>60.0</td>\n",
       "      <td>Documentary</td>\n",
       "      <td>Comedy</td>\n",
       "    </tr>\n",
       "    <tr>\n",
       "      <th>4</th>\n",
       "      <td>1991.0</td>\n",
       "      <td>movie</td>\n",
       "      <td>4.5</td>\n",
       "      <td>2177.0</td>\n",
       "      <td>United States</td>\n",
       "      <td>['English']</td>\n",
       "      <td>['Brick Bronsky', 'Lisa Gaye', 'Leesa Rowland'...</td>\n",
       "      <td>['Eric Louzil']</td>\n",
       "      <td>['Bob Mithoff']</td>\n",
       "      <td>['Lloyd Kaufman', 'Carl Morano', 'Matt Unger']</td>\n",
       "      <td>96.0</td>\n",
       "      <td>Comedy</td>\n",
       "      <td>Horror</td>\n",
       "    </tr>\n",
       "  </tbody>\n",
       "</table>\n",
       "</div>"
      ],
      "text/plain": [
       "     year            kind  rating     vote        country  \\\n",
       "0  2003.0  tv mini series     7.7    474.0  United States   \n",
       "1  1994.0     video movie     8.1     18.0  United States   \n",
       "2  1992.0           movie     5.5     93.0          Japan   \n",
       "3  2004.0           movie     5.3  13432.0  United States   \n",
       "4  1991.0           movie     4.5   2177.0  United States   \n",
       "\n",
       "                           language  \\\n",
       "0                       ['English']   \n",
       "1                       ['English']   \n",
       "2                      ['Japanese']   \n",
       "3  ['English', 'German', 'Spanish']   \n",
       "4                       ['English']   \n",
       "\n",
       "                                                cast  \\\n",
       "0              ['Christian Slater', 'Scott Sampson']   \n",
       "1  ['Paula Abdul', 'Aurorah Allain', 'Bill Bohl',...   \n",
       "2  ['Kai Shishido', 'Etsushi Takahashi', 'Sachiko...   \n",
       "3  ['Marlee Matlin', 'Elaine Hendrix', 'John Ross...   \n",
       "4  ['Brick Bronsky', 'Lisa Gaye', 'Leesa Rowland'...   \n",
       "\n",
       "                                            director                composer  \\\n",
       "0                                                NaN                     NaN   \n",
       "1                                  ['Steve Purcell']                     NaN   \n",
       "2                              ['Yasuhiro Horiuchi']         ['Carole King']   \n",
       "3  ['William Arntz', 'Betsy Chasse', 'Mark Vicente']  ['Christopher Franke']   \n",
       "4                                    ['Eric Louzil']         ['Bob Mithoff']   \n",
       "\n",
       "                                              writer  runtime       genre1  \\\n",
       "0   ['Mike Carrol', 'Mike Carroll', 'Georgann Kane']     50.0  Documentary   \n",
       "1                                                NaN     83.0       Family   \n",
       "2  ['Kazumasa Hirai', 'Jirô Kuwata', 'Junko Suzuki']      NaN       Action   \n",
       "3  ['William Arntz', 'Betsy Chasse', 'Matthew Hof...     60.0  Documentary   \n",
       "4     ['Lloyd Kaufman', 'Carl Morano', 'Matt Unger']     96.0       Comedy   \n",
       "\n",
       "       genre2  \n",
       "0   Animation  \n",
       "1         NaN  \n",
       "2      Sci-Fi  \n",
       "3      Comedy  \n",
       "4      Horror  "
      ]
     },
     "execution_count": 558,
     "metadata": {},
     "output_type": "execute_result"
    }
   ],
   "source": [
    "data.head()"
   ]
  },
  {
   "cell_type": "markdown",
   "metadata": {},
   "source": [
    "We see and suspect that the country is correlated with the language. Thus we can drop that column as coutry column bears the same information."
   ]
  },
  {
   "cell_type": "code",
   "execution_count": 559,
   "metadata": {},
   "outputs": [],
   "source": [
    "data.drop(columns='language', inplace=True)"
   ]
  },
  {
   "cell_type": "markdown",
   "metadata": {},
   "source": [
    "### Cast"
   ]
  },
  {
   "cell_type": "code",
   "execution_count": 560,
   "metadata": {},
   "outputs": [
    {
     "data": {
      "text/plain": [
       "['Rod Serling', 'Robert McCord', 'Jay Overholts', 'Vaughn Taylor', 'David Armstrong', 'James Turley', 'Jack Klugman', 'Burgess Meredith', 'John Anderson', \"J. Pat O'Malley\", 'Barney Phillips', 'George Mitchell', 'Cyril Delevanti', 'Jon Lormer', 'John McLiam', 'Bill Erwin', 'Nan Peterson', 'Lew Brown', 'S. John Launer', 'Gladys Cooper', 'Albert Salmi', 'John Dehner', 'John Larch', 'James Best', 'Gail Kobe', 'Paul Comi', 'Michael Fox', 'Bill Mumy', 'Wallace Rooney', 'Oscar Beregi Jr.', 'Ben Wright', 'Vladimir Sokoloff', 'Raymond Bailey', 'Stafford Repp', 'Paul Mazursky', 'Russ Bender', 'Marjorie Bennett', 'Don Keefer', 'Lew Gallo', 'Hugh Sanders', 'Sandy Kenyon', 'James Millhollin', 'Mary Gregory', \"Pat O'Malley\", 'Arch Johnson', 'Hank Patterson', 'Morgan Brittany', 'Jason Wingreen', 'Joseph V. Perry', 'Milton Parsons']                                                  42\n",
       "['Clyde Brown', 'Eric Gruendemann', 'Lucy Lawless', 'William Gregory Lee', 'Hudson Leick', \"Renée O'Connor\", 'Ted Raimi', 'Rob Tapert', 'Alexandra Tydings', 'Adrienne Wilkinson']                                                                                                                                                                                                                                                                                                                                                                                                                                                                                                                                                                                                                                                                                                                              7\n",
       "['Sarah Michelle Gellar', 'Nicholas Brendon', 'Alyson Hannigan', 'Anthony Head', 'James Marsters', 'Emma Caulfield Ford', 'Michelle Trachtenberg', 'Kristine Sutherland', 'Charisma Carpenter', 'David Boreanaz', 'Amber Benson', 'Seth Green', 'Marc Blucas', 'Danny Strong', 'Tom Lenk', 'Eliza Dushku', 'Armin Shimerman', 'Juliet Landau', 'Adam Busch', 'Mercedes McNab', 'Robia Scott', 'Charlie Weber', 'Harry Groener', 'D.B. Woodside', 'Clare Kramer', 'Iyari Limon', 'Bailey Chase', 'Leonard Roberts', 'Sarah Hagan', 'Alexis Denisof', 'George Hertzberg', 'Lindsay Crouse', 'Mark Metcalf', 'Elizabeth Anne Allen', 'Indigo', 'Jason Hall', 'James C. Leary', 'Felicia Day', 'Kali Rocha', 'Andrew J. Ferchland', 'Julie Benz', 'Troy Blendell', 'Larry Bagby', 'Camden Toy', 'Todd Duffey', 'Kristy Wu', 'Neil Daly', 'Adam Kaufman', 'Nathan Fillion', 'K. Todd Freeman']                       7\n",
       "['Patrick Stewart', 'Jonathan Frakes', 'LeVar Burton', 'Marina Sirtis', 'Brent Spiner', 'Michael Dorn', 'Gates McFadden', 'Majel Barrett', 'Wil Wheaton', 'Colm Meaney', 'James G. Becker', 'Denise Crosby', 'Whoopi Goldberg', 'Diana Muldaur', 'Patti Yasutake', 'Nora Leonhardt', 'Dennis Madalone', 'Michelle Forbes', 'Rosalind Chao', 'John de Lancie', 'Brian Bonsall', 'Dwight Schultz', \"Robert O'Reilly\", 'Sheila Franklin', 'Carel Struycken', 'April Grace', 'Natalija Nogulich', 'Lanei Chapman', 'Andreas Katsulas', 'Michael Rider', 'Armin Shimerman', 'Marc Alaimo', 'Jerry Hardin', 'Brian Cousins', 'Carolyn Seymour', 'Suzie Plakson', 'James Cromwell', 'Tony Todd', 'John Durbin', 'Clyde Kusatsu', 'Barbara March', 'Peter Marx', 'Gwynyth Walsh', 'Norman Large', 'Pamela Winslow Kashani', 'Ken Thorley', 'Eric Menyuk', \"Rickey D'Shon Collins\", 'Rhonda Aldrich', 'Brad Zerbst']     7\n",
       "['Kevin Sorbo', 'Michael Hurst', 'Kevin Smith', 'Robert Trebor', 'Jeffrey Thomas', 'Paul Norell', 'Bruce Campbell', 'Alexandra Tydings', 'Liddy Holloway', 'Tamara Gorski', 'Gina Torres', 'Joel Tobeck', 'Lucy Lawless', 'Meighan Desmond', 'Lisa Chappell', 'Jason Tahu', 'Sam Sorbo', 'Patrick Kake', 'Elizabeth Hawthorne', 'Bruce Allpress', 'Mark Nua', 'Kim Michalis', 'Bruce Hopkins', 'Campbell Rousselle', \"Dean O'Gorman\", 'Hudson Leick', 'Patrick Wilson', 'Nicko Vella', 'John Sumner', 'Jon Brazier', 'Stephen Papps', 'John Watson', 'Stephen Hall', 'David Mackie', 'Stuart Devenie', 'Matthew Chamberlain', 'Peter McCauley', 'Ian Bohen', \"Renée O'Connor\", 'Josephine Davison', 'Derek Payne', 'Alistair Browning', 'Nathaniel Lees', 'John Dybvig', 'Ross Campbell', 'Norman Forsey', \"Willa O'Neill\", 'Simone Kessell', 'Erik Thomson', 'Peter Muller']                                   6\n",
       "                                                                                                                                                                                                                                                                                                                                                                                                                                                                                                                                                                                                                                                                                                                                                                                                                                                                                                               ..\n",
       "['Steve Austin', 'Mark Calaway', 'Bret Hart']                                                                                                                                                                                                                                                                                                                                                                                                                                                                                                                                                                                                                                                                                                                                                                                                                                                                   1\n",
       "['Iron Maiden', 'Bruce Dickinson', 'Dave Murray', 'Janick Gers', 'Adrian Smith', 'Steve Harris', 'Nicko McBrain']                                                                                                                                                                                                                                                                                                                                                                                                                                                                                                                                                                                                                                                                                                                                                                                               1\n",
       "['Andy Griffith', 'Ron Howard', 'Frances Bavier', 'Don Knotts', 'Colin Male', 'George Lindsey', 'Howard McNear', 'Tom Jacobs', 'Aneta Corsaut', 'Jack Dodson', 'Hal Smith', 'Hope Summers', 'Betty Lynn', 'Jim Nabors', 'Paul Hartman', 'Mary Lansing', 'Burt Mustin', 'Robert McQuain', 'Richard Keith', 'Elinor Donahue', 'Jack Burns', 'Dick Elliott', 'Joseph Hamilton', 'Joseph Crehan', 'Sheldon Collins', 'Allan Melvin', 'Dennis Rush', 'Roy Engel', 'Howard Morris', 'Ronda Jeter', 'Parley Baer', 'Charles Thompson', 'Denver Pyle', 'Cheerio Meredith', 'Forrest Lewis', 'Maggie Mancuso', 'Jack Prince', 'William Keene', 'Norman Leavitt', 'Janet Stewart', 'Joy Ellison', 'Doug Dillard', 'Rodney Dillard', 'Mitch Jayne', 'Dean Webb', 'Frank Ferguson', 'Olan Soule', 'Amzie Strickland', 'The Dillards', 'Sherwood Keith']                                                                     1\n",
       "['Cher', 'Lucille Ball', 'David Barry', 'Shannon Beach', 'Sonny Bono', 'David Bowie', 'Carol Burnett', 'George Burns', 'Stacy Campbell', 'Bubba Carr', 'Tim Conway', 'Pattie Darcy', 'Olympia Dukakis', 'Suzanne Easter', 'Sam Elliott', 'Bob Hoskins', 'Janet Jackson', 'Michael Jackson', 'Elton John', 'Jerry Lewis', 'Liberace', 'Ollie Marland', 'Paul Mirkovich', 'Jack Nicholson', 'Michelle Pfeiffer', 'Christina Ricci', 'Winona Ryder', 'Susan Sarandon', 'Mark Schulman', 'Bill Sharpe', 'Eric Stoltz', 'Jamal Story', 'Lily Tomlin', 'Tina Turner', 'Salvatore Vassallo', 'Dreya Weber', 'Kevin Wilson', 'Addie Yungmee']                                                                                                                                                                                                                                                                           1\n",
       "['Arnold Schwarzenegger', 'Carl Weathers', 'Elpidia Carrillo', 'Bill Duke', 'Jesse Ventura', 'Sonny Landham', 'Richard Chaves', 'R.G. Armstrong', 'Shane Black', 'Kevin Peter Hall', 'Steve Boyum', 'William H. Burton Jr.', 'Franco Columbu', 'Peter Cullen', 'Henry Kingi', 'Sven-Ole Thorsen', 'Jack Verbois']                                                                                                                                                                                                                                                                                                                                                                                                                                                                                                                                                                                               1\n",
       "Name: cast, Length: 7545, dtype: int64"
      ]
     },
     "execution_count": 560,
     "metadata": {},
     "output_type": "execute_result"
    }
   ],
   "source": [
    "data.cast.value_counts()"
   ]
  },
  {
   "cell_type": "code",
   "execution_count": 561,
   "metadata": {},
   "outputs": [
    {
     "data": {
      "text/plain": [
       "71"
      ]
     },
     "execution_count": 561,
     "metadata": {},
     "output_type": "execute_result"
    }
   ],
   "source": [
    "data.cast.isna().sum()"
   ]
  },
  {
   "cell_type": "markdown",
   "metadata": {},
   "source": [
    "We assume that the fisrt actor in the cast is the most important one. So firstly we will just get the fisrt actor. Then we will see what to do with the column. Maybe there is too much variaty in that column and then we will have to drop it."
   ]
  },
  {
   "cell_type": "code",
   "execution_count": 562,
   "metadata": {},
   "outputs": [],
   "source": [
    "#We are striping the strings from brackets\n",
    "data['cast'] = data['cast'].str.strip(\"[]\")\n",
    "#We are replacing ' by empty space\n",
    "data['cast'] = data['cast'].str.replace(\"'\",\"\")\n",
    "#We are creating a list at ','\n",
    "data['cast'] = data['cast'].str.split(',')\n",
    "#We are taking to first elemnts of the list\n",
    "data['cast'] = data['cast'].str[0]"
   ]
  },
  {
   "cell_type": "code",
   "execution_count": 563,
   "metadata": {},
   "outputs": [
    {
     "data": {
      "text/html": [
       "<div>\n",
       "<style scoped>\n",
       "    .dataframe tbody tr th:only-of-type {\n",
       "        vertical-align: middle;\n",
       "    }\n",
       "\n",
       "    .dataframe tbody tr th {\n",
       "        vertical-align: top;\n",
       "    }\n",
       "\n",
       "    .dataframe thead th {\n",
       "        text-align: right;\n",
       "    }\n",
       "</style>\n",
       "<table border=\"1\" class=\"dataframe\">\n",
       "  <thead>\n",
       "    <tr style=\"text-align: right;\">\n",
       "      <th></th>\n",
       "      <th>year</th>\n",
       "      <th>kind</th>\n",
       "      <th>rating</th>\n",
       "      <th>vote</th>\n",
       "      <th>country</th>\n",
       "      <th>cast</th>\n",
       "      <th>director</th>\n",
       "      <th>composer</th>\n",
       "      <th>writer</th>\n",
       "      <th>runtime</th>\n",
       "      <th>genre1</th>\n",
       "      <th>genre2</th>\n",
       "    </tr>\n",
       "  </thead>\n",
       "  <tbody>\n",
       "    <tr>\n",
       "      <th>0</th>\n",
       "      <td>2003.0</td>\n",
       "      <td>tv mini series</td>\n",
       "      <td>7.7</td>\n",
       "      <td>474.0</td>\n",
       "      <td>United States</td>\n",
       "      <td>Christian Slater</td>\n",
       "      <td>NaN</td>\n",
       "      <td>NaN</td>\n",
       "      <td>['Mike Carrol', 'Mike Carroll', 'Georgann Kane']</td>\n",
       "      <td>50.0</td>\n",
       "      <td>Documentary</td>\n",
       "      <td>Animation</td>\n",
       "    </tr>\n",
       "    <tr>\n",
       "      <th>1</th>\n",
       "      <td>1994.0</td>\n",
       "      <td>video movie</td>\n",
       "      <td>8.1</td>\n",
       "      <td>18.0</td>\n",
       "      <td>United States</td>\n",
       "      <td>Paula Abdul</td>\n",
       "      <td>['Steve Purcell']</td>\n",
       "      <td>NaN</td>\n",
       "      <td>NaN</td>\n",
       "      <td>83.0</td>\n",
       "      <td>Family</td>\n",
       "      <td>NaN</td>\n",
       "    </tr>\n",
       "    <tr>\n",
       "      <th>2</th>\n",
       "      <td>1992.0</td>\n",
       "      <td>movie</td>\n",
       "      <td>5.5</td>\n",
       "      <td>93.0</td>\n",
       "      <td>Japan</td>\n",
       "      <td>Kai Shishido</td>\n",
       "      <td>['Yasuhiro Horiuchi']</td>\n",
       "      <td>['Carole King']</td>\n",
       "      <td>['Kazumasa Hirai', 'Jirô Kuwata', 'Junko Suzuki']</td>\n",
       "      <td>NaN</td>\n",
       "      <td>Action</td>\n",
       "      <td>Sci-Fi</td>\n",
       "    </tr>\n",
       "    <tr>\n",
       "      <th>3</th>\n",
       "      <td>2004.0</td>\n",
       "      <td>movie</td>\n",
       "      <td>5.3</td>\n",
       "      <td>13432.0</td>\n",
       "      <td>United States</td>\n",
       "      <td>Marlee Matlin</td>\n",
       "      <td>['William Arntz', 'Betsy Chasse', 'Mark Vicente']</td>\n",
       "      <td>['Christopher Franke']</td>\n",
       "      <td>['William Arntz', 'Betsy Chasse', 'Matthew Hof...</td>\n",
       "      <td>60.0</td>\n",
       "      <td>Documentary</td>\n",
       "      <td>Comedy</td>\n",
       "    </tr>\n",
       "    <tr>\n",
       "      <th>4</th>\n",
       "      <td>1991.0</td>\n",
       "      <td>movie</td>\n",
       "      <td>4.5</td>\n",
       "      <td>2177.0</td>\n",
       "      <td>United States</td>\n",
       "      <td>Brick Bronsky</td>\n",
       "      <td>['Eric Louzil']</td>\n",
       "      <td>['Bob Mithoff']</td>\n",
       "      <td>['Lloyd Kaufman', 'Carl Morano', 'Matt Unger']</td>\n",
       "      <td>96.0</td>\n",
       "      <td>Comedy</td>\n",
       "      <td>Horror</td>\n",
       "    </tr>\n",
       "  </tbody>\n",
       "</table>\n",
       "</div>"
      ],
      "text/plain": [
       "     year            kind  rating     vote        country              cast  \\\n",
       "0  2003.0  tv mini series     7.7    474.0  United States  Christian Slater   \n",
       "1  1994.0     video movie     8.1     18.0  United States       Paula Abdul   \n",
       "2  1992.0           movie     5.5     93.0          Japan      Kai Shishido   \n",
       "3  2004.0           movie     5.3  13432.0  United States     Marlee Matlin   \n",
       "4  1991.0           movie     4.5   2177.0  United States     Brick Bronsky   \n",
       "\n",
       "                                            director                composer  \\\n",
       "0                                                NaN                     NaN   \n",
       "1                                  ['Steve Purcell']                     NaN   \n",
       "2                              ['Yasuhiro Horiuchi']         ['Carole King']   \n",
       "3  ['William Arntz', 'Betsy Chasse', 'Mark Vicente']  ['Christopher Franke']   \n",
       "4                                    ['Eric Louzil']         ['Bob Mithoff']   \n",
       "\n",
       "                                              writer  runtime       genre1  \\\n",
       "0   ['Mike Carrol', 'Mike Carroll', 'Georgann Kane']     50.0  Documentary   \n",
       "1                                                NaN     83.0       Family   \n",
       "2  ['Kazumasa Hirai', 'Jirô Kuwata', 'Junko Suzuki']      NaN       Action   \n",
       "3  ['William Arntz', 'Betsy Chasse', 'Matthew Hof...     60.0  Documentary   \n",
       "4     ['Lloyd Kaufman', 'Carl Morano', 'Matt Unger']     96.0       Comedy   \n",
       "\n",
       "       genre2  \n",
       "0   Animation  \n",
       "1         NaN  \n",
       "2      Sci-Fi  \n",
       "3      Comedy  \n",
       "4      Horror  "
      ]
     },
     "execution_count": 563,
     "metadata": {},
     "output_type": "execute_result"
    }
   ],
   "source": [
    "data.head()"
   ]
  },
  {
   "cell_type": "code",
   "execution_count": 564,
   "metadata": {},
   "outputs": [
    {
     "data": {
      "text/plain": [
       "Rod Serling           42\n",
       "Jackie Chan           30\n",
       "John Nettles          27\n",
       "Amitabh Bachchan      25\n",
       "Andy Lau              20\n",
       "                      ..\n",
       "Jessica Tuck           1\n",
       "Julie Aigner-Clark     1\n",
       "Clayton Halsey         1\n",
       "Anna Geislerová        1\n",
       "Tomonori Yazaki        1\n",
       "Name: cast, Length: 4842, dtype: int64"
      ]
     },
     "execution_count": 564,
     "metadata": {},
     "output_type": "execute_result"
    }
   ],
   "source": [
    "data.cast.value_counts()"
   ]
  },
  {
   "cell_type": "code",
   "execution_count": 565,
   "metadata": {},
   "outputs": [
    {
     "data": {
      "text/plain": [
       "4843"
      ]
     },
     "execution_count": 565,
     "metadata": {},
     "output_type": "execute_result"
    }
   ],
   "source": [
    "len(data.cast.unique())"
   ]
  },
  {
   "cell_type": "markdown",
   "metadata": {},
   "source": [
    "We think that there is too much variaty in that column so we decided to drop it."
   ]
  },
  {
   "cell_type": "code",
   "execution_count": 566,
   "metadata": {},
   "outputs": [],
   "source": [
    "data.drop(columns='cast', inplace=True)"
   ]
  },
  {
   "cell_type": "markdown",
   "metadata": {},
   "source": [
    "### Director"
   ]
  },
  {
   "cell_type": "code",
   "execution_count": 567,
   "metadata": {},
   "outputs": [
    {
     "data": {
      "text/plain": [
       "year           0\n",
       "kind           0\n",
       "rating         0\n",
       "vote           0\n",
       "country        0\n",
       "director    1045\n",
       "composer    2345\n",
       "writer       984\n",
       "runtime     1577\n",
       "genre1        42\n",
       "genre2      1716\n",
       "dtype: int64"
      ]
     },
     "execution_count": 567,
     "metadata": {},
     "output_type": "execute_result"
    }
   ],
   "source": [
    "data.isna().sum()"
   ]
  },
  {
   "cell_type": "code",
   "execution_count": 568,
   "metadata": {},
   "outputs": [
    {
     "data": {
      "text/html": [
       "<div>\n",
       "<style scoped>\n",
       "    .dataframe tbody tr th:only-of-type {\n",
       "        vertical-align: middle;\n",
       "    }\n",
       "\n",
       "    .dataframe tbody tr th {\n",
       "        vertical-align: top;\n",
       "    }\n",
       "\n",
       "    .dataframe thead th {\n",
       "        text-align: right;\n",
       "    }\n",
       "</style>\n",
       "<table border=\"1\" class=\"dataframe\">\n",
       "  <thead>\n",
       "    <tr style=\"text-align: right;\">\n",
       "      <th></th>\n",
       "      <th>year</th>\n",
       "      <th>kind</th>\n",
       "      <th>rating</th>\n",
       "      <th>vote</th>\n",
       "      <th>country</th>\n",
       "      <th>director</th>\n",
       "      <th>composer</th>\n",
       "      <th>writer</th>\n",
       "      <th>runtime</th>\n",
       "      <th>genre1</th>\n",
       "      <th>genre2</th>\n",
       "    </tr>\n",
       "  </thead>\n",
       "  <tbody>\n",
       "    <tr>\n",
       "      <th>0</th>\n",
       "      <td>2003.0</td>\n",
       "      <td>tv mini series</td>\n",
       "      <td>7.7</td>\n",
       "      <td>474.0</td>\n",
       "      <td>United States</td>\n",
       "      <td>NaN</td>\n",
       "      <td>NaN</td>\n",
       "      <td>['Mike Carrol', 'Mike Carroll', 'Georgann Kane']</td>\n",
       "      <td>50.0</td>\n",
       "      <td>Documentary</td>\n",
       "      <td>Animation</td>\n",
       "    </tr>\n",
       "    <tr>\n",
       "      <th>14</th>\n",
       "      <td>2000.0</td>\n",
       "      <td>tv series</td>\n",
       "      <td>7.6</td>\n",
       "      <td>23785.0</td>\n",
       "      <td>United States</td>\n",
       "      <td>NaN</td>\n",
       "      <td>NaN</td>\n",
       "      <td>['Dave Willis', 'Dave Willis', 'Dave Willis']</td>\n",
       "      <td>85.0</td>\n",
       "      <td>Animation</td>\n",
       "      <td>Comedy</td>\n",
       "    </tr>\n",
       "    <tr>\n",
       "      <th>16</th>\n",
       "      <td>1993.0</td>\n",
       "      <td>tv mini series</td>\n",
       "      <td>6.9</td>\n",
       "      <td>1605.0</td>\n",
       "      <td>United Kingdom</td>\n",
       "      <td>NaN</td>\n",
       "      <td>NaN</td>\n",
       "      <td>['Michael Haggiag', 'D.H. Lawrence', 'Ken Russ...</td>\n",
       "      <td>90.0</td>\n",
       "      <td>Drama</td>\n",
       "      <td>Romance</td>\n",
       "    </tr>\n",
       "    <tr>\n",
       "      <th>19</th>\n",
       "      <td>1996.0</td>\n",
       "      <td>tv mini series</td>\n",
       "      <td>5.3</td>\n",
       "      <td>129.0</td>\n",
       "      <td>France</td>\n",
       "      <td>NaN</td>\n",
       "      <td>NaN</td>\n",
       "      <td>['Clarisse Battas', 'Clarisse Battas', 'Jean-P...</td>\n",
       "      <td>145.0</td>\n",
       "      <td>Drama</td>\n",
       "      <td>Comedy</td>\n",
       "    </tr>\n",
       "    <tr>\n",
       "      <th>22</th>\n",
       "      <td>1993.0</td>\n",
       "      <td>video movie</td>\n",
       "      <td>8.3</td>\n",
       "      <td>102.0</td>\n",
       "      <td>United States</td>\n",
       "      <td>NaN</td>\n",
       "      <td>['Gerald Casale', 'Mark Mothersbaugh']</td>\n",
       "      <td>NaN</td>\n",
       "      <td>45.0</td>\n",
       "      <td>Documentary</td>\n",
       "      <td>Comedy</td>\n",
       "    </tr>\n",
       "    <tr>\n",
       "      <th>...</th>\n",
       "      <td>...</td>\n",
       "      <td>...</td>\n",
       "      <td>...</td>\n",
       "      <td>...</td>\n",
       "      <td>...</td>\n",
       "      <td>...</td>\n",
       "      <td>...</td>\n",
       "      <td>...</td>\n",
       "      <td>...</td>\n",
       "      <td>...</td>\n",
       "      <td>...</td>\n",
       "    </tr>\n",
       "    <tr>\n",
       "      <th>8395</th>\n",
       "      <td>1996.0</td>\n",
       "      <td>tv series</td>\n",
       "      <td>7.5</td>\n",
       "      <td>1466.0</td>\n",
       "      <td>United Kingdom</td>\n",
       "      <td>NaN</td>\n",
       "      <td>NaN</td>\n",
       "      <td>['John Bowen', 'John Bowen', 'John Bowen']</td>\n",
       "      <td>NaN</td>\n",
       "      <td>Comedy</td>\n",
       "      <td>Crime</td>\n",
       "    </tr>\n",
       "    <tr>\n",
       "      <th>8406</th>\n",
       "      <td>2001.0</td>\n",
       "      <td>tv series</td>\n",
       "      <td>5.8</td>\n",
       "      <td>165.0</td>\n",
       "      <td>Japan</td>\n",
       "      <td>NaN</td>\n",
       "      <td>NaN</td>\n",
       "      <td>['Takeshi Mori', \"Ken'ichi Kanemaki\", 'Mayori ...</td>\n",
       "      <td>NaN</td>\n",
       "      <td>Animation</td>\n",
       "      <td>Comedy</td>\n",
       "    </tr>\n",
       "    <tr>\n",
       "      <th>8412</th>\n",
       "      <td>2004.0</td>\n",
       "      <td>video movie</td>\n",
       "      <td>8.3</td>\n",
       "      <td>16.0</td>\n",
       "      <td>United States</td>\n",
       "      <td>NaN</td>\n",
       "      <td>NaN</td>\n",
       "      <td>NaN</td>\n",
       "      <td>NaN</td>\n",
       "      <td>Music</td>\n",
       "      <td>NaN</td>\n",
       "    </tr>\n",
       "    <tr>\n",
       "      <th>8435</th>\n",
       "      <td>2003.0</td>\n",
       "      <td>tv mini series</td>\n",
       "      <td>6.9</td>\n",
       "      <td>712.0</td>\n",
       "      <td>United States</td>\n",
       "      <td>NaN</td>\n",
       "      <td>NaN</td>\n",
       "      <td>['Donna Powers', 'Wayne Powers']</td>\n",
       "      <td>NaN</td>\n",
       "      <td>Drama</td>\n",
       "      <td>Romance</td>\n",
       "    </tr>\n",
       "    <tr>\n",
       "      <th>8437</th>\n",
       "      <td>2003.0</td>\n",
       "      <td>tv series</td>\n",
       "      <td>6.4</td>\n",
       "      <td>44.0</td>\n",
       "      <td>Japan</td>\n",
       "      <td>NaN</td>\n",
       "      <td>NaN</td>\n",
       "      <td>['Kazuki Matsui']</td>\n",
       "      <td>NaN</td>\n",
       "      <td>Animation</td>\n",
       "      <td>Action</td>\n",
       "    </tr>\n",
       "  </tbody>\n",
       "</table>\n",
       "<p>1045 rows × 11 columns</p>\n",
       "</div>"
      ],
      "text/plain": [
       "        year            kind  rating     vote         country director  \\\n",
       "0     2003.0  tv mini series     7.7    474.0   United States      NaN   \n",
       "14    2000.0       tv series     7.6  23785.0   United States      NaN   \n",
       "16    1993.0  tv mini series     6.9   1605.0  United Kingdom      NaN   \n",
       "19    1996.0  tv mini series     5.3    129.0          France      NaN   \n",
       "22    1993.0     video movie     8.3    102.0   United States      NaN   \n",
       "...      ...             ...     ...      ...             ...      ...   \n",
       "8395  1996.0       tv series     7.5   1466.0  United Kingdom      NaN   \n",
       "8406  2001.0       tv series     5.8    165.0           Japan      NaN   \n",
       "8412  2004.0     video movie     8.3     16.0   United States      NaN   \n",
       "8435  2003.0  tv mini series     6.9    712.0   United States      NaN   \n",
       "8437  2003.0       tv series     6.4     44.0           Japan      NaN   \n",
       "\n",
       "                                    composer  \\\n",
       "0                                        NaN   \n",
       "14                                       NaN   \n",
       "16                                       NaN   \n",
       "19                                       NaN   \n",
       "22    ['Gerald Casale', 'Mark Mothersbaugh']   \n",
       "...                                      ...   \n",
       "8395                                     NaN   \n",
       "8406                                     NaN   \n",
       "8412                                     NaN   \n",
       "8435                                     NaN   \n",
       "8437                                     NaN   \n",
       "\n",
       "                                                 writer  runtime       genre1  \\\n",
       "0      ['Mike Carrol', 'Mike Carroll', 'Georgann Kane']     50.0  Documentary   \n",
       "14        ['Dave Willis', 'Dave Willis', 'Dave Willis']     85.0    Animation   \n",
       "16    ['Michael Haggiag', 'D.H. Lawrence', 'Ken Russ...     90.0        Drama   \n",
       "19    ['Clarisse Battas', 'Clarisse Battas', 'Jean-P...    145.0        Drama   \n",
       "22                                                  NaN     45.0  Documentary   \n",
       "...                                                 ...      ...          ...   \n",
       "8395         ['John Bowen', 'John Bowen', 'John Bowen']      NaN       Comedy   \n",
       "8406  ['Takeshi Mori', \"Ken'ichi Kanemaki\", 'Mayori ...      NaN    Animation   \n",
       "8412                                                NaN      NaN        Music   \n",
       "8435                   ['Donna Powers', 'Wayne Powers']      NaN        Drama   \n",
       "8437                                  ['Kazuki Matsui']      NaN    Animation   \n",
       "\n",
       "          genre2  \n",
       "0      Animation  \n",
       "14        Comedy  \n",
       "16       Romance  \n",
       "19        Comedy  \n",
       "22        Comedy  \n",
       "...          ...  \n",
       "8395       Crime  \n",
       "8406      Comedy  \n",
       "8412         NaN  \n",
       "8435     Romance  \n",
       "8437      Action  \n",
       "\n",
       "[1045 rows x 11 columns]"
      ]
     },
     "execution_count": 568,
     "metadata": {},
     "output_type": "execute_result"
    }
   ],
   "source": [
    "#We look at rows with missing director and we see that these rows are also missing values in diffrent columns. Thus maybe it will be benfeicial to drop these rows. We will dicide after processing director column\n",
    "data[data.director.isna()]"
   ]
  },
  {
   "cell_type": "markdown",
   "metadata": {},
   "source": [
    "We will keep only the first director "
   ]
  },
  {
   "cell_type": "code",
   "execution_count": 569,
   "metadata": {},
   "outputs": [],
   "source": [
    "#We are striping the strings from brackets\n",
    "data['director'] = data['director'].str.strip(\"[]\")\n",
    "#We are replacing ' by empty space\n",
    "data['director'] = data['director'].str.replace(\"'\",\"\")\n",
    "#We are creating a list at ','\n",
    "data['director'] = data['director'].str.split(',')\n",
    "#We are taking to first elemnts of the list\n",
    "data['director'] = data['director'].str[0]"
   ]
  },
  {
   "cell_type": "code",
   "execution_count": 570,
   "metadata": {},
   "outputs": [
    {
     "data": {
      "text/plain": [
       "4079"
      ]
     },
     "execution_count": 570,
     "metadata": {},
     "output_type": "execute_result"
    }
   ],
   "source": [
    "len(data.director.unique())"
   ]
  },
  {
   "cell_type": "markdown",
   "metadata": {},
   "source": [
    "This column has 1045 missing values and 4079 unique values so we decide to drop it, because this column would have to be encoded creating over 4000 columns, so this is not practical"
   ]
  },
  {
   "cell_type": "code",
   "execution_count": 571,
   "metadata": {},
   "outputs": [],
   "source": [
    "data.drop(columns='director', inplace=True)"
   ]
  },
  {
   "cell_type": "markdown",
   "metadata": {},
   "source": [
    "### Composer"
   ]
  },
  {
   "cell_type": "code",
   "execution_count": 572,
   "metadata": {},
   "outputs": [
    {
     "data": {
      "text/plain": [
       "29.467202814777583"
      ]
     },
     "execution_count": 572,
     "metadata": {},
     "output_type": "execute_result"
    }
   ],
   "source": [
    "(data.composer.isna().sum()/data.shape[0])*100"
   ]
  },
  {
   "cell_type": "markdown",
   "metadata": {},
   "source": [
    "This column has almost 30% of missing values so we cand drop it."
   ]
  },
  {
   "cell_type": "code",
   "execution_count": 573,
   "metadata": {},
   "outputs": [],
   "source": [
    "data.drop(columns='composer',inplace=True)"
   ]
  },
  {
   "cell_type": "markdown",
   "metadata": {},
   "source": [
    "### Writer"
   ]
  },
  {
   "cell_type": "code",
   "execution_count": 574,
   "metadata": {},
   "outputs": [
    {
     "data": {
      "text/plain": [
       "12.364915807991958"
      ]
     },
     "execution_count": 574,
     "metadata": {},
     "output_type": "execute_result"
    }
   ],
   "source": [
    "(data.writer.isna().sum()/data.shape[0])*100"
   ]
  },
  {
   "cell_type": "code",
   "execution_count": 575,
   "metadata": {},
   "outputs": [],
   "source": [
    "#We are striping the strings from brackets\n",
    "data['writer'] = data['writer'].str.strip(\"[]\")\n",
    "#We are replacing ' by empty space\n",
    "data['writer'] = data['writer'].str.replace(\"'\",\"\")\n",
    "#We are creating a list at ','\n",
    "data['writer'] = data['writer'].str.split(',')\n",
    "#We are taking to first elemnts of the list\n",
    "data['writer'] = data['writer'].str[0]"
   ]
  },
  {
   "cell_type": "code",
   "execution_count": 576,
   "metadata": {},
   "outputs": [
    {
     "data": {
      "text/plain": [
       "4984"
      ]
     },
     "execution_count": 576,
     "metadata": {},
     "output_type": "execute_result"
    }
   ],
   "source": [
    "len(data.writer.unique())"
   ]
  },
  {
   "cell_type": "markdown",
   "metadata": {},
   "source": [
    "We decide to drop writer column because it has 12% of missing rows and there is too much variety in that column. Besides we belive that people don't look at the writers while rating the movie"
   ]
  },
  {
   "cell_type": "code",
   "execution_count": 577,
   "metadata": {},
   "outputs": [],
   "source": [
    "data.drop(columns='writer',inplace=True)"
   ]
  },
  {
   "cell_type": "markdown",
   "metadata": {},
   "source": [
    "### Kind"
   ]
  },
  {
   "cell_type": "code",
   "execution_count": 578,
   "metadata": {},
   "outputs": [
    {
     "data": {
      "text/plain": [
       "movie             4940\n",
       "video movie       1167\n",
       "tv movie           737\n",
       "tv series          561\n",
       "episode            293\n",
       "tv mini series     237\n",
       "tv short            13\n",
       "video game          10\n",
       "Name: kind, dtype: int64"
      ]
     },
     "execution_count": 578,
     "metadata": {},
     "output_type": "execute_result"
    }
   ],
   "source": [
    "data.kind.value_counts()"
   ]
  },
  {
   "cell_type": "code",
   "execution_count": 579,
   "metadata": {},
   "outputs": [
    {
     "data": {
      "text/plain": [
       "0"
      ]
     },
     "execution_count": 579,
     "metadata": {},
     "output_type": "execute_result"
    }
   ],
   "source": [
    "data.kind.isna().sum()"
   ]
  },
  {
   "cell_type": "markdown",
   "metadata": {},
   "source": [
    "This column is OK \n"
   ]
  },
  {
   "cell_type": "markdown",
   "metadata": {},
   "source": [
    "### Genre1"
   ]
  },
  {
   "cell_type": "code",
   "execution_count": 580,
   "metadata": {},
   "outputs": [
    {
     "data": {
      "text/plain": [
       "42"
      ]
     },
     "execution_count": 580,
     "metadata": {},
     "output_type": "execute_result"
    }
   ],
   "source": [
    "data.genre1.isna().sum()"
   ]
  },
  {
   "cell_type": "code",
   "execution_count": 581,
   "metadata": {},
   "outputs": [
    {
     "data": {
      "text/html": [
       "<div>\n",
       "<style scoped>\n",
       "    .dataframe tbody tr th:only-of-type {\n",
       "        vertical-align: middle;\n",
       "    }\n",
       "\n",
       "    .dataframe tbody tr th {\n",
       "        vertical-align: top;\n",
       "    }\n",
       "\n",
       "    .dataframe thead th {\n",
       "        text-align: right;\n",
       "    }\n",
       "</style>\n",
       "<table border=\"1\" class=\"dataframe\">\n",
       "  <thead>\n",
       "    <tr style=\"text-align: right;\">\n",
       "      <th></th>\n",
       "      <th>year</th>\n",
       "      <th>kind</th>\n",
       "      <th>rating</th>\n",
       "      <th>vote</th>\n",
       "      <th>country</th>\n",
       "      <th>runtime</th>\n",
       "      <th>genre1</th>\n",
       "      <th>genre2</th>\n",
       "    </tr>\n",
       "  </thead>\n",
       "  <tbody>\n",
       "    <tr>\n",
       "      <th>39</th>\n",
       "      <td>1999.0</td>\n",
       "      <td>video movie</td>\n",
       "      <td>8.1</td>\n",
       "      <td>57.0</td>\n",
       "      <td>United States</td>\n",
       "      <td>NaN</td>\n",
       "      <td>NaN</td>\n",
       "      <td>NaN</td>\n",
       "    </tr>\n",
       "    <tr>\n",
       "      <th>44</th>\n",
       "      <td>1993.0</td>\n",
       "      <td>movie</td>\n",
       "      <td>6.1</td>\n",
       "      <td>47.0</td>\n",
       "      <td>Hong Kong</td>\n",
       "      <td>96.0</td>\n",
       "      <td>NaN</td>\n",
       "      <td>NaN</td>\n",
       "    </tr>\n",
       "    <tr>\n",
       "      <th>387</th>\n",
       "      <td>2002.0</td>\n",
       "      <td>video movie</td>\n",
       "      <td>6.4</td>\n",
       "      <td>9.0</td>\n",
       "      <td>United Kingdom</td>\n",
       "      <td>85.0</td>\n",
       "      <td>NaN</td>\n",
       "      <td>NaN</td>\n",
       "    </tr>\n",
       "    <tr>\n",
       "      <th>493</th>\n",
       "      <td>2001.0</td>\n",
       "      <td>video movie</td>\n",
       "      <td>8.7</td>\n",
       "      <td>133.0</td>\n",
       "      <td>United States</td>\n",
       "      <td>97.0</td>\n",
       "      <td>NaN</td>\n",
       "      <td>NaN</td>\n",
       "    </tr>\n",
       "    <tr>\n",
       "      <th>821</th>\n",
       "      <td>1995.0</td>\n",
       "      <td>movie</td>\n",
       "      <td>5.7</td>\n",
       "      <td>53.0</td>\n",
       "      <td>Taiwan</td>\n",
       "      <td>60.0</td>\n",
       "      <td>NaN</td>\n",
       "      <td>NaN</td>\n",
       "    </tr>\n",
       "    <tr>\n",
       "      <th>1042</th>\n",
       "      <td>2004.0</td>\n",
       "      <td>video movie</td>\n",
       "      <td>6.8</td>\n",
       "      <td>20.0</td>\n",
       "      <td>United States</td>\n",
       "      <td>55.0</td>\n",
       "      <td>NaN</td>\n",
       "      <td>NaN</td>\n",
       "    </tr>\n",
       "    <tr>\n",
       "      <th>1294</th>\n",
       "      <td>2001.0</td>\n",
       "      <td>video movie</td>\n",
       "      <td>8.1</td>\n",
       "      <td>21.0</td>\n",
       "      <td>United States</td>\n",
       "      <td>95.0</td>\n",
       "      <td>NaN</td>\n",
       "      <td>NaN</td>\n",
       "    </tr>\n",
       "    <tr>\n",
       "      <th>1435</th>\n",
       "      <td>1999.0</td>\n",
       "      <td>video movie</td>\n",
       "      <td>4.6</td>\n",
       "      <td>13.0</td>\n",
       "      <td>United States</td>\n",
       "      <td>101.0</td>\n",
       "      <td>NaN</td>\n",
       "      <td>NaN</td>\n",
       "    </tr>\n",
       "    <tr>\n",
       "      <th>1883</th>\n",
       "      <td>1989.0</td>\n",
       "      <td>movie</td>\n",
       "      <td>9.0</td>\n",
       "      <td>5.0</td>\n",
       "      <td>United States</td>\n",
       "      <td>98.0</td>\n",
       "      <td>NaN</td>\n",
       "      <td>NaN</td>\n",
       "    </tr>\n",
       "    <tr>\n",
       "      <th>2113</th>\n",
       "      <td>1980.0</td>\n",
       "      <td>video movie</td>\n",
       "      <td>7.8</td>\n",
       "      <td>46.0</td>\n",
       "      <td>United Kingdom</td>\n",
       "      <td>184.0</td>\n",
       "      <td>NaN</td>\n",
       "      <td>NaN</td>\n",
       "    </tr>\n",
       "    <tr>\n",
       "      <th>2172</th>\n",
       "      <td>1999.0</td>\n",
       "      <td>video movie</td>\n",
       "      <td>6.9</td>\n",
       "      <td>19.0</td>\n",
       "      <td>United States</td>\n",
       "      <td>70.0</td>\n",
       "      <td>NaN</td>\n",
       "      <td>NaN</td>\n",
       "    </tr>\n",
       "    <tr>\n",
       "      <th>2180</th>\n",
       "      <td>1959.0</td>\n",
       "      <td>tv movie</td>\n",
       "      <td>8.2</td>\n",
       "      <td>81.0</td>\n",
       "      <td>United States</td>\n",
       "      <td>106.0</td>\n",
       "      <td>NaN</td>\n",
       "      <td>NaN</td>\n",
       "    </tr>\n",
       "    <tr>\n",
       "      <th>2669</th>\n",
       "      <td>2000.0</td>\n",
       "      <td>video movie</td>\n",
       "      <td>8.8</td>\n",
       "      <td>8.0</td>\n",
       "      <td>United States</td>\n",
       "      <td>99.0</td>\n",
       "      <td>NaN</td>\n",
       "      <td>NaN</td>\n",
       "    </tr>\n",
       "    <tr>\n",
       "      <th>2693</th>\n",
       "      <td>2002.0</td>\n",
       "      <td>episode</td>\n",
       "      <td>6.8</td>\n",
       "      <td>2061.0</td>\n",
       "      <td>France</td>\n",
       "      <td>25.0</td>\n",
       "      <td>NaN</td>\n",
       "      <td>NaN</td>\n",
       "    </tr>\n",
       "    <tr>\n",
       "      <th>2741</th>\n",
       "      <td>2001.0</td>\n",
       "      <td>video movie</td>\n",
       "      <td>7.4</td>\n",
       "      <td>18.0</td>\n",
       "      <td>United States</td>\n",
       "      <td>22.0</td>\n",
       "      <td>NaN</td>\n",
       "      <td>NaN</td>\n",
       "    </tr>\n",
       "    <tr>\n",
       "      <th>2808</th>\n",
       "      <td>2002.0</td>\n",
       "      <td>movie</td>\n",
       "      <td>6.3</td>\n",
       "      <td>13.0</td>\n",
       "      <td>United States</td>\n",
       "      <td>91.0</td>\n",
       "      <td>NaN</td>\n",
       "      <td>NaN</td>\n",
       "    </tr>\n",
       "    <tr>\n",
       "      <th>2810</th>\n",
       "      <td>1993.0</td>\n",
       "      <td>video movie</td>\n",
       "      <td>7.3</td>\n",
       "      <td>139.0</td>\n",
       "      <td>United States</td>\n",
       "      <td>300.0</td>\n",
       "      <td>NaN</td>\n",
       "      <td>NaN</td>\n",
       "    </tr>\n",
       "    <tr>\n",
       "      <th>2823</th>\n",
       "      <td>1998.0</td>\n",
       "      <td>movie</td>\n",
       "      <td>6.7</td>\n",
       "      <td>45.0</td>\n",
       "      <td>United States</td>\n",
       "      <td>67.0</td>\n",
       "      <td>NaN</td>\n",
       "      <td>NaN</td>\n",
       "    </tr>\n",
       "    <tr>\n",
       "      <th>2850</th>\n",
       "      <td>1995.0</td>\n",
       "      <td>video movie</td>\n",
       "      <td>8.4</td>\n",
       "      <td>9.0</td>\n",
       "      <td>United States</td>\n",
       "      <td>101.0</td>\n",
       "      <td>NaN</td>\n",
       "      <td>NaN</td>\n",
       "    </tr>\n",
       "    <tr>\n",
       "      <th>3066</th>\n",
       "      <td>2003.0</td>\n",
       "      <td>video movie</td>\n",
       "      <td>8.7</td>\n",
       "      <td>94.0</td>\n",
       "      <td>United States</td>\n",
       "      <td>NaN</td>\n",
       "      <td>NaN</td>\n",
       "      <td>NaN</td>\n",
       "    </tr>\n",
       "    <tr>\n",
       "      <th>3448</th>\n",
       "      <td>1993.0</td>\n",
       "      <td>movie</td>\n",
       "      <td>6.1</td>\n",
       "      <td>47.0</td>\n",
       "      <td>Hong Kong</td>\n",
       "      <td>160.0</td>\n",
       "      <td>NaN</td>\n",
       "      <td>NaN</td>\n",
       "    </tr>\n",
       "    <tr>\n",
       "      <th>3550</th>\n",
       "      <td>2002.0</td>\n",
       "      <td>movie</td>\n",
       "      <td>6.0</td>\n",
       "      <td>12.0</td>\n",
       "      <td>United States</td>\n",
       "      <td>80.0</td>\n",
       "      <td>NaN</td>\n",
       "      <td>NaN</td>\n",
       "    </tr>\n",
       "    <tr>\n",
       "      <th>3725</th>\n",
       "      <td>1998.0</td>\n",
       "      <td>tv series</td>\n",
       "      <td>7.6</td>\n",
       "      <td>20.0</td>\n",
       "      <td>Canada</td>\n",
       "      <td>80.0</td>\n",
       "      <td>NaN</td>\n",
       "      <td>NaN</td>\n",
       "    </tr>\n",
       "    <tr>\n",
       "      <th>3891</th>\n",
       "      <td>1998.0</td>\n",
       "      <td>video movie</td>\n",
       "      <td>5.0</td>\n",
       "      <td>7.0</td>\n",
       "      <td>United States</td>\n",
       "      <td>81.0</td>\n",
       "      <td>NaN</td>\n",
       "      <td>NaN</td>\n",
       "    </tr>\n",
       "    <tr>\n",
       "      <th>3951</th>\n",
       "      <td>1991.0</td>\n",
       "      <td>video movie</td>\n",
       "      <td>8.2</td>\n",
       "      <td>19.0</td>\n",
       "      <td>United States</td>\n",
       "      <td>91.0</td>\n",
       "      <td>NaN</td>\n",
       "      <td>NaN</td>\n",
       "    </tr>\n",
       "    <tr>\n",
       "      <th>4198</th>\n",
       "      <td>2000.0</td>\n",
       "      <td>video movie</td>\n",
       "      <td>7.2</td>\n",
       "      <td>22.0</td>\n",
       "      <td>United States</td>\n",
       "      <td>180.0</td>\n",
       "      <td>NaN</td>\n",
       "      <td>NaN</td>\n",
       "    </tr>\n",
       "    <tr>\n",
       "      <th>4753</th>\n",
       "      <td>2001.0</td>\n",
       "      <td>video movie</td>\n",
       "      <td>8.1</td>\n",
       "      <td>21.0</td>\n",
       "      <td>United States</td>\n",
       "      <td>103.0</td>\n",
       "      <td>NaN</td>\n",
       "      <td>NaN</td>\n",
       "    </tr>\n",
       "    <tr>\n",
       "      <th>4807</th>\n",
       "      <td>1994.0</td>\n",
       "      <td>tv series</td>\n",
       "      <td>6.6</td>\n",
       "      <td>9.0</td>\n",
       "      <td>United Kingdom</td>\n",
       "      <td>24.0</td>\n",
       "      <td>NaN</td>\n",
       "      <td>NaN</td>\n",
       "    </tr>\n",
       "    <tr>\n",
       "      <th>4913</th>\n",
       "      <td>2002.0</td>\n",
       "      <td>video movie</td>\n",
       "      <td>5.4</td>\n",
       "      <td>24.0</td>\n",
       "      <td>United States</td>\n",
       "      <td>96.0</td>\n",
       "      <td>NaN</td>\n",
       "      <td>NaN</td>\n",
       "    </tr>\n",
       "    <tr>\n",
       "      <th>4967</th>\n",
       "      <td>1998.0</td>\n",
       "      <td>video movie</td>\n",
       "      <td>4.8</td>\n",
       "      <td>45.0</td>\n",
       "      <td>United States</td>\n",
       "      <td>54.0</td>\n",
       "      <td>NaN</td>\n",
       "      <td>NaN</td>\n",
       "    </tr>\n",
       "    <tr>\n",
       "      <th>5060</th>\n",
       "      <td>1991.0</td>\n",
       "      <td>video movie</td>\n",
       "      <td>7.2</td>\n",
       "      <td>26.0</td>\n",
       "      <td>United States</td>\n",
       "      <td>97.0</td>\n",
       "      <td>NaN</td>\n",
       "      <td>NaN</td>\n",
       "    </tr>\n",
       "    <tr>\n",
       "      <th>5190</th>\n",
       "      <td>2001.0</td>\n",
       "      <td>tv series</td>\n",
       "      <td>5.8</td>\n",
       "      <td>50.0</td>\n",
       "      <td>China</td>\n",
       "      <td>93.0</td>\n",
       "      <td>NaN</td>\n",
       "      <td>NaN</td>\n",
       "    </tr>\n",
       "    <tr>\n",
       "      <th>5606</th>\n",
       "      <td>2000.0</td>\n",
       "      <td>video movie</td>\n",
       "      <td>7.7</td>\n",
       "      <td>27.0</td>\n",
       "      <td>United States</td>\n",
       "      <td>88.0</td>\n",
       "      <td>NaN</td>\n",
       "      <td>NaN</td>\n",
       "    </tr>\n",
       "    <tr>\n",
       "      <th>5759</th>\n",
       "      <td>1994.0</td>\n",
       "      <td>tv mini series</td>\n",
       "      <td>5.2</td>\n",
       "      <td>46.0</td>\n",
       "      <td>United States</td>\n",
       "      <td>55.0</td>\n",
       "      <td>NaN</td>\n",
       "      <td>NaN</td>\n",
       "    </tr>\n",
       "    <tr>\n",
       "      <th>5763</th>\n",
       "      <td>1977.0</td>\n",
       "      <td>movie</td>\n",
       "      <td>7.8</td>\n",
       "      <td>7.0</td>\n",
       "      <td>United States</td>\n",
       "      <td>143.0</td>\n",
       "      <td>NaN</td>\n",
       "      <td>NaN</td>\n",
       "    </tr>\n",
       "    <tr>\n",
       "      <th>5773</th>\n",
       "      <td>1995.0</td>\n",
       "      <td>video movie</td>\n",
       "      <td>8.5</td>\n",
       "      <td>11.0</td>\n",
       "      <td>United States</td>\n",
       "      <td>110.0</td>\n",
       "      <td>NaN</td>\n",
       "      <td>NaN</td>\n",
       "    </tr>\n",
       "    <tr>\n",
       "      <th>6515</th>\n",
       "      <td>1998.0</td>\n",
       "      <td>video movie</td>\n",
       "      <td>7.6</td>\n",
       "      <td>20.0</td>\n",
       "      <td>United States</td>\n",
       "      <td>85.0</td>\n",
       "      <td>NaN</td>\n",
       "      <td>NaN</td>\n",
       "    </tr>\n",
       "    <tr>\n",
       "      <th>6556</th>\n",
       "      <td>2003.0</td>\n",
       "      <td>video movie</td>\n",
       "      <td>3.0</td>\n",
       "      <td>73.0</td>\n",
       "      <td>United States</td>\n",
       "      <td>105.0</td>\n",
       "      <td>NaN</td>\n",
       "      <td>NaN</td>\n",
       "    </tr>\n",
       "    <tr>\n",
       "      <th>6618</th>\n",
       "      <td>2003.0</td>\n",
       "      <td>movie</td>\n",
       "      <td>7.2</td>\n",
       "      <td>59.0</td>\n",
       "      <td>United States</td>\n",
       "      <td>107.0</td>\n",
       "      <td>NaN</td>\n",
       "      <td>NaN</td>\n",
       "    </tr>\n",
       "    <tr>\n",
       "      <th>7399</th>\n",
       "      <td>2000.0</td>\n",
       "      <td>video movie</td>\n",
       "      <td>8.5</td>\n",
       "      <td>59.0</td>\n",
       "      <td>United Kingdom</td>\n",
       "      <td>NaN</td>\n",
       "      <td>NaN</td>\n",
       "      <td>NaN</td>\n",
       "    </tr>\n",
       "    <tr>\n",
       "      <th>7803</th>\n",
       "      <td>1999.0</td>\n",
       "      <td>tv series</td>\n",
       "      <td>7.6</td>\n",
       "      <td>15.0</td>\n",
       "      <td>United Kingdom</td>\n",
       "      <td>NaN</td>\n",
       "      <td>NaN</td>\n",
       "      <td>NaN</td>\n",
       "    </tr>\n",
       "    <tr>\n",
       "      <th>8002</th>\n",
       "      <td>2003.0</td>\n",
       "      <td>tv movie</td>\n",
       "      <td>9.1</td>\n",
       "      <td>105.0</td>\n",
       "      <td>United States</td>\n",
       "      <td>NaN</td>\n",
       "      <td>NaN</td>\n",
       "      <td>NaN</td>\n",
       "    </tr>\n",
       "  </tbody>\n",
       "</table>\n",
       "</div>"
      ],
      "text/plain": [
       "        year            kind  rating    vote         country  runtime genre1  \\\n",
       "39    1999.0     video movie     8.1    57.0   United States      NaN    NaN   \n",
       "44    1993.0           movie     6.1    47.0       Hong Kong     96.0    NaN   \n",
       "387   2002.0     video movie     6.4     9.0  United Kingdom     85.0    NaN   \n",
       "493   2001.0     video movie     8.7   133.0   United States     97.0    NaN   \n",
       "821   1995.0           movie     5.7    53.0          Taiwan     60.0    NaN   \n",
       "1042  2004.0     video movie     6.8    20.0   United States     55.0    NaN   \n",
       "1294  2001.0     video movie     8.1    21.0   United States     95.0    NaN   \n",
       "1435  1999.0     video movie     4.6    13.0   United States    101.0    NaN   \n",
       "1883  1989.0           movie     9.0     5.0   United States     98.0    NaN   \n",
       "2113  1980.0     video movie     7.8    46.0  United Kingdom    184.0    NaN   \n",
       "2172  1999.0     video movie     6.9    19.0   United States     70.0    NaN   \n",
       "2180  1959.0        tv movie     8.2    81.0   United States    106.0    NaN   \n",
       "2669  2000.0     video movie     8.8     8.0   United States     99.0    NaN   \n",
       "2693  2002.0         episode     6.8  2061.0          France     25.0    NaN   \n",
       "2741  2001.0     video movie     7.4    18.0   United States     22.0    NaN   \n",
       "2808  2002.0           movie     6.3    13.0   United States     91.0    NaN   \n",
       "2810  1993.0     video movie     7.3   139.0   United States    300.0    NaN   \n",
       "2823  1998.0           movie     6.7    45.0   United States     67.0    NaN   \n",
       "2850  1995.0     video movie     8.4     9.0   United States    101.0    NaN   \n",
       "3066  2003.0     video movie     8.7    94.0   United States      NaN    NaN   \n",
       "3448  1993.0           movie     6.1    47.0       Hong Kong    160.0    NaN   \n",
       "3550  2002.0           movie     6.0    12.0   United States     80.0    NaN   \n",
       "3725  1998.0       tv series     7.6    20.0          Canada     80.0    NaN   \n",
       "3891  1998.0     video movie     5.0     7.0   United States     81.0    NaN   \n",
       "3951  1991.0     video movie     8.2    19.0   United States     91.0    NaN   \n",
       "4198  2000.0     video movie     7.2    22.0   United States    180.0    NaN   \n",
       "4753  2001.0     video movie     8.1    21.0   United States    103.0    NaN   \n",
       "4807  1994.0       tv series     6.6     9.0  United Kingdom     24.0    NaN   \n",
       "4913  2002.0     video movie     5.4    24.0   United States     96.0    NaN   \n",
       "4967  1998.0     video movie     4.8    45.0   United States     54.0    NaN   \n",
       "5060  1991.0     video movie     7.2    26.0   United States     97.0    NaN   \n",
       "5190  2001.0       tv series     5.8    50.0           China     93.0    NaN   \n",
       "5606  2000.0     video movie     7.7    27.0   United States     88.0    NaN   \n",
       "5759  1994.0  tv mini series     5.2    46.0   United States     55.0    NaN   \n",
       "5763  1977.0           movie     7.8     7.0   United States    143.0    NaN   \n",
       "5773  1995.0     video movie     8.5    11.0   United States    110.0    NaN   \n",
       "6515  1998.0     video movie     7.6    20.0   United States     85.0    NaN   \n",
       "6556  2003.0     video movie     3.0    73.0   United States    105.0    NaN   \n",
       "6618  2003.0           movie     7.2    59.0   United States    107.0    NaN   \n",
       "7399  2000.0     video movie     8.5    59.0  United Kingdom      NaN    NaN   \n",
       "7803  1999.0       tv series     7.6    15.0  United Kingdom      NaN    NaN   \n",
       "8002  2003.0        tv movie     9.1   105.0   United States      NaN    NaN   \n",
       "\n",
       "     genre2  \n",
       "39      NaN  \n",
       "44      NaN  \n",
       "387     NaN  \n",
       "493     NaN  \n",
       "821     NaN  \n",
       "1042    NaN  \n",
       "1294    NaN  \n",
       "1435    NaN  \n",
       "1883    NaN  \n",
       "2113    NaN  \n",
       "2172    NaN  \n",
       "2180    NaN  \n",
       "2669    NaN  \n",
       "2693    NaN  \n",
       "2741    NaN  \n",
       "2808    NaN  \n",
       "2810    NaN  \n",
       "2823    NaN  \n",
       "2850    NaN  \n",
       "3066    NaN  \n",
       "3448    NaN  \n",
       "3550    NaN  \n",
       "3725    NaN  \n",
       "3891    NaN  \n",
       "3951    NaN  \n",
       "4198    NaN  \n",
       "4753    NaN  \n",
       "4807    NaN  \n",
       "4913    NaN  \n",
       "4967    NaN  \n",
       "5060    NaN  \n",
       "5190    NaN  \n",
       "5606    NaN  \n",
       "5759    NaN  \n",
       "5763    NaN  \n",
       "5773    NaN  \n",
       "6515    NaN  \n",
       "6556    NaN  \n",
       "6618    NaN  \n",
       "7399    NaN  \n",
       "7803    NaN  \n",
       "8002    NaN  "
      ]
     },
     "execution_count": 581,
     "metadata": {},
     "output_type": "execute_result"
    }
   ],
   "source": [
    "data[data.genre1.isna()]"
   ]
  },
  {
   "cell_type": "code",
   "execution_count": 582,
   "metadata": {},
   "outputs": [
    {
     "data": {
      "text/html": [
       "<div>\n",
       "<style scoped>\n",
       "    .dataframe tbody tr th:only-of-type {\n",
       "        vertical-align: middle;\n",
       "    }\n",
       "\n",
       "    .dataframe tbody tr th {\n",
       "        vertical-align: top;\n",
       "    }\n",
       "\n",
       "    .dataframe thead th {\n",
       "        text-align: right;\n",
       "    }\n",
       "</style>\n",
       "<table border=\"1\" class=\"dataframe\">\n",
       "  <thead>\n",
       "    <tr style=\"text-align: right;\">\n",
       "      <th></th>\n",
       "      <th>year</th>\n",
       "      <th>kind</th>\n",
       "      <th>rating</th>\n",
       "      <th>vote</th>\n",
       "      <th>country</th>\n",
       "      <th>runtime</th>\n",
       "      <th>genre1</th>\n",
       "      <th>genre2</th>\n",
       "    </tr>\n",
       "  </thead>\n",
       "  <tbody>\n",
       "    <tr>\n",
       "      <th>1</th>\n",
       "      <td>1994.0</td>\n",
       "      <td>video movie</td>\n",
       "      <td>8.1</td>\n",
       "      <td>18.0</td>\n",
       "      <td>United States</td>\n",
       "      <td>83.0</td>\n",
       "      <td>Family</td>\n",
       "      <td>NaN</td>\n",
       "    </tr>\n",
       "    <tr>\n",
       "      <th>6</th>\n",
       "      <td>1988.0</td>\n",
       "      <td>video movie</td>\n",
       "      <td>8.0</td>\n",
       "      <td>81.0</td>\n",
       "      <td>United States</td>\n",
       "      <td>55.0</td>\n",
       "      <td>Documentary</td>\n",
       "      <td>Music</td>\n",
       "    </tr>\n",
       "    <tr>\n",
       "      <th>7</th>\n",
       "      <td>2005.0</td>\n",
       "      <td>video movie</td>\n",
       "      <td>4.8</td>\n",
       "      <td>7153.0</td>\n",
       "      <td>United Kingdom</td>\n",
       "      <td>118.0</td>\n",
       "      <td>Action</td>\n",
       "      <td>Comedy</td>\n",
       "    </tr>\n",
       "    <tr>\n",
       "      <th>15</th>\n",
       "      <td>1998.0</td>\n",
       "      <td>video movie</td>\n",
       "      <td>4.6</td>\n",
       "      <td>1484.0</td>\n",
       "      <td>United States</td>\n",
       "      <td>117.0</td>\n",
       "      <td>Animation</td>\n",
       "      <td>Adventure</td>\n",
       "    </tr>\n",
       "    <tr>\n",
       "      <th>18</th>\n",
       "      <td>2003.0</td>\n",
       "      <td>video movie</td>\n",
       "      <td>2.8</td>\n",
       "      <td>120.0</td>\n",
       "      <td>United States</td>\n",
       "      <td>72.0</td>\n",
       "      <td>Romance</td>\n",
       "      <td>NaN</td>\n",
       "    </tr>\n",
       "    <tr>\n",
       "      <th>...</th>\n",
       "      <td>...</td>\n",
       "      <td>...</td>\n",
       "      <td>...</td>\n",
       "      <td>...</td>\n",
       "      <td>...</td>\n",
       "      <td>...</td>\n",
       "      <td>...</td>\n",
       "      <td>...</td>\n",
       "    </tr>\n",
       "    <tr>\n",
       "      <th>8403</th>\n",
       "      <td>2004.0</td>\n",
       "      <td>video movie</td>\n",
       "      <td>5.9</td>\n",
       "      <td>1296.0</td>\n",
       "      <td>United States</td>\n",
       "      <td>NaN</td>\n",
       "      <td>Comedy</td>\n",
       "      <td>NaN</td>\n",
       "    </tr>\n",
       "    <tr>\n",
       "      <th>8412</th>\n",
       "      <td>2004.0</td>\n",
       "      <td>video movie</td>\n",
       "      <td>8.3</td>\n",
       "      <td>16.0</td>\n",
       "      <td>United States</td>\n",
       "      <td>NaN</td>\n",
       "      <td>Music</td>\n",
       "      <td>NaN</td>\n",
       "    </tr>\n",
       "    <tr>\n",
       "      <th>8424</th>\n",
       "      <td>1988.0</td>\n",
       "      <td>video movie</td>\n",
       "      <td>4.7</td>\n",
       "      <td>1257.0</td>\n",
       "      <td>United States</td>\n",
       "      <td>NaN</td>\n",
       "      <td>Horror</td>\n",
       "      <td>NaN</td>\n",
       "    </tr>\n",
       "    <tr>\n",
       "      <th>8426</th>\n",
       "      <td>1998.0</td>\n",
       "      <td>video movie</td>\n",
       "      <td>8.0</td>\n",
       "      <td>122.0</td>\n",
       "      <td>United States</td>\n",
       "      <td>NaN</td>\n",
       "      <td>Music</td>\n",
       "      <td>NaN</td>\n",
       "    </tr>\n",
       "    <tr>\n",
       "      <th>8428</th>\n",
       "      <td>2004.0</td>\n",
       "      <td>video movie</td>\n",
       "      <td>7.8</td>\n",
       "      <td>70.0</td>\n",
       "      <td>United States</td>\n",
       "      <td>NaN</td>\n",
       "      <td>Comedy</td>\n",
       "      <td>NaN</td>\n",
       "    </tr>\n",
       "  </tbody>\n",
       "</table>\n",
       "<p>1167 rows × 8 columns</p>\n",
       "</div>"
      ],
      "text/plain": [
       "        year         kind  rating    vote         country  runtime  \\\n",
       "1     1994.0  video movie     8.1    18.0   United States     83.0   \n",
       "6     1988.0  video movie     8.0    81.0   United States     55.0   \n",
       "7     2005.0  video movie     4.8  7153.0  United Kingdom    118.0   \n",
       "15    1998.0  video movie     4.6  1484.0   United States    117.0   \n",
       "18    2003.0  video movie     2.8   120.0   United States     72.0   \n",
       "...      ...          ...     ...     ...             ...      ...   \n",
       "8403  2004.0  video movie     5.9  1296.0   United States      NaN   \n",
       "8412  2004.0  video movie     8.3    16.0   United States      NaN   \n",
       "8424  1988.0  video movie     4.7  1257.0   United States      NaN   \n",
       "8426  1998.0  video movie     8.0   122.0   United States      NaN   \n",
       "8428  2004.0  video movie     7.8    70.0   United States      NaN   \n",
       "\n",
       "           genre1      genre2  \n",
       "1          Family         NaN  \n",
       "6     Documentary       Music  \n",
       "7          Action      Comedy  \n",
       "15      Animation   Adventure  \n",
       "18        Romance         NaN  \n",
       "...           ...         ...  \n",
       "8403       Comedy         NaN  \n",
       "8412        Music         NaN  \n",
       "8424       Horror         NaN  \n",
       "8426        Music         NaN  \n",
       "8428       Comedy         NaN  \n",
       "\n",
       "[1167 rows x 8 columns]"
      ]
     },
     "execution_count": 582,
     "metadata": {},
     "output_type": "execute_result"
    }
   ],
   "source": [
    "data[data.kind=='video movie']"
   ]
  },
  {
   "cell_type": "code",
   "execution_count": 583,
   "metadata": {},
   "outputs": [
    {
     "data": {
      "text/plain": [
       "Drama          1461\n",
       "Comedy         1425\n",
       "Documentary    1209\n",
       "Action         1081\n",
       "Animation       747\n",
       "Crime           481\n",
       "Horror          325\n",
       "Adventure       323\n",
       "Biography       238\n",
       "Music           203\n",
       "Family           69\n",
       "Short            68\n",
       "Fantasy          53\n",
       "Thriller         41\n",
       "Mystery          31\n",
       "Sci-Fi           30\n",
       "Musical          28\n",
       "Romance          26\n",
       "Western          24\n",
       "Sport            22\n",
       "Reality-TV       12\n",
       "History           7\n",
       "Game-Show         6\n",
       "Film-Noir         4\n",
       "Talk-Show         1\n",
       "War               1\n",
       "Name: genre1, dtype: int64"
      ]
     },
     "execution_count": 583,
     "metadata": {},
     "output_type": "execute_result"
    }
   ],
   "source": [
    "data.genre1.value_counts()"
   ]
  },
  {
   "cell_type": "markdown",
   "metadata": {},
   "source": [
    "We noticed that the rows with missing genre1 are mainly video movies, so we wanted to check if there is a sepecific type of genre conectted to that kind of movies, but there is not, so we will drop these 42 rows."
   ]
  },
  {
   "cell_type": "code",
   "execution_count": 584,
   "metadata": {},
   "outputs": [],
   "source": [
    "data =data.dropna(subset=['genre1'])"
   ]
  },
  {
   "cell_type": "markdown",
   "metadata": {},
   "source": [
    "### Genre2"
   ]
  },
  {
   "cell_type": "code",
   "execution_count": 585,
   "metadata": {},
   "outputs": [
    {
     "data": {
      "text/plain": [
       " Drama          1423\n",
       " Comedy          562\n",
       " Romance         530\n",
       " Adventure       477\n",
       " Music           436\n",
       " Crime           379\n",
       " Action          299\n",
       " Horror          245\n",
       " Thriller        229\n",
       " Family          224\n",
       " Fantasy         196\n",
       " Sci-Fi          194\n",
       " Biography       190\n",
       " History         170\n",
       " Mystery         168\n",
       " Short           140\n",
       " Musical          94\n",
       " War              79\n",
       " Sport            70\n",
       " Western          44\n",
       " Documentary      38\n",
       " Animation        20\n",
       " Reality-TV       14\n",
       " Film-Noir        10\n",
       " Talk-Show         7\n",
       " News              3\n",
       " Game-Show         1\n",
       "Name: genre2, dtype: int64"
      ]
     },
     "execution_count": 585,
     "metadata": {},
     "output_type": "execute_result"
    }
   ],
   "source": [
    "data.genre2.value_counts()"
   ]
  },
  {
   "cell_type": "code",
   "execution_count": 586,
   "metadata": {},
   "outputs": [
    {
     "data": {
      "text/plain": [
       "1674"
      ]
     },
     "execution_count": 586,
     "metadata": {},
     "output_type": "execute_result"
    }
   ],
   "source": [
    "data.genre2.isna().sum()"
   ]
  },
  {
   "cell_type": "code",
   "execution_count": 587,
   "metadata": {},
   "outputs": [],
   "source": [
    "data.genre2=data.genre2.fillna('no')"
   ]
  },
  {
   "cell_type": "code",
   "execution_count": 588,
   "metadata": {},
   "outputs": [],
   "source": [
    "data.genre2=data.genre2.str.strip(' ')"
   ]
  },
  {
   "cell_type": "code",
   "execution_count": 589,
   "metadata": {},
   "outputs": [
    {
     "data": {
      "text/plain": [
       "0"
      ]
     },
     "execution_count": 589,
     "metadata": {},
     "output_type": "execute_result"
    }
   ],
   "source": [
    "data.genre2.isna().sum()"
   ]
  },
  {
   "cell_type": "code",
   "execution_count": 590,
   "metadata": {},
   "outputs": [
    {
     "data": {
      "text/plain": [
       "no             1674\n",
       "Drama          1423\n",
       "Comedy          562\n",
       "Romance         530\n",
       "Adventure       477\n",
       "Music           436\n",
       "Crime           379\n",
       "Action          299\n",
       "Horror          245\n",
       "Thriller        229\n",
       "Family          224\n",
       "Fantasy         196\n",
       "Sci-Fi          194\n",
       "Biography       190\n",
       "History         170\n",
       "Mystery         168\n",
       "Short           140\n",
       "Musical          94\n",
       "War              79\n",
       "Sport            70\n",
       "Western          44\n",
       "Documentary      38\n",
       "Animation        20\n",
       "Reality-TV       14\n",
       "Film-Noir        10\n",
       "Talk-Show         7\n",
       "News              3\n",
       "Game-Show         1\n",
       "Name: genre2, dtype: int64"
      ]
     },
     "execution_count": 590,
     "metadata": {},
     "output_type": "execute_result"
    }
   ],
   "source": [
    "data.genre2.value_counts()"
   ]
  },
  {
   "cell_type": "markdown",
   "metadata": {},
   "source": [
    "### Runtime"
   ]
  },
  {
   "cell_type": "code",
   "execution_count": 591,
   "metadata": {},
   "outputs": [
    {
     "data": {
      "text/plain": [
       "1572"
      ]
     },
     "execution_count": 591,
     "metadata": {},
     "output_type": "execute_result"
    }
   ],
   "source": [
    "data.runtime.isna().sum()"
   ]
  },
  {
   "cell_type": "markdown",
   "metadata": {},
   "source": [
    "We decided to input the missing values of NaN depending on mean values for that specific kind of genre1"
   ]
  },
  {
   "cell_type": "code",
   "execution_count": 592,
   "metadata": {},
   "outputs": [
    {
     "data": {
      "text/plain": [
       "genre1\n",
       "Action         102.887743\n",
       "Adventure       97.172691\n",
       "Animation      101.987402\n",
       "Biography       98.542105\n",
       "Comedy         101.043478\n",
       "Crime           99.306630\n",
       "Documentary     97.820080\n",
       "Drama          100.020374\n",
       "Family          97.482759\n",
       "Fantasy         88.609756\n",
       "Film-Noir      107.666667\n",
       "Game-Show       91.800000\n",
       "History         79.857143\n",
       "Horror         102.783133\n",
       "Music          106.000000\n",
       "Musical        106.521739\n",
       "Mystery         88.846154\n",
       "Reality-TV     112.636364\n",
       "Romance        104.809524\n",
       "Sci-Fi          94.041667\n",
       "Short           87.571429\n",
       "Sport           85.315789\n",
       "Talk-Show       66.000000\n",
       "Thriller        97.054054\n",
       "War                   NaN\n",
       "Western         84.722222\n",
       "Name: runtime, dtype: float64"
      ]
     },
     "execution_count": 592,
     "metadata": {},
     "output_type": "execute_result"
    }
   ],
   "source": [
    "avereage_runtime = data.groupby('genre1')['runtime'].agg('mean')\n",
    "avereage_runtime"
   ]
  },
  {
   "cell_type": "markdown",
   "metadata": {},
   "source": [
    "We see that there is missing value for War, and while analysing column genre1 we could observe that there is only one value like that so we can drop it."
   ]
  },
  {
   "cell_type": "code",
   "execution_count": 593,
   "metadata": {},
   "outputs": [
    {
     "data": {
      "text/html": [
       "<div>\n",
       "<style scoped>\n",
       "    .dataframe tbody tr th:only-of-type {\n",
       "        vertical-align: middle;\n",
       "    }\n",
       "\n",
       "    .dataframe tbody tr th {\n",
       "        vertical-align: top;\n",
       "    }\n",
       "\n",
       "    .dataframe thead th {\n",
       "        text-align: right;\n",
       "    }\n",
       "</style>\n",
       "<table border=\"1\" class=\"dataframe\">\n",
       "  <thead>\n",
       "    <tr style=\"text-align: right;\">\n",
       "      <th></th>\n",
       "      <th>year</th>\n",
       "      <th>kind</th>\n",
       "      <th>rating</th>\n",
       "      <th>vote</th>\n",
       "      <th>country</th>\n",
       "      <th>runtime</th>\n",
       "      <th>genre1</th>\n",
       "      <th>genre2</th>\n",
       "    </tr>\n",
       "  </thead>\n",
       "  <tbody>\n",
       "    <tr>\n",
       "      <th>7797</th>\n",
       "      <td>2001.0</td>\n",
       "      <td>movie</td>\n",
       "      <td>7.2</td>\n",
       "      <td>5714.0</td>\n",
       "      <td>Czechia</td>\n",
       "      <td>NaN</td>\n",
       "      <td>War</td>\n",
       "      <td>Drama</td>\n",
       "    </tr>\n",
       "  </tbody>\n",
       "</table>\n",
       "</div>"
      ],
      "text/plain": [
       "        year   kind  rating    vote  country  runtime genre1 genre2\n",
       "7797  2001.0  movie     7.2  5714.0  Czechia      NaN    War  Drama"
      ]
     },
     "execution_count": 593,
     "metadata": {},
     "output_type": "execute_result"
    }
   ],
   "source": [
    "data[data.genre1 == 'War']"
   ]
  },
  {
   "cell_type": "code",
   "execution_count": 594,
   "metadata": {},
   "outputs": [],
   "source": [
    "data.drop([7797], inplace=True)"
   ]
  },
  {
   "cell_type": "code",
   "execution_count": 595,
   "metadata": {},
   "outputs": [
    {
     "data": {
      "text/html": [
       "<div>\n",
       "<style scoped>\n",
       "    .dataframe tbody tr th:only-of-type {\n",
       "        vertical-align: middle;\n",
       "    }\n",
       "\n",
       "    .dataframe tbody tr th {\n",
       "        vertical-align: top;\n",
       "    }\n",
       "\n",
       "    .dataframe thead th {\n",
       "        text-align: right;\n",
       "    }\n",
       "</style>\n",
       "<table border=\"1\" class=\"dataframe\">\n",
       "  <thead>\n",
       "    <tr style=\"text-align: right;\">\n",
       "      <th></th>\n",
       "      <th>year</th>\n",
       "      <th>kind</th>\n",
       "      <th>rating</th>\n",
       "      <th>vote</th>\n",
       "      <th>country</th>\n",
       "      <th>runtime</th>\n",
       "      <th>genre1</th>\n",
       "      <th>genre2</th>\n",
       "    </tr>\n",
       "  </thead>\n",
       "  <tbody>\n",
       "  </tbody>\n",
       "</table>\n",
       "</div>"
      ],
      "text/plain": [
       "Empty DataFrame\n",
       "Columns: [year, kind, rating, vote, country, runtime, genre1, genre2]\n",
       "Index: []"
      ]
     },
     "execution_count": 595,
     "metadata": {},
     "output_type": "execute_result"
    }
   ],
   "source": [
    "data[data.genre1 == 'War']"
   ]
  },
  {
   "cell_type": "code",
   "execution_count": 596,
   "metadata": {},
   "outputs": [],
   "source": [
    "#We create a list of uhnique genres\n",
    "genre1_unique = data.genre1[data.runtime.isna()].unique()"
   ]
  },
  {
   "cell_type": "code",
   "execution_count": 597,
   "metadata": {},
   "outputs": [
    {
     "data": {
      "text/plain": [
       "array(['Action', 'Fantasy', 'Documentary', 'Comedy', 'Drama', 'Animation',\n",
       "       'Music', 'Horror', 'Adventure', 'Crime', 'Biography', 'Short',\n",
       "       'Romance', 'Musical', 'Sport', 'Western', 'Thriller', 'Reality-TV',\n",
       "       'Sci-Fi', 'Family', 'Mystery', 'Game-Show', 'Film-Noir'],\n",
       "      dtype=object)"
      ]
     },
     "execution_count": 597,
     "metadata": {},
     "output_type": "execute_result"
    }
   ],
   "source": [
    "genre1_unique "
   ]
  },
  {
   "cell_type": "code",
   "execution_count": 598,
   "metadata": {},
   "outputs": [
    {
     "data": {
      "text/plain": [
       "genre1\n",
       "Action         102.887743\n",
       "Adventure       97.172691\n",
       "Animation      101.987402\n",
       "Biography       98.542105\n",
       "Comedy         101.043478\n",
       "Crime           99.306630\n",
       "Documentary     97.820080\n",
       "Drama          100.020374\n",
       "Family          97.482759\n",
       "Fantasy         88.609756\n",
       "Film-Noir      107.666667\n",
       "Game-Show       91.800000\n",
       "History         79.857143\n",
       "Horror         102.783133\n",
       "Music          106.000000\n",
       "Musical        106.521739\n",
       "Mystery         88.846154\n",
       "Reality-TV     112.636364\n",
       "Romance        104.809524\n",
       "Sci-Fi          94.041667\n",
       "Short           87.571429\n",
       "Sport           85.315789\n",
       "Talk-Show       66.000000\n",
       "Thriller        97.054054\n",
       "Western         84.722222\n",
       "Name: runtime, dtype: float64"
      ]
     },
     "execution_count": 598,
     "metadata": {},
     "output_type": "execute_result"
    }
   ],
   "source": [
    "#We rerun this part of code to have updated list without war\n",
    "avereage_runtime = data.groupby('genre1')['runtime'].agg('mean')\n",
    "avereage_runtime"
   ]
  },
  {
   "cell_type": "code",
   "execution_count": 599,
   "metadata": {},
   "outputs": [],
   "source": [
    "avereage_runtime = pd.DataFrame(avereage_runtime)"
   ]
  },
  {
   "cell_type": "code",
   "execution_count": 600,
   "metadata": {},
   "outputs": [
    {
     "data": {
      "text/plain": [
       "102.8877434135166"
      ]
     },
     "execution_count": 600,
     "metadata": {},
     "output_type": "execute_result"
    }
   ],
   "source": [
    "avereage_runtime.loc['Action'][0]"
   ]
  },
  {
   "cell_type": "code",
   "execution_count": 609,
   "metadata": {},
   "outputs": [],
   "source": [
    "for genre in genre1_unique:\n",
    "\tmean = avereage_runtime.loc[genre][0]\n",
    "\tdata.loc[data.genre1==genre,'runtime'] = data.loc[data.genre1==genre,'runtime'].fillna(mean)\n",
    "\t"
   ]
  },
  {
   "cell_type": "code",
   "execution_count": 610,
   "metadata": {},
   "outputs": [
    {
     "data": {
      "text/html": [
       "<div>\n",
       "<style scoped>\n",
       "    .dataframe tbody tr th:only-of-type {\n",
       "        vertical-align: middle;\n",
       "    }\n",
       "\n",
       "    .dataframe tbody tr th {\n",
       "        vertical-align: top;\n",
       "    }\n",
       "\n",
       "    .dataframe thead th {\n",
       "        text-align: right;\n",
       "    }\n",
       "</style>\n",
       "<table border=\"1\" class=\"dataframe\">\n",
       "  <thead>\n",
       "    <tr style=\"text-align: right;\">\n",
       "      <th></th>\n",
       "      <th>year</th>\n",
       "      <th>kind</th>\n",
       "      <th>rating</th>\n",
       "      <th>vote</th>\n",
       "      <th>country</th>\n",
       "      <th>runtime</th>\n",
       "      <th>genre1</th>\n",
       "      <th>genre2</th>\n",
       "    </tr>\n",
       "  </thead>\n",
       "  <tbody>\n",
       "    <tr>\n",
       "      <th>0</th>\n",
       "      <td>2003.0</td>\n",
       "      <td>tv mini series</td>\n",
       "      <td>7.7</td>\n",
       "      <td>474.0</td>\n",
       "      <td>United States</td>\n",
       "      <td>50.000000</td>\n",
       "      <td>Documentary</td>\n",
       "      <td>Animation</td>\n",
       "    </tr>\n",
       "    <tr>\n",
       "      <th>1</th>\n",
       "      <td>1994.0</td>\n",
       "      <td>video movie</td>\n",
       "      <td>8.1</td>\n",
       "      <td>18.0</td>\n",
       "      <td>United States</td>\n",
       "      <td>83.000000</td>\n",
       "      <td>Family</td>\n",
       "      <td>no</td>\n",
       "    </tr>\n",
       "    <tr>\n",
       "      <th>2</th>\n",
       "      <td>1992.0</td>\n",
       "      <td>movie</td>\n",
       "      <td>5.5</td>\n",
       "      <td>93.0</td>\n",
       "      <td>Japan</td>\n",
       "      <td>102.887743</td>\n",
       "      <td>Action</td>\n",
       "      <td>Sci-Fi</td>\n",
       "    </tr>\n",
       "    <tr>\n",
       "      <th>3</th>\n",
       "      <td>2004.0</td>\n",
       "      <td>movie</td>\n",
       "      <td>5.3</td>\n",
       "      <td>13432.0</td>\n",
       "      <td>United States</td>\n",
       "      <td>60.000000</td>\n",
       "      <td>Documentary</td>\n",
       "      <td>Comedy</td>\n",
       "    </tr>\n",
       "    <tr>\n",
       "      <th>4</th>\n",
       "      <td>1991.0</td>\n",
       "      <td>movie</td>\n",
       "      <td>4.5</td>\n",
       "      <td>2177.0</td>\n",
       "      <td>United States</td>\n",
       "      <td>96.000000</td>\n",
       "      <td>Comedy</td>\n",
       "      <td>Horror</td>\n",
       "    </tr>\n",
       "  </tbody>\n",
       "</table>\n",
       "</div>"
      ],
      "text/plain": [
       "     year            kind  rating     vote        country     runtime  \\\n",
       "0  2003.0  tv mini series     7.7    474.0  United States   50.000000   \n",
       "1  1994.0     video movie     8.1     18.0  United States   83.000000   \n",
       "2  1992.0           movie     5.5     93.0          Japan  102.887743   \n",
       "3  2004.0           movie     5.3  13432.0  United States   60.000000   \n",
       "4  1991.0           movie     4.5   2177.0  United States   96.000000   \n",
       "\n",
       "        genre1     genre2  \n",
       "0  Documentary  Animation  \n",
       "1       Family         no  \n",
       "2       Action     Sci-Fi  \n",
       "3  Documentary     Comedy  \n",
       "4       Comedy     Horror  "
      ]
     },
     "execution_count": 610,
     "metadata": {},
     "output_type": "execute_result"
    }
   ],
   "source": [
    "data.head()"
   ]
  },
  {
   "cell_type": "code",
   "execution_count": 612,
   "metadata": {},
   "outputs": [
    {
     "data": {
      "text/plain": [
       "year       0\n",
       "kind       0\n",
       "rating     0\n",
       "vote       0\n",
       "country    0\n",
       "runtime    0\n",
       "genre1     0\n",
       "genre2     0\n",
       "dtype: int64"
      ]
     },
     "execution_count": 612,
     "metadata": {},
     "output_type": "execute_result"
    }
   ],
   "source": [
    "data.isna().sum()"
   ]
  },
  {
   "cell_type": "markdown",
   "metadata": {},
   "source": [
    "Now we can save the data in the seprate file before encoding "
   ]
  },
  {
   "cell_type": "code",
   "execution_count": 613,
   "metadata": {},
   "outputs": [],
   "source": [
    "data.to_csv(r'C:\\Users\\radek\\IronHack\\IronRadek\\Week7\\Project7_Supervised_Learning\\data_netfilix_clean.csv')"
   ]
  },
  {
   "cell_type": "markdown",
   "metadata": {},
   "source": [
    "## EDA"
   ]
  },
  {
   "cell_type": "markdown",
   "metadata": {},
   "source": [
    "Movies per year"
   ]
  },
  {
   "cell_type": "code",
   "execution_count": 621,
   "metadata": {},
   "outputs": [],
   "source": [
    "movies_year = data.groupby('year')['kind'].agg('count')"
   ]
  },
  {
   "cell_type": "code",
   "execution_count": 622,
   "metadata": {},
   "outputs": [
    {
     "name": "stderr",
     "output_type": "stream",
     "text": [
      "C:\\Users\\radek\\Anaconda3\\lib\\site-packages\\seaborn\\_decorators.py:36: FutureWarning: Pass the following variables as keyword args: x, y. From version 0.12, the only valid positional argument will be `data`, and passing other arguments without an explicit keyword will result in an error or misinterpretation.\n",
      "  warnings.warn(\n"
     ]
    },
    {
     "data": {
      "text/plain": [
       "<AxesSubplot:xlabel='year', ylabel='kind'>"
      ]
     },
     "execution_count": 622,
     "metadata": {},
     "output_type": "execute_result"
    },
    {
     "data": {
      "image/png": "[encoded data removed]",
      "text/plain": [
       "<Figure size 432x288 with 1 Axes>"
      ]
     },
     "metadata": {
      "needs_background": "light"
     },
     "output_type": "display_data"
    }
   ],
   "source": [
    "sns.barplot(movies_year.index,movies_year)"
   ]
  },
  {
   "cell_type": "markdown",
   "metadata": {},
   "source": [
    "Movies per country"
   ]
  },
  {
   "cell_type": "code",
   "execution_count": 623,
   "metadata": {},
   "outputs": [],
   "source": [
    "movies_country = data.groupby('country')['kind'].agg('count')"
   ]
  },
  {
   "cell_type": "code",
   "execution_count": 624,
   "metadata": {},
   "outputs": [
    {
     "name": "stderr",
     "output_type": "stream",
     "text": [
      "C:\\Users\\radek\\Anaconda3\\lib\\site-packages\\seaborn\\_decorators.py:36: FutureWarning: Pass the following variables as keyword args: x, y. From version 0.12, the only valid positional argument will be `data`, and passing other arguments without an explicit keyword will result in an error or misinterpretation.\n",
      "  warnings.warn(\n"
     ]
    },
    {
     "data": {
      "text/plain": [
       "<AxesSubplot:xlabel='country', ylabel='kind'>"
      ]
     },
     "execution_count": 624,
     "metadata": {},
     "output_type": "execute_result"
    },
    {
     "data": {
      "image/png": "[encoded data removed]",
      "text/plain": [
       "<Figure size 432x288 with 1 Axes>"
      ]
     },
     "metadata": {
      "needs_background": "light"
     },
     "output_type": "display_data"
    }
   ],
   "source": [
    "sns.barplot(movies_country.index,movies_country)"
   ]
  },
  {
   "cell_type": "markdown",
   "metadata": {},
   "source": [
    "Most popular genre per year"
   ]
  },
  {
   "cell_type": "code",
   "execution_count": 635,
   "metadata": {},
   "outputs": [],
   "source": [
    "movies_country = pd.crosstab(data.year, data.genre1)"
   ]
  },
  {
   "cell_type": "code",
   "execution_count": 631,
   "metadata": {},
   "outputs": [
    {
     "data": {
      "text/html": [
       "<div>\n",
       "<style scoped>\n",
       "    .dataframe tbody tr th:only-of-type {\n",
       "        vertical-align: middle;\n",
       "    }\n",
       "\n",
       "    .dataframe tbody tr th {\n",
       "        vertical-align: top;\n",
       "    }\n",
       "\n",
       "    .dataframe thead th {\n",
       "        text-align: right;\n",
       "    }\n",
       "</style>\n",
       "<table border=\"1\" class=\"dataframe\">\n",
       "  <thead>\n",
       "    <tr style=\"text-align: right;\">\n",
       "      <th>genre1</th>\n",
       "      <th>Action</th>\n",
       "      <th>Adventure</th>\n",
       "      <th>Animation</th>\n",
       "      <th>Biography</th>\n",
       "      <th>Comedy</th>\n",
       "      <th>Crime</th>\n",
       "      <th>Documentary</th>\n",
       "      <th>Drama</th>\n",
       "      <th>Family</th>\n",
       "      <th>Fantasy</th>\n",
       "      <th>...</th>\n",
       "      <th>Musical</th>\n",
       "      <th>Mystery</th>\n",
       "      <th>Reality-TV</th>\n",
       "      <th>Romance</th>\n",
       "      <th>Sci-Fi</th>\n",
       "      <th>Short</th>\n",
       "      <th>Sport</th>\n",
       "      <th>Talk-Show</th>\n",
       "      <th>Thriller</th>\n",
       "      <th>Western</th>\n",
       "    </tr>\n",
       "    <tr>\n",
       "      <th>year</th>\n",
       "      <th></th>\n",
       "      <th></th>\n",
       "      <th></th>\n",
       "      <th></th>\n",
       "      <th></th>\n",
       "      <th></th>\n",
       "      <th></th>\n",
       "      <th></th>\n",
       "      <th></th>\n",
       "      <th></th>\n",
       "      <th></th>\n",
       "      <th></th>\n",
       "      <th></th>\n",
       "      <th></th>\n",
       "      <th></th>\n",
       "      <th></th>\n",
       "      <th></th>\n",
       "      <th></th>\n",
       "      <th></th>\n",
       "      <th></th>\n",
       "      <th></th>\n",
       "    </tr>\n",
       "  </thead>\n",
       "  <tbody>\n",
       "    <tr>\n",
       "      <th>1914.0</th>\n",
       "      <td>1</td>\n",
       "      <td>0</td>\n",
       "      <td>0</td>\n",
       "      <td>0</td>\n",
       "      <td>0</td>\n",
       "      <td>0</td>\n",
       "      <td>0</td>\n",
       "      <td>0</td>\n",
       "      <td>0</td>\n",
       "      <td>0</td>\n",
       "      <td>...</td>\n",
       "      <td>0</td>\n",
       "      <td>0</td>\n",
       "      <td>0</td>\n",
       "      <td>0</td>\n",
       "      <td>0</td>\n",
       "      <td>0</td>\n",
       "      <td>0</td>\n",
       "      <td>0</td>\n",
       "      <td>0</td>\n",
       "      <td>0</td>\n",
       "    </tr>\n",
       "    <tr>\n",
       "      <th>1916.0</th>\n",
       "      <td>0</td>\n",
       "      <td>0</td>\n",
       "      <td>0</td>\n",
       "      <td>0</td>\n",
       "      <td>0</td>\n",
       "      <td>0</td>\n",
       "      <td>0</td>\n",
       "      <td>1</td>\n",
       "      <td>0</td>\n",
       "      <td>0</td>\n",
       "      <td>...</td>\n",
       "      <td>0</td>\n",
       "      <td>0</td>\n",
       "      <td>0</td>\n",
       "      <td>0</td>\n",
       "      <td>0</td>\n",
       "      <td>0</td>\n",
       "      <td>0</td>\n",
       "      <td>0</td>\n",
       "      <td>0</td>\n",
       "      <td>0</td>\n",
       "    </tr>\n",
       "    <tr>\n",
       "      <th>1918.0</th>\n",
       "      <td>0</td>\n",
       "      <td>0</td>\n",
       "      <td>0</td>\n",
       "      <td>0</td>\n",
       "      <td>3</td>\n",
       "      <td>0</td>\n",
       "      <td>0</td>\n",
       "      <td>0</td>\n",
       "      <td>0</td>\n",
       "      <td>0</td>\n",
       "      <td>...</td>\n",
       "      <td>0</td>\n",
       "      <td>0</td>\n",
       "      <td>0</td>\n",
       "      <td>0</td>\n",
       "      <td>0</td>\n",
       "      <td>0</td>\n",
       "      <td>0</td>\n",
       "      <td>0</td>\n",
       "      <td>0</td>\n",
       "      <td>0</td>\n",
       "    </tr>\n",
       "    <tr>\n",
       "      <th>1919.0</th>\n",
       "      <td>0</td>\n",
       "      <td>0</td>\n",
       "      <td>0</td>\n",
       "      <td>0</td>\n",
       "      <td>0</td>\n",
       "      <td>0</td>\n",
       "      <td>0</td>\n",
       "      <td>1</td>\n",
       "      <td>0</td>\n",
       "      <td>0</td>\n",
       "      <td>...</td>\n",
       "      <td>0</td>\n",
       "      <td>0</td>\n",
       "      <td>0</td>\n",
       "      <td>0</td>\n",
       "      <td>0</td>\n",
       "      <td>0</td>\n",
       "      <td>0</td>\n",
       "      <td>0</td>\n",
       "      <td>0</td>\n",
       "      <td>0</td>\n",
       "    </tr>\n",
       "    <tr>\n",
       "      <th>1922.0</th>\n",
       "      <td>0</td>\n",
       "      <td>0</td>\n",
       "      <td>0</td>\n",
       "      <td>0</td>\n",
       "      <td>0</td>\n",
       "      <td>0</td>\n",
       "      <td>2</td>\n",
       "      <td>0</td>\n",
       "      <td>0</td>\n",
       "      <td>0</td>\n",
       "      <td>...</td>\n",
       "      <td>0</td>\n",
       "      <td>0</td>\n",
       "      <td>0</td>\n",
       "      <td>0</td>\n",
       "      <td>0</td>\n",
       "      <td>0</td>\n",
       "      <td>0</td>\n",
       "      <td>0</td>\n",
       "      <td>0</td>\n",
       "      <td>0</td>\n",
       "    </tr>\n",
       "    <tr>\n",
       "      <th>...</th>\n",
       "      <td>...</td>\n",
       "      <td>...</td>\n",
       "      <td>...</td>\n",
       "      <td>...</td>\n",
       "      <td>...</td>\n",
       "      <td>...</td>\n",
       "      <td>...</td>\n",
       "      <td>...</td>\n",
       "      <td>...</td>\n",
       "      <td>...</td>\n",
       "      <td>...</td>\n",
       "      <td>...</td>\n",
       "      <td>...</td>\n",
       "      <td>...</td>\n",
       "      <td>...</td>\n",
       "      <td>...</td>\n",
       "      <td>...</td>\n",
       "      <td>...</td>\n",
       "      <td>...</td>\n",
       "      <td>...</td>\n",
       "      <td>...</td>\n",
       "    </tr>\n",
       "    <tr>\n",
       "      <th>2001.0</th>\n",
       "      <td>65</td>\n",
       "      <td>13</td>\n",
       "      <td>67</td>\n",
       "      <td>18</td>\n",
       "      <td>111</td>\n",
       "      <td>32</td>\n",
       "      <td>106</td>\n",
       "      <td>112</td>\n",
       "      <td>7</td>\n",
       "      <td>5</td>\n",
       "      <td>...</td>\n",
       "      <td>2</td>\n",
       "      <td>1</td>\n",
       "      <td>3</td>\n",
       "      <td>2</td>\n",
       "      <td>2</td>\n",
       "      <td>2</td>\n",
       "      <td>1</td>\n",
       "      <td>0</td>\n",
       "      <td>6</td>\n",
       "      <td>0</td>\n",
       "    </tr>\n",
       "    <tr>\n",
       "      <th>2002.0</th>\n",
       "      <td>65</td>\n",
       "      <td>8</td>\n",
       "      <td>64</td>\n",
       "      <td>19</td>\n",
       "      <td>95</td>\n",
       "      <td>43</td>\n",
       "      <td>136</td>\n",
       "      <td>99</td>\n",
       "      <td>5</td>\n",
       "      <td>3</td>\n",
       "      <td>...</td>\n",
       "      <td>2</td>\n",
       "      <td>2</td>\n",
       "      <td>1</td>\n",
       "      <td>2</td>\n",
       "      <td>1</td>\n",
       "      <td>8</td>\n",
       "      <td>0</td>\n",
       "      <td>0</td>\n",
       "      <td>3</td>\n",
       "      <td>1</td>\n",
       "    </tr>\n",
       "    <tr>\n",
       "      <th>2003.0</th>\n",
       "      <td>65</td>\n",
       "      <td>17</td>\n",
       "      <td>77</td>\n",
       "      <td>15</td>\n",
       "      <td>96</td>\n",
       "      <td>31</td>\n",
       "      <td>133</td>\n",
       "      <td>89</td>\n",
       "      <td>9</td>\n",
       "      <td>5</td>\n",
       "      <td>...</td>\n",
       "      <td>3</td>\n",
       "      <td>3</td>\n",
       "      <td>1</td>\n",
       "      <td>3</td>\n",
       "      <td>2</td>\n",
       "      <td>12</td>\n",
       "      <td>4</td>\n",
       "      <td>0</td>\n",
       "      <td>2</td>\n",
       "      <td>1</td>\n",
       "    </tr>\n",
       "    <tr>\n",
       "      <th>2004.0</th>\n",
       "      <td>60</td>\n",
       "      <td>11</td>\n",
       "      <td>65</td>\n",
       "      <td>14</td>\n",
       "      <td>88</td>\n",
       "      <td>21</td>\n",
       "      <td>167</td>\n",
       "      <td>86</td>\n",
       "      <td>7</td>\n",
       "      <td>1</td>\n",
       "      <td>...</td>\n",
       "      <td>1</td>\n",
       "      <td>0</td>\n",
       "      <td>3</td>\n",
       "      <td>2</td>\n",
       "      <td>2</td>\n",
       "      <td>2</td>\n",
       "      <td>4</td>\n",
       "      <td>0</td>\n",
       "      <td>4</td>\n",
       "      <td>1</td>\n",
       "    </tr>\n",
       "    <tr>\n",
       "      <th>2005.0</th>\n",
       "      <td>33</td>\n",
       "      <td>8</td>\n",
       "      <td>40</td>\n",
       "      <td>2</td>\n",
       "      <td>33</td>\n",
       "      <td>13</td>\n",
       "      <td>65</td>\n",
       "      <td>23</td>\n",
       "      <td>3</td>\n",
       "      <td>1</td>\n",
       "      <td>...</td>\n",
       "      <td>1</td>\n",
       "      <td>0</td>\n",
       "      <td>1</td>\n",
       "      <td>0</td>\n",
       "      <td>1</td>\n",
       "      <td>4</td>\n",
       "      <td>5</td>\n",
       "      <td>0</td>\n",
       "      <td>1</td>\n",
       "      <td>0</td>\n",
       "    </tr>\n",
       "  </tbody>\n",
       "</table>\n",
       "<p>88 rows × 25 columns</p>\n",
       "</div>"
      ],
      "text/plain": [
       "genre1  Action  Adventure  Animation  Biography  Comedy  Crime  Documentary  \\\n",
       "year                                                                          \n",
       "1914.0       1          0          0          0       0      0            0   \n",
       "1916.0       0          0          0          0       0      0            0   \n",
       "1918.0       0          0          0          0       3      0            0   \n",
       "1919.0       0          0          0          0       0      0            0   \n",
       "1922.0       0          0          0          0       0      0            2   \n",
       "...        ...        ...        ...        ...     ...    ...          ...   \n",
       "2001.0      65         13         67         18     111     32          106   \n",
       "2002.0      65          8         64         19      95     43          136   \n",
       "2003.0      65         17         77         15      96     31          133   \n",
       "2004.0      60         11         65         14      88     21          167   \n",
       "2005.0      33          8         40          2      33     13           65   \n",
       "\n",
       "genre1  Drama  Family  Fantasy  ...  Musical  Mystery  Reality-TV  Romance  \\\n",
       "year                            ...                                          \n",
       "1914.0      0       0        0  ...        0        0           0        0   \n",
       "1916.0      1       0        0  ...        0        0           0        0   \n",
       "1918.0      0       0        0  ...        0        0           0        0   \n",
       "1919.0      1       0        0  ...        0        0           0        0   \n",
       "1922.0      0       0        0  ...        0        0           0        0   \n",
       "...       ...     ...      ...  ...      ...      ...         ...      ...   \n",
       "2001.0    112       7        5  ...        2        1           3        2   \n",
       "2002.0     99       5        3  ...        2        2           1        2   \n",
       "2003.0     89       9        5  ...        3        3           1        3   \n",
       "2004.0     86       7        1  ...        1        0           3        2   \n",
       "2005.0     23       3        1  ...        1        0           1        0   \n",
       "\n",
       "genre1  Sci-Fi  Short  Sport  Talk-Show  Thriller  Western  \n",
       "year                                                        \n",
       "1914.0       0      0      0          0         0        0  \n",
       "1916.0       0      0      0          0         0        0  \n",
       "1918.0       0      0      0          0         0        0  \n",
       "1919.0       0      0      0          0         0        0  \n",
       "1922.0       0      0      0          0         0        0  \n",
       "...        ...    ...    ...        ...       ...      ...  \n",
       "2001.0       2      2      1          0         6        0  \n",
       "2002.0       1      8      0          0         3        1  \n",
       "2003.0       2     12      4          0         2        1  \n",
       "2004.0       2      2      4          0         4        1  \n",
       "2005.0       1      4      5          0         1        0  \n",
       "\n",
       "[88 rows x 25 columns]"
      ]
     },
     "execution_count": 631,
     "metadata": {},
     "output_type": "execute_result"
    }
   ],
   "source": [
    "movies_country"
   ]
  },
  {
   "cell_type": "markdown",
   "metadata": {},
   "source": [
    "Most popular genre per country"
   ]
  },
  {
   "cell_type": "code",
   "execution_count": 640,
   "metadata": {},
   "outputs": [],
   "source": [
    "movies_country_genre = pd.crosstab(data.country, data.genre1, values=data.genre1, aggfunc='max')"
   ]
  },
  {
   "cell_type": "code",
   "execution_count": 641,
   "metadata": {},
   "outputs": [
    {
     "data": {
      "text/html": [
       "<div>\n",
       "<style scoped>\n",
       "    .dataframe tbody tr th:only-of-type {\n",
       "        vertical-align: middle;\n",
       "    }\n",
       "\n",
       "    .dataframe tbody tr th {\n",
       "        vertical-align: top;\n",
       "    }\n",
       "\n",
       "    .dataframe thead th {\n",
       "        text-align: right;\n",
       "    }\n",
       "</style>\n",
       "<table border=\"1\" class=\"dataframe\">\n",
       "  <thead>\n",
       "    <tr style=\"text-align: right;\">\n",
       "      <th>genre1</th>\n",
       "      <th>Action</th>\n",
       "      <th>Adventure</th>\n",
       "      <th>Animation</th>\n",
       "      <th>Biography</th>\n",
       "      <th>Comedy</th>\n",
       "      <th>Crime</th>\n",
       "      <th>Documentary</th>\n",
       "      <th>Drama</th>\n",
       "      <th>Family</th>\n",
       "      <th>Fantasy</th>\n",
       "      <th>...</th>\n",
       "      <th>Musical</th>\n",
       "      <th>Mystery</th>\n",
       "      <th>Reality-TV</th>\n",
       "      <th>Romance</th>\n",
       "      <th>Sci-Fi</th>\n",
       "      <th>Short</th>\n",
       "      <th>Sport</th>\n",
       "      <th>Talk-Show</th>\n",
       "      <th>Thriller</th>\n",
       "      <th>Western</th>\n",
       "    </tr>\n",
       "    <tr>\n",
       "      <th>country</th>\n",
       "      <th></th>\n",
       "      <th></th>\n",
       "      <th></th>\n",
       "      <th></th>\n",
       "      <th></th>\n",
       "      <th></th>\n",
       "      <th></th>\n",
       "      <th></th>\n",
       "      <th></th>\n",
       "      <th></th>\n",
       "      <th></th>\n",
       "      <th></th>\n",
       "      <th></th>\n",
       "      <th></th>\n",
       "      <th></th>\n",
       "      <th></th>\n",
       "      <th></th>\n",
       "      <th></th>\n",
       "      <th></th>\n",
       "      <th></th>\n",
       "      <th></th>\n",
       "    </tr>\n",
       "  </thead>\n",
       "  <tbody>\n",
       "    <tr>\n",
       "      <th>Afghanistan</th>\n",
       "      <td>NaN</td>\n",
       "      <td>NaN</td>\n",
       "      <td>NaN</td>\n",
       "      <td>NaN</td>\n",
       "      <td>NaN</td>\n",
       "      <td>NaN</td>\n",
       "      <td>NaN</td>\n",
       "      <td>Drama</td>\n",
       "      <td>NaN</td>\n",
       "      <td>NaN</td>\n",
       "      <td>...</td>\n",
       "      <td>NaN</td>\n",
       "      <td>NaN</td>\n",
       "      <td>NaN</td>\n",
       "      <td>NaN</td>\n",
       "      <td>NaN</td>\n",
       "      <td>NaN</td>\n",
       "      <td>NaN</td>\n",
       "      <td>NaN</td>\n",
       "      <td>NaN</td>\n",
       "      <td>NaN</td>\n",
       "    </tr>\n",
       "    <tr>\n",
       "      <th>Argentina</th>\n",
       "      <td>Action</td>\n",
       "      <td>Adventure</td>\n",
       "      <td>NaN</td>\n",
       "      <td>NaN</td>\n",
       "      <td>Comedy</td>\n",
       "      <td>Crime</td>\n",
       "      <td>Documentary</td>\n",
       "      <td>Drama</td>\n",
       "      <td>NaN</td>\n",
       "      <td>NaN</td>\n",
       "      <td>...</td>\n",
       "      <td>NaN</td>\n",
       "      <td>NaN</td>\n",
       "      <td>NaN</td>\n",
       "      <td>NaN</td>\n",
       "      <td>NaN</td>\n",
       "      <td>Short</td>\n",
       "      <td>NaN</td>\n",
       "      <td>NaN</td>\n",
       "      <td>NaN</td>\n",
       "      <td>NaN</td>\n",
       "    </tr>\n",
       "    <tr>\n",
       "      <th>Armenia</th>\n",
       "      <td>NaN</td>\n",
       "      <td>NaN</td>\n",
       "      <td>NaN</td>\n",
       "      <td>NaN</td>\n",
       "      <td>Comedy</td>\n",
       "      <td>NaN</td>\n",
       "      <td>NaN</td>\n",
       "      <td>NaN</td>\n",
       "      <td>NaN</td>\n",
       "      <td>NaN</td>\n",
       "      <td>...</td>\n",
       "      <td>NaN</td>\n",
       "      <td>NaN</td>\n",
       "      <td>NaN</td>\n",
       "      <td>NaN</td>\n",
       "      <td>NaN</td>\n",
       "      <td>NaN</td>\n",
       "      <td>NaN</td>\n",
       "      <td>NaN</td>\n",
       "      <td>NaN</td>\n",
       "      <td>NaN</td>\n",
       "    </tr>\n",
       "    <tr>\n",
       "      <th>Aruba</th>\n",
       "      <td>Action</td>\n",
       "      <td>NaN</td>\n",
       "      <td>NaN</td>\n",
       "      <td>NaN</td>\n",
       "      <td>NaN</td>\n",
       "      <td>NaN</td>\n",
       "      <td>NaN</td>\n",
       "      <td>NaN</td>\n",
       "      <td>NaN</td>\n",
       "      <td>NaN</td>\n",
       "      <td>...</td>\n",
       "      <td>NaN</td>\n",
       "      <td>NaN</td>\n",
       "      <td>NaN</td>\n",
       "      <td>NaN</td>\n",
       "      <td>NaN</td>\n",
       "      <td>NaN</td>\n",
       "      <td>NaN</td>\n",
       "      <td>NaN</td>\n",
       "      <td>NaN</td>\n",
       "      <td>NaN</td>\n",
       "    </tr>\n",
       "    <tr>\n",
       "      <th>Australia</th>\n",
       "      <td>Action</td>\n",
       "      <td>Adventure</td>\n",
       "      <td>Animation</td>\n",
       "      <td>Biography</td>\n",
       "      <td>Comedy</td>\n",
       "      <td>Crime</td>\n",
       "      <td>Documentary</td>\n",
       "      <td>Drama</td>\n",
       "      <td>Family</td>\n",
       "      <td>NaN</td>\n",
       "      <td>...</td>\n",
       "      <td>NaN</td>\n",
       "      <td>NaN</td>\n",
       "      <td>NaN</td>\n",
       "      <td>NaN</td>\n",
       "      <td>NaN</td>\n",
       "      <td>Short</td>\n",
       "      <td>NaN</td>\n",
       "      <td>NaN</td>\n",
       "      <td>NaN</td>\n",
       "      <td>NaN</td>\n",
       "    </tr>\n",
       "    <tr>\n",
       "      <th>...</th>\n",
       "      <td>...</td>\n",
       "      <td>...</td>\n",
       "      <td>...</td>\n",
       "      <td>...</td>\n",
       "      <td>...</td>\n",
       "      <td>...</td>\n",
       "      <td>...</td>\n",
       "      <td>...</td>\n",
       "      <td>...</td>\n",
       "      <td>...</td>\n",
       "      <td>...</td>\n",
       "      <td>...</td>\n",
       "      <td>...</td>\n",
       "      <td>...</td>\n",
       "      <td>...</td>\n",
       "      <td>...</td>\n",
       "      <td>...</td>\n",
       "      <td>...</td>\n",
       "      <td>...</td>\n",
       "      <td>...</td>\n",
       "      <td>...</td>\n",
       "    </tr>\n",
       "    <tr>\n",
       "      <th>United States</th>\n",
       "      <td>Action</td>\n",
       "      <td>Adventure</td>\n",
       "      <td>Animation</td>\n",
       "      <td>Biography</td>\n",
       "      <td>Comedy</td>\n",
       "      <td>Crime</td>\n",
       "      <td>Documentary</td>\n",
       "      <td>Drama</td>\n",
       "      <td>Family</td>\n",
       "      <td>Fantasy</td>\n",
       "      <td>...</td>\n",
       "      <td>Musical</td>\n",
       "      <td>Mystery</td>\n",
       "      <td>Reality-TV</td>\n",
       "      <td>Romance</td>\n",
       "      <td>Sci-Fi</td>\n",
       "      <td>Short</td>\n",
       "      <td>Sport</td>\n",
       "      <td>NaN</td>\n",
       "      <td>Thriller</td>\n",
       "      <td>Western</td>\n",
       "    </tr>\n",
       "    <tr>\n",
       "      <th>Venezuela</th>\n",
       "      <td>NaN</td>\n",
       "      <td>NaN</td>\n",
       "      <td>NaN</td>\n",
       "      <td>NaN</td>\n",
       "      <td>Comedy</td>\n",
       "      <td>NaN</td>\n",
       "      <td>NaN</td>\n",
       "      <td>NaN</td>\n",
       "      <td>NaN</td>\n",
       "      <td>NaN</td>\n",
       "      <td>...</td>\n",
       "      <td>NaN</td>\n",
       "      <td>NaN</td>\n",
       "      <td>NaN</td>\n",
       "      <td>NaN</td>\n",
       "      <td>NaN</td>\n",
       "      <td>NaN</td>\n",
       "      <td>NaN</td>\n",
       "      <td>NaN</td>\n",
       "      <td>NaN</td>\n",
       "      <td>NaN</td>\n",
       "    </tr>\n",
       "    <tr>\n",
       "      <th>Vietnam</th>\n",
       "      <td>NaN</td>\n",
       "      <td>NaN</td>\n",
       "      <td>NaN</td>\n",
       "      <td>NaN</td>\n",
       "      <td>Comedy</td>\n",
       "      <td>Crime</td>\n",
       "      <td>NaN</td>\n",
       "      <td>Drama</td>\n",
       "      <td>NaN</td>\n",
       "      <td>NaN</td>\n",
       "      <td>...</td>\n",
       "      <td>NaN</td>\n",
       "      <td>NaN</td>\n",
       "      <td>NaN</td>\n",
       "      <td>NaN</td>\n",
       "      <td>NaN</td>\n",
       "      <td>NaN</td>\n",
       "      <td>NaN</td>\n",
       "      <td>NaN</td>\n",
       "      <td>NaN</td>\n",
       "      <td>NaN</td>\n",
       "    </tr>\n",
       "    <tr>\n",
       "      <th>West Germany</th>\n",
       "      <td>Action</td>\n",
       "      <td>Adventure</td>\n",
       "      <td>NaN</td>\n",
       "      <td>Biography</td>\n",
       "      <td>Comedy</td>\n",
       "      <td>Crime</td>\n",
       "      <td>Documentary</td>\n",
       "      <td>Drama</td>\n",
       "      <td>NaN</td>\n",
       "      <td>NaN</td>\n",
       "      <td>...</td>\n",
       "      <td>NaN</td>\n",
       "      <td>NaN</td>\n",
       "      <td>NaN</td>\n",
       "      <td>NaN</td>\n",
       "      <td>NaN</td>\n",
       "      <td>NaN</td>\n",
       "      <td>NaN</td>\n",
       "      <td>NaN</td>\n",
       "      <td>NaN</td>\n",
       "      <td>NaN</td>\n",
       "    </tr>\n",
       "    <tr>\n",
       "      <th>Yugoslavia</th>\n",
       "      <td>NaN</td>\n",
       "      <td>NaN</td>\n",
       "      <td>NaN</td>\n",
       "      <td>Biography</td>\n",
       "      <td>Comedy</td>\n",
       "      <td>NaN</td>\n",
       "      <td>NaN</td>\n",
       "      <td>Drama</td>\n",
       "      <td>NaN</td>\n",
       "      <td>NaN</td>\n",
       "      <td>...</td>\n",
       "      <td>NaN</td>\n",
       "      <td>NaN</td>\n",
       "      <td>NaN</td>\n",
       "      <td>NaN</td>\n",
       "      <td>NaN</td>\n",
       "      <td>NaN</td>\n",
       "      <td>NaN</td>\n",
       "      <td>NaN</td>\n",
       "      <td>NaN</td>\n",
       "      <td>NaN</td>\n",
       "    </tr>\n",
       "  </tbody>\n",
       "</table>\n",
       "<p>67 rows × 25 columns</p>\n",
       "</div>"
      ],
      "text/plain": [
       "genre1         Action  Adventure  Animation  Biography  Comedy  Crime  \\\n",
       "country                                                                 \n",
       "Afghanistan       NaN        NaN        NaN        NaN     NaN    NaN   \n",
       "Argentina      Action  Adventure        NaN        NaN  Comedy  Crime   \n",
       "Armenia           NaN        NaN        NaN        NaN  Comedy    NaN   \n",
       "Aruba          Action        NaN        NaN        NaN     NaN    NaN   \n",
       "Australia      Action  Adventure  Animation  Biography  Comedy  Crime   \n",
       "...               ...        ...        ...        ...     ...    ...   \n",
       "United States  Action  Adventure  Animation  Biography  Comedy  Crime   \n",
       "Venezuela         NaN        NaN        NaN        NaN  Comedy    NaN   \n",
       "Vietnam           NaN        NaN        NaN        NaN  Comedy  Crime   \n",
       "West Germany   Action  Adventure        NaN  Biography  Comedy  Crime   \n",
       "Yugoslavia        NaN        NaN        NaN  Biography  Comedy    NaN   \n",
       "\n",
       "genre1         Documentary  Drama  Family  Fantasy  ...  Musical  Mystery  \\\n",
       "country                                             ...                     \n",
       "Afghanistan            NaN  Drama     NaN      NaN  ...      NaN      NaN   \n",
       "Argentina      Documentary  Drama     NaN      NaN  ...      NaN      NaN   \n",
       "Armenia                NaN    NaN     NaN      NaN  ...      NaN      NaN   \n",
       "Aruba                  NaN    NaN     NaN      NaN  ...      NaN      NaN   \n",
       "Australia      Documentary  Drama  Family      NaN  ...      NaN      NaN   \n",
       "...                    ...    ...     ...      ...  ...      ...      ...   \n",
       "United States  Documentary  Drama  Family  Fantasy  ...  Musical  Mystery   \n",
       "Venezuela              NaN    NaN     NaN      NaN  ...      NaN      NaN   \n",
       "Vietnam                NaN  Drama     NaN      NaN  ...      NaN      NaN   \n",
       "West Germany   Documentary  Drama     NaN      NaN  ...      NaN      NaN   \n",
       "Yugoslavia             NaN  Drama     NaN      NaN  ...      NaN      NaN   \n",
       "\n",
       "genre1         Reality-TV  Romance  Sci-Fi  Short  Sport Talk-Show  Thriller  \\\n",
       "country                                                                        \n",
       "Afghanistan           NaN      NaN     NaN    NaN    NaN       NaN       NaN   \n",
       "Argentina             NaN      NaN     NaN  Short    NaN       NaN       NaN   \n",
       "Armenia               NaN      NaN     NaN    NaN    NaN       NaN       NaN   \n",
       "Aruba                 NaN      NaN     NaN    NaN    NaN       NaN       NaN   \n",
       "Australia             NaN      NaN     NaN  Short    NaN       NaN       NaN   \n",
       "...                   ...      ...     ...    ...    ...       ...       ...   \n",
       "United States  Reality-TV  Romance  Sci-Fi  Short  Sport       NaN  Thriller   \n",
       "Venezuela             NaN      NaN     NaN    NaN    NaN       NaN       NaN   \n",
       "Vietnam               NaN      NaN     NaN    NaN    NaN       NaN       NaN   \n",
       "West Germany          NaN      NaN     NaN    NaN    NaN       NaN       NaN   \n",
       "Yugoslavia            NaN      NaN     NaN    NaN    NaN       NaN       NaN   \n",
       "\n",
       "genre1         Western  \n",
       "country                 \n",
       "Afghanistan        NaN  \n",
       "Argentina          NaN  \n",
       "Armenia            NaN  \n",
       "Aruba              NaN  \n",
       "Australia          NaN  \n",
       "...                ...  \n",
       "United States  Western  \n",
       "Venezuela          NaN  \n",
       "Vietnam            NaN  \n",
       "West Germany       NaN  \n",
       "Yugoslavia         NaN  \n",
       "\n",
       "[67 rows x 25 columns]"
      ]
     },
     "execution_count": 641,
     "metadata": {},
     "output_type": "execute_result"
    }
   ],
   "source": [
    "movies_country_genre"
   ]
  },
  {
   "cell_type": "markdown",
   "metadata": {},
   "source": [
    "## Encoding the Data "
   ]
  },
  {
   "cell_type": "code",
   "execution_count": 643,
   "metadata": {},
   "outputs": [
    {
     "data": {
      "text/plain": [
       "year       float64\n",
       "kind        object\n",
       "rating     float64\n",
       "vote       float64\n",
       "country     object\n",
       "runtime    float64\n",
       "genre1      object\n",
       "genre2      object\n",
       "dtype: object"
      ]
     },
     "execution_count": 643,
     "metadata": {},
     "output_type": "execute_result"
    }
   ],
   "source": [
    "data.dtypes"
   ]
  },
  {
   "cell_type": "code",
   "execution_count": 644,
   "metadata": {},
   "outputs": [],
   "source": [
    "from sklearn.preprocessing import LabelEncoder"
   ]
  },
  {
   "cell_type": "code",
   "execution_count": 648,
   "metadata": {},
   "outputs": [],
   "source": [
    "lbl_ebcode = LabelEncoder()\n",
    "data.kind = lbl_ebcode.fit_transform(data.kind)\n",
    "data.country = lbl_ebcode.fit_transform(data.country)\n",
    "data.genre1 = lbl_ebcode.fit_transform(data.genre1)\n",
    "data.genre2 = lbl_ebcode.fit_transform(data.genre2)"
   ]
  },
  {
   "cell_type": "code",
   "execution_count": 649,
   "metadata": {},
   "outputs": [
    {
     "data": {
      "text/html": [
       "<div>\n",
       "<style scoped>\n",
       "    .dataframe tbody tr th:only-of-type {\n",
       "        vertical-align: middle;\n",
       "    }\n",
       "\n",
       "    .dataframe tbody tr th {\n",
       "        vertical-align: top;\n",
       "    }\n",
       "\n",
       "    .dataframe thead th {\n",
       "        text-align: right;\n",
       "    }\n",
       "</style>\n",
       "<table border=\"1\" class=\"dataframe\">\n",
       "  <thead>\n",
       "    <tr style=\"text-align: right;\">\n",
       "      <th></th>\n",
       "      <th>year</th>\n",
       "      <th>kind</th>\n",
       "      <th>rating</th>\n",
       "      <th>vote</th>\n",
       "      <th>country</th>\n",
       "      <th>runtime</th>\n",
       "      <th>genre1</th>\n",
       "      <th>genre2</th>\n",
       "    </tr>\n",
       "  </thead>\n",
       "  <tbody>\n",
       "    <tr>\n",
       "      <th>0</th>\n",
       "      <td>2003.0</td>\n",
       "      <td>2</td>\n",
       "      <td>7.7</td>\n",
       "      <td>474.0</td>\n",
       "      <td>62</td>\n",
       "      <td>50.000000</td>\n",
       "      <td>6</td>\n",
       "      <td>2</td>\n",
       "    </tr>\n",
       "    <tr>\n",
       "      <th>1</th>\n",
       "      <td>1994.0</td>\n",
       "      <td>7</td>\n",
       "      <td>8.1</td>\n",
       "      <td>18.0</td>\n",
       "      <td>62</td>\n",
       "      <td>83.000000</td>\n",
       "      <td>8</td>\n",
       "      <td>27</td>\n",
       "    </tr>\n",
       "    <tr>\n",
       "      <th>2</th>\n",
       "      <td>1992.0</td>\n",
       "      <td>1</td>\n",
       "      <td>5.5</td>\n",
       "      <td>93.0</td>\n",
       "      <td>37</td>\n",
       "      <td>102.887743</td>\n",
       "      <td>0</td>\n",
       "      <td>20</td>\n",
       "    </tr>\n",
       "    <tr>\n",
       "      <th>3</th>\n",
       "      <td>2004.0</td>\n",
       "      <td>1</td>\n",
       "      <td>5.3</td>\n",
       "      <td>13432.0</td>\n",
       "      <td>62</td>\n",
       "      <td>60.000000</td>\n",
       "      <td>6</td>\n",
       "      <td>4</td>\n",
       "    </tr>\n",
       "    <tr>\n",
       "      <th>4</th>\n",
       "      <td>1991.0</td>\n",
       "      <td>1</td>\n",
       "      <td>4.5</td>\n",
       "      <td>2177.0</td>\n",
       "      <td>62</td>\n",
       "      <td>96.000000</td>\n",
       "      <td>4</td>\n",
       "      <td>13</td>\n",
       "    </tr>\n",
       "  </tbody>\n",
       "</table>\n",
       "</div>"
      ],
      "text/plain": [
       "     year  kind  rating     vote  country     runtime  genre1  genre2\n",
       "0  2003.0     2     7.7    474.0       62   50.000000       6       2\n",
       "1  1994.0     7     8.1     18.0       62   83.000000       8      27\n",
       "2  1992.0     1     5.5     93.0       37  102.887743       0      20\n",
       "3  2004.0     1     5.3  13432.0       62   60.000000       6       4\n",
       "4  1991.0     1     4.5   2177.0       62   96.000000       4      13"
      ]
     },
     "execution_count": 649,
     "metadata": {},
     "output_type": "execute_result"
    }
   ],
   "source": [
    "data.head()"
   ]
  },
  {
   "cell_type": "code",
   "execution_count": 653,
   "metadata": {},
   "outputs": [],
   "source": [
    "data.to_csv(r'C:\\Users\\radek\\IronHack\\IronRadek\\Week7\\Project7_Supervised_Learning\\data_encoded.csv', index=False)"
   ]
  },
  {
   "cell_type": "code",
   "execution_count": 654,
   "metadata": {},
   "outputs": [
    {
     "data": {
      "text/html": [
       "<div>\n",
       "<style scoped>\n",
       "    .dataframe tbody tr th:only-of-type {\n",
       "        vertical-align: middle;\n",
       "    }\n",
       "\n",
       "    .dataframe tbody tr th {\n",
       "        vertical-align: top;\n",
       "    }\n",
       "\n",
       "    .dataframe thead th {\n",
       "        text-align: right;\n",
       "    }\n",
       "</style>\n",
       "<table border=\"1\" class=\"dataframe\">\n",
       "  <thead>\n",
       "    <tr style=\"text-align: right;\">\n",
       "      <th></th>\n",
       "      <th>year</th>\n",
       "      <th>kind</th>\n",
       "      <th>rating</th>\n",
       "      <th>vote</th>\n",
       "      <th>country</th>\n",
       "      <th>runtime</th>\n",
       "      <th>genre1</th>\n",
       "      <th>genre2</th>\n",
       "    </tr>\n",
       "  </thead>\n",
       "  <tbody>\n",
       "    <tr>\n",
       "      <th>year</th>\n",
       "      <td>1.000000</td>\n",
       "      <td>0.261312</td>\n",
       "      <td>-0.175124</td>\n",
       "      <td>-0.017596</td>\n",
       "      <td>-0.045474</td>\n",
       "      <td>0.007951</td>\n",
       "      <td>0.003158</td>\n",
       "      <td>0.019557</td>\n",
       "    </tr>\n",
       "    <tr>\n",
       "      <th>kind</th>\n",
       "      <td>0.261312</td>\n",
       "      <td>1.000000</td>\n",
       "      <td>-0.011941</td>\n",
       "      <td>-0.098585</td>\n",
       "      <td>0.165543</td>\n",
       "      <td>0.011993</td>\n",
       "      <td>0.144620</td>\n",
       "      <td>0.102432</td>\n",
       "    </tr>\n",
       "    <tr>\n",
       "      <th>rating</th>\n",
       "      <td>-0.175124</td>\n",
       "      <td>-0.011941</td>\n",
       "      <td>1.000000</td>\n",
       "      <td>0.148769</td>\n",
       "      <td>0.046090</td>\n",
       "      <td>-0.002163</td>\n",
       "      <td>0.036219</td>\n",
       "      <td>-0.038078</td>\n",
       "    </tr>\n",
       "    <tr>\n",
       "      <th>vote</th>\n",
       "      <td>-0.017596</td>\n",
       "      <td>-0.098585</td>\n",
       "      <td>0.148769</td>\n",
       "      <td>1.000000</td>\n",
       "      <td>0.049417</td>\n",
       "      <td>-0.005021</td>\n",
       "      <td>-0.063021</td>\n",
       "      <td>-0.053120</td>\n",
       "    </tr>\n",
       "    <tr>\n",
       "      <th>country</th>\n",
       "      <td>-0.045474</td>\n",
       "      <td>0.165543</td>\n",
       "      <td>0.046090</td>\n",
       "      <td>0.049417</td>\n",
       "      <td>1.000000</td>\n",
       "      <td>0.003913</td>\n",
       "      <td>0.081620</td>\n",
       "      <td>0.085472</td>\n",
       "    </tr>\n",
       "    <tr>\n",
       "      <th>runtime</th>\n",
       "      <td>0.007951</td>\n",
       "      <td>0.011993</td>\n",
       "      <td>-0.002163</td>\n",
       "      <td>-0.005021</td>\n",
       "      <td>0.003913</td>\n",
       "      <td>1.000000</td>\n",
       "      <td>-0.017034</td>\n",
       "      <td>0.001727</td>\n",
       "    </tr>\n",
       "    <tr>\n",
       "      <th>genre1</th>\n",
       "      <td>0.003158</td>\n",
       "      <td>0.144620</td>\n",
       "      <td>0.036219</td>\n",
       "      <td>-0.063021</td>\n",
       "      <td>0.081620</td>\n",
       "      <td>-0.017034</td>\n",
       "      <td>1.000000</td>\n",
       "      <td>0.485832</td>\n",
       "    </tr>\n",
       "    <tr>\n",
       "      <th>genre2</th>\n",
       "      <td>0.019557</td>\n",
       "      <td>0.102432</td>\n",
       "      <td>-0.038078</td>\n",
       "      <td>-0.053120</td>\n",
       "      <td>0.085472</td>\n",
       "      <td>0.001727</td>\n",
       "      <td>0.485832</td>\n",
       "      <td>1.000000</td>\n",
       "    </tr>\n",
       "  </tbody>\n",
       "</table>\n",
       "</div>"
      ],
      "text/plain": [
       "             year      kind    rating      vote   country   runtime    genre1  \\\n",
       "year     1.000000  0.261312 -0.175124 -0.017596 -0.045474  0.007951  0.003158   \n",
       "kind     0.261312  1.000000 -0.011941 -0.098585  0.165543  0.011993  0.144620   \n",
       "rating  -0.175124 -0.011941  1.000000  0.148769  0.046090 -0.002163  0.036219   \n",
       "vote    -0.017596 -0.098585  0.148769  1.000000  0.049417 -0.005021 -0.063021   \n",
       "country -0.045474  0.165543  0.046090  0.049417  1.000000  0.003913  0.081620   \n",
       "runtime  0.007951  0.011993 -0.002163 -0.005021  0.003913  1.000000 -0.017034   \n",
       "genre1   0.003158  0.144620  0.036219 -0.063021  0.081620 -0.017034  1.000000   \n",
       "genre2   0.019557  0.102432 -0.038078 -0.053120  0.085472  0.001727  0.485832   \n",
       "\n",
       "           genre2  \n",
       "year     0.019557  \n",
       "kind     0.102432  \n",
       "rating  -0.038078  \n",
       "vote    -0.053120  \n",
       "country  0.085472  \n",
       "runtime  0.001727  \n",
       "genre1   0.485832  \n",
       "genre2   1.000000  "
      ]
     },
     "execution_count": 654,
     "metadata": {},
     "output_type": "execute_result"
    }
   ],
   "source": [
    "data.corr()"
   ]
  },
  {
   "cell_type": "code",
   "execution_count": null,
   "metadata": {},
   "outputs": [],
   "source": []
  }
 ],
 "metadata": {
  "interpreter": {
   "hash": "52ea6b0ad24995bd1b60e6cd08f3ba54ab5b22533dfe61991e44dc13c4ce39e3"
  },
  "kernelspec": {
   "display_name": "Python 3.8.12 64-bit ('base': conda)",
   "language": "python",
   "name": "python3"
  },
  "language_info": {
   "codemirror_mode": {
    "name": "ipython",
    "version": 3
   },
   "file_extension": ".py",
   "mimetype": "text/x-python",
   "name": "python",
   "nbconvert_exporter": "python",
   "pygments_lexer": "ipython3",
   "version": "3.8.12"
  },
  "orig_nbformat": 4
 },
 "nbformat": 4,
 "nbformat_minor": 2
}
