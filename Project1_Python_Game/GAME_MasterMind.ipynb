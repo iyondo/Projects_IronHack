{
 "cells": [
  {
   "cell_type": "markdown",
   "id": "44f7b70e",
   "metadata": {},
   "source": [
    "#### Functions"
   ]
  },
  {
   "cell_type": "code",
   "execution_count": 54,
   "id": "0dc53f28",
   "metadata": {},
   "outputs": [],
   "source": [
    "def functions_programm_code():\n",
    "    options =['Y','B','R','G']\n",
    "    code=[]\n",
    "    import random\n",
    "    for i in range(4):\n",
    "        code.append(random.choice(options))\n",
    "    return code\n"
   ]
  },
  {
   "cell_type": "code",
   "execution_count": 62,
   "id": "dec6a9a9",
   "metadata": {},
   "outputs": [],
   "source": [
    "def inputfromuser():\n",
    "\n",
    "    print(\"\\n\\n**Rule reminder: you can only choose from the following 4 colors: B G R Y.**\")\n",
    "    print(\"**The colors will be assigned to in the order you type them.**\\n\\n\")\n",
    "    \n",
    "    colours = ['B','G','R','Y']\n",
    "    combo = []\n",
    "    \n",
    "    while len(combo)<4:\n",
    "        guess = input(\"Please type in your guess: \")\n",
    "        if guess in colours:\n",
    "            combo.append(guess)\n",
    "        else:\n",
    "            print(\"This is not a valid value, please try again.\")\n",
    " \n",
    "    print(\"You typed the following combination: \",combo)\n",
    "    return combo\n"
   ]
  },
  {
   "cell_type": "code",
   "execution_count": 56,
   "id": "1e4ece25",
   "metadata": {},
   "outputs": [],
   "source": [
    "def displayboard(combo):\n",
    "    \n",
    "    \n",
    "    print(\" _______ _______ _______ _______\")\n",
    "    print(\"|       |       |       |       |\")\n",
    "    print(f\"|   {combo[0]}   |   {combo[1]}   |   {combo[2]}   |   {combo[3]}   |\")\n",
    "    print(\"|_______|_______|_______|_______|\")\n"
   ]
  },
  {
   "cell_type": "code",
   "execution_count": 57,
   "id": "84662b5e",
   "metadata": {},
   "outputs": [],
   "source": [
    "def check_win(answer,guess):\n",
    "    '''This function checks if the palyer won the game i.e. if the answer list and guess list are exactly the same '''\n",
    "    count_win = 0\n",
    "    for ind in range(len(answer)):\n",
    "        if answer[ind] == guess[ind]:\n",
    "            count_win += 1\n",
    "    \n",
    "    if count_win == 4:\n",
    "        return True\n",
    "    else:\n",
    "        return False"
   ]
  },
  {
   "cell_type": "code",
   "execution_count": 58,
   "id": "36f63565",
   "metadata": {},
   "outputs": [],
   "source": [
    "def check_guess(answer,guess):\n",
    "    '''This function will create a feedback for the player to show him if he guessed correctly the color and the position (symbol V) or color (symbol v)'''\n",
    "    #First I create the copy of all the answer and guess list in order to make chages in them and do not affect the original lists\n",
    "    answer_feed = answer[:]\n",
    "    guess_feed = guess[:]\n",
    "    \n",
    "    #I create an empty list to keep track of the user score/feedback\n",
    "    feedback = []\n",
    "    \n",
    "    #I compare the lists answer and guess in order to check if there is a right color in the right position\n",
    "    #At the same time in order to faiclitate the further analysis I change the correct elements from lists answer_feed and guess_feed\n",
    "    for ind in range(len(answer)):\n",
    "        if answer[ind] == guess[ind]:\n",
    "            feedback.append(\"O\")\n",
    "            answer_feed[ind] = ' '\n",
    "            guess_feed[ind] = 'd'\n",
    "    \n",
    "    #Now I check if user correctly guessed the color in the answer\n",
    "    for ind in range(len(answer_feed)):\n",
    "        if guess_feed[ind] in answer_feed:\n",
    "            feedback.append('X')\n",
    "            answer_feed.remove(guess_feed[ind])\n",
    "            \n",
    "    #Since feedback should be a list with 4 elements, I append empty elements to it. This will facilitate display \n",
    "    while len(feedback) <4:\n",
    "        feedback.append(' ')\n",
    "    \n",
    "    return feedback"
   ]
  },
  {
   "cell_type": "markdown",
   "id": "b7a04776",
   "metadata": {},
   "source": []
  },
  {
   "cell_type": "markdown",
   "id": "f06ee7c2",
   "metadata": {},
   "source": [
    "## GAME MasterMind\n"
   ]
  },
  {
   "cell_type": "markdown",
   "id": "c450da1a",
   "metadata": {},
   "source": [
    "### Rules of the game"
   ]
  },
  {
   "cell_type": "code",
   "execution_count": 59,
   "id": "03fd5e64",
   "metadata": {},
   "outputs": [
    {
     "name": "stdout",
     "output_type": "stream",
     "text": [
      "\n",
      "***************************************Let's play MasterMind***************************************************\n",
      "\n",
      "The programm is going to create a random code of 4 colored elements among a range of 4 definits \n",
      "colours:\n",
      "\tblue (B),\n",
      "\tred (R),\n",
      "\tyellow (Y),\n",
      "\tgreen (G).\n",
      "\n",
      "The code can contain the same colors several times.\n",
      "Your goal is to find the combination displayed by the programm by making as few attempts as possible.\n",
      "To find the right combination you have to try a combination one after the other \n",
      "until your proposed combination matches the one in the programm, \n",
      "i.e. each element matches the right colour in the right spot.\n",
      "To allow the player find the solution, \n",
      "the program gives clues as to whether the combination matches the one proposed by the player.\n",
      "It then returns information in the following ways:\n",
      "\t-each X corresponds to an element of the right colour, but misplaced.\n",
      "\t-each O corresponds to an element of the right colour and well placed.\n",
      "The order of the V and v does not match the order of the combination.\n",
      "\n",
      "\n",
      "**********************************************Good luck !*******************************************************\n",
      "\n",
      "\n"
     ]
    }
   ],
   "source": [
    "\n",
    "\n",
    "rules = '''\n",
    "***************************************Let's play MasterMind***************************************************\n",
    "\n",
    "The programm is going to display a random code of 4 colored elements among a range of 4 definits \n",
    "colours:\n",
    "\\tblue (B),\n",
    "\\tred (R),\n",
    "\\tyellow (Y),\n",
    "\\tgreen (G).\n",
    "\n",
    "The code can contain the same colors several times.\n",
    "Your goal is to find the combination displayed by the programm by making as few attempts as possible.\n",
    "To find the right combination you have to try a combination one after the other \n",
    "until your proposed combination matches the one in the programm, \n",
    "i.e. each element matches the right colour in the right spot.\n",
    "To allow the player find the solution, \n",
    "the program gives clues as to whether the combination matches the one proposed by the player.\n",
    "It then returns information in the following ways:\n",
    "\\t-each X corresponds to an element of the right colour, but misplaced.\n",
    "\\t-each O corresponds to an element of the right colour and well placed.\n",
    "The order of the V and v does not match the order of the combination.\n",
    "\n",
    "\n",
    "**********************************************Good luck !*******************************************************\n",
    "\n",
    "'''\n",
    "print(rules)"
   ]
  },
  {
   "cell_type": "markdown",
   "id": "6356933f",
   "metadata": {},
   "source": [
    "### Game structure"
   ]
  },
  {
   "cell_type": "code",
   "execution_count": 72,
   "id": "0027ac4e",
   "metadata": {},
   "outputs": [
    {
     "name": "stdout",
     "output_type": "stream",
     "text": [
      "['G', 'Y', 'Y', 'R']\n",
      "\n",
      "\n",
      "**Rule reminder: you can only choose from the following 4 colors: B G R Y.**\n",
      "**The colors will be assigned to in the order you type them.**\n",
      "\n",
      "\n",
      "Please type in your guess: G\n",
      "Please type in your guess: Y\n",
      "Please type in your guess: Y\n",
      "Please type in your guess: R\n",
      "You typed the following combination:  ['G', 'Y', 'Y', 'R']\n",
      " _______ _______ _______ _______\n",
      "|       |       |       |       |\n",
      "|   G   |   Y   |   Y   |   R   |\n",
      "|_______|_______|_______|_______|\n",
      "\n",
      "This is a feedback from your last guess:\n",
      "\n",
      " _______ _______ _______ _______\n",
      "|       |       |       |       |\n",
      "|   O   |   O   |   O   |   O   |\n",
      "|_______|_______|_______|_______|\n",
      "\n",
      "********************Congrats you won!!!******************\n",
      "\n",
      "It took you 1 guesses\n",
      "\n",
      "\t\tYou're a genius!\n",
      "Do you want to play again? Y/Nn\n",
      "I didn't understand. Try again\n",
      "Y or N:Y\n",
      "['G', 'B', 'G', 'Y']\n",
      "\n",
      "\n",
      "**Rule reminder: you can only choose from the following 4 colors: B G R Y.**\n",
      "**The colors will be assigned to in the order you type them.**\n",
      "\n",
      "\n"
     ]
    },
    {
     "ename": "KeyboardInterrupt",
     "evalue": "Interrupted by user",
     "output_type": "error",
     "traceback": [
      "\u001b[1;31m---------------------------------------------------------------------------\u001b[0m",
      "\u001b[1;31mKeyboardInterrupt\u001b[0m                         Traceback (most recent call last)",
      "\u001b[1;32m~\\AppData\\Local\\Temp/ipykernel_17792/416960771.py\u001b[0m in \u001b[0;36m<module>\u001b[1;34m\u001b[0m\n\u001b[0;32m     10\u001b[0m \u001b[1;33m\u001b[0m\u001b[0m\n\u001b[0;32m     11\u001b[0m     \u001b[1;31m#We ask for user input\u001b[0m\u001b[1;33m\u001b[0m\u001b[1;33m\u001b[0m\u001b[1;33m\u001b[0m\u001b[0m\n\u001b[1;32m---> 12\u001b[1;33m     \u001b[0mcombo\u001b[0m \u001b[1;33m=\u001b[0m \u001b[0minputfromuser\u001b[0m\u001b[1;33m(\u001b[0m\u001b[1;33m)\u001b[0m\u001b[1;33m\u001b[0m\u001b[1;33m\u001b[0m\u001b[0m\n\u001b[0m\u001b[0;32m     13\u001b[0m \u001b[1;33m\u001b[0m\u001b[0m\n\u001b[0;32m     14\u001b[0m     \u001b[1;31m#Now we display the board with user input\u001b[0m\u001b[1;33m\u001b[0m\u001b[1;33m\u001b[0m\u001b[1;33m\u001b[0m\u001b[0m\n",
      "\u001b[1;32m~\\AppData\\Local\\Temp/ipykernel_17792/1942830993.py\u001b[0m in \u001b[0;36minputfromuser\u001b[1;34m()\u001b[0m\n\u001b[0;32m      8\u001b[0m \u001b[1;33m\u001b[0m\u001b[0m\n\u001b[0;32m      9\u001b[0m     \u001b[1;32mwhile\u001b[0m \u001b[0mlen\u001b[0m\u001b[1;33m(\u001b[0m\u001b[0mcombo\u001b[0m\u001b[1;33m)\u001b[0m\u001b[1;33m<\u001b[0m\u001b[1;36m4\u001b[0m\u001b[1;33m:\u001b[0m\u001b[1;33m\u001b[0m\u001b[1;33m\u001b[0m\u001b[0m\n\u001b[1;32m---> 10\u001b[1;33m         \u001b[0mguess\u001b[0m \u001b[1;33m=\u001b[0m \u001b[0minput\u001b[0m\u001b[1;33m(\u001b[0m\u001b[1;34m\"Please type in your guess: \"\u001b[0m\u001b[1;33m)\u001b[0m\u001b[1;33m\u001b[0m\u001b[1;33m\u001b[0m\u001b[0m\n\u001b[0m\u001b[0;32m     11\u001b[0m         \u001b[1;32mif\u001b[0m \u001b[0mguess\u001b[0m \u001b[1;32min\u001b[0m \u001b[0mcolours\u001b[0m\u001b[1;33m:\u001b[0m\u001b[1;33m\u001b[0m\u001b[1;33m\u001b[0m\u001b[0m\n\u001b[0;32m     12\u001b[0m             \u001b[0mcombo\u001b[0m\u001b[1;33m.\u001b[0m\u001b[0mappend\u001b[0m\u001b[1;33m(\u001b[0m\u001b[0mguess\u001b[0m\u001b[1;33m)\u001b[0m\u001b[1;33m\u001b[0m\u001b[1;33m\u001b[0m\u001b[0m\n",
      "\u001b[1;32m~\\anaconda3\\lib\\site-packages\\ipykernel\\kernelbase.py\u001b[0m in \u001b[0;36mraw_input\u001b[1;34m(self, prompt)\u001b[0m\n\u001b[0;32m   1004\u001b[0m                 \u001b[1;34m\"raw_input was called, but this frontend does not support input requests.\"\u001b[0m\u001b[1;33m\u001b[0m\u001b[1;33m\u001b[0m\u001b[0m\n\u001b[0;32m   1005\u001b[0m             )\n\u001b[1;32m-> 1006\u001b[1;33m         return self._input_request(\n\u001b[0m\u001b[0;32m   1007\u001b[0m             \u001b[0mstr\u001b[0m\u001b[1;33m(\u001b[0m\u001b[0mprompt\u001b[0m\u001b[1;33m)\u001b[0m\u001b[1;33m,\u001b[0m\u001b[1;33m\u001b[0m\u001b[1;33m\u001b[0m\u001b[0m\n\u001b[0;32m   1008\u001b[0m             \u001b[0mself\u001b[0m\u001b[1;33m.\u001b[0m\u001b[0m_parent_ident\u001b[0m\u001b[1;33m[\u001b[0m\u001b[1;34m\"shell\"\u001b[0m\u001b[1;33m]\u001b[0m\u001b[1;33m,\u001b[0m\u001b[1;33m\u001b[0m\u001b[1;33m\u001b[0m\u001b[0m\n",
      "\u001b[1;32m~\\anaconda3\\lib\\site-packages\\ipykernel\\kernelbase.py\u001b[0m in \u001b[0;36m_input_request\u001b[1;34m(self, prompt, ident, parent, password)\u001b[0m\n\u001b[0;32m   1049\u001b[0m             \u001b[1;32mexcept\u001b[0m \u001b[0mKeyboardInterrupt\u001b[0m\u001b[1;33m:\u001b[0m\u001b[1;33m\u001b[0m\u001b[1;33m\u001b[0m\u001b[0m\n\u001b[0;32m   1050\u001b[0m                 \u001b[1;31m# re-raise KeyboardInterrupt, to truncate traceback\u001b[0m\u001b[1;33m\u001b[0m\u001b[1;33m\u001b[0m\u001b[1;33m\u001b[0m\u001b[0m\n\u001b[1;32m-> 1051\u001b[1;33m                 \u001b[1;32mraise\u001b[0m \u001b[0mKeyboardInterrupt\u001b[0m\u001b[1;33m(\u001b[0m\u001b[1;34m\"Interrupted by user\"\u001b[0m\u001b[1;33m)\u001b[0m \u001b[1;32mfrom\u001b[0m \u001b[1;32mNone\u001b[0m\u001b[1;33m\u001b[0m\u001b[1;33m\u001b[0m\u001b[0m\n\u001b[0m\u001b[0;32m   1052\u001b[0m             \u001b[1;32mexcept\u001b[0m \u001b[0mException\u001b[0m\u001b[1;33m:\u001b[0m\u001b[1;33m\u001b[0m\u001b[1;33m\u001b[0m\u001b[0m\n\u001b[0;32m   1053\u001b[0m                 \u001b[0mself\u001b[0m\u001b[1;33m.\u001b[0m\u001b[0mlog\u001b[0m\u001b[1;33m.\u001b[0m\u001b[0mwarning\u001b[0m\u001b[1;33m(\u001b[0m\u001b[1;34m\"Invalid Message:\"\u001b[0m\u001b[1;33m,\u001b[0m \u001b[0mexc_info\u001b[0m\u001b[1;33m=\u001b[0m\u001b[1;32mTrue\u001b[0m\u001b[1;33m)\u001b[0m\u001b[1;33m\u001b[0m\u001b[1;33m\u001b[0m\u001b[0m\n",
      "\u001b[1;31mKeyboardInterrupt\u001b[0m: Interrupted by user"
     ]
    }
   ],
   "source": [
    "#We start the game \n",
    "game_on = True \n",
    "\n",
    "while game_on:\n",
    "    #We start by creating a code to by guessed by the player\n",
    "    code = functions_programm_code()\n",
    "    \n",
    "    #We create a counter of player guesses\n",
    "    counter = 1\n",
    "    \n",
    "    #We ask for user input\n",
    "    combo = inputfromuser()\n",
    "    \n",
    "    #Now we display the board with user input\n",
    "    displayboard(combo)\n",
    "    \n",
    "    feedback = check_guess(code,combo)\n",
    "    print(\"\\nThis is a feedback from your last guess:\\n\")\n",
    "    displayboard(feedback)\n",
    "    \n",
    "    #Now we chek if the user won\n",
    "    if check_win(code,combo) == True:\n",
    "        print(f\"\\n********************Congrats you won!!!******************\\n\\nIt took you {counter} guesses\")\n",
    "        if counter < 3:\n",
    "            print(\"\\n\\t\\tYou're a genius!\")\n",
    "        elif 3<=counter <10:\n",
    "            print(\"\\n\\t\\tGood job!\")\n",
    "        else:\n",
    "            print(\"\\n\\t\\tNot bad, but you can do better!\")\n",
    "        game_on = False\n",
    "        \n",
    "        #Here we ask if the player wants to play again\n",
    "        again = input(\"Do you want to play again? Y/N\")\n",
    "        while again not in ['Y', 'N']:\n",
    "            print(\"I didn't understand. Try again\")\n",
    "            again=input(\"Y or N:\")\n",
    "        if again == 'Y':\n",
    "            game_on = True\n",
    "        else:\n",
    "            print(\"Thanks for playing\")\n",
    "        \n",
    "    else:\n",
    "        print(\"Not quite there.\")\n",
    "        player_ans = input(\"Do you want to try again? Y/N:\")\n",
    "        while player_ans not in ['Y', 'N']:\n",
    "            print(\"I didn't understand. Try again\")\n",
    "            player_ans=input(\"Y or N:\")\n",
    "    \n",
    "        #We check and continue depending on the user input\n",
    "        if player_ans == 'N':\n",
    "            print(\"Thanks for playing\\nBetter luck next time.\")\n",
    "            break\n",
    "        else:\n",
    "            counter +=1\n",
    "\n",
    "\n",
    "    \n"
   ]
  },
  {
   "cell_type": "code",
   "execution_count": null,
   "id": "8b711a08",
   "metadata": {},
   "outputs": [],
   "source": []
  }
 ],
 "metadata": {
  "kernelspec": {
   "display_name": "Python 3 (ipykernel)",
   "language": "python",
   "name": "python3"
  },
  "language_info": {
   "codemirror_mode": {
    "name": "ipython",
    "version": 3
   },
   "file_extension": ".py",
   "mimetype": "text/x-python",
   "name": "python",
   "nbconvert_exporter": "python",
   "pygments_lexer": "ipython3",
   "version": "3.8.12"
  }
 },
 "nbformat": 4,
 "nbformat_minor": 5
}
