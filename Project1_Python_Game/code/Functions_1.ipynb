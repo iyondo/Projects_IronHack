{
 "cells": [
  {
   "cell_type": "code",
   "execution_count": 40,
   "id": "25308bf2",
   "metadata": {},
   "outputs": [
    {
     "name": "stdout",
     "output_type": "stream",
     "text": [
      "The programm is going to display a random code of 4 colored elements among a range of 4 definits colours:blue (B), red (R), yellow (Y), green (G). The code can contain the same colors several times. Your goal is to find the combination displayed by the programm by making as few attempts as possible. To find the right combination you have to try a combination one after the other until your proposed combination matches the one in the programm, i.e. each element matches the right colour in the right spot. To allow the player find the solution, the program gives clues as to whether the combination matches the one proposed by the player. It then returns information in the following ways:-each v corresponds to an element of the right colour, but misplaced.-each V corresponds to an element of the right colour and well placed. The order of the V and v does not match the order of the combination. Good luck !\n"
     ]
    }
   ],
   "source": [
    "rules = \"The programm is going to display a random code of 4 colored elements among a range of 4 definits colours:blue (B), red (R), yellow (Y), green (G). The code can contain the same colors several times. Your goal is to find the combination displayed by the programm by making as few attempts as possible. To find the right combination you have to try a combination one after the other until your proposed combination matches the one in the programm, i.e. each element matches the right colour in the right spot. To allow the player find the solution, the program gives clues as to whether the combination matches the one proposed by the player. It then returns information in the following ways:-each v corresponds to an element of the right colour, but misplaced.-each V corresponds to an element of the right colour and well placed. The order of the V and v does not match the order of the combination. Good luck !\"\n",
    "print(rules)\n",
    "\n",
    "def functions_programm_code():\n",
    "    import random\n",
    "    colours = ['B','R', 'Y', 'G']\n",
    "    code=[]\n",
    "    for i in range(4):\n",
    "        code.append(random.choices(colours))\n",
    "    return code\n",
    "\n",
    "\n",
    "    \n"
   ]
  }
 ],
 "metadata": {
  "kernelspec": {
   "display_name": "Python 3",
   "language": "python",
   "name": "python3"
  },
  "language_info": {
   "codemirror_mode": {
    "name": "ipython",
    "version": 3
   },
   "file_extension": ".py",
   "mimetype": "text/x-python",
   "name": "python",
   "nbconvert_exporter": "python",
   "pygments_lexer": "ipython3",
   "version": "3.8.8"
  }
 },
 "nbformat": 4,
 "nbformat_minor": 5
}
