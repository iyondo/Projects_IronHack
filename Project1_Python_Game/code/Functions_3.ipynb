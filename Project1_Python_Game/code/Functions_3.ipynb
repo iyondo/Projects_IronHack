{
 "cells": [
  {
   "cell_type": "markdown",
   "id": "0f9aaaaa",
   "metadata": {},
   "source": [
    "### Function to check if the user won"
   ]
  },
  {
   "cell_type": "code",
   "execution_count": 8,
   "id": "d8aaf4ce",
   "metadata": {},
   "outputs": [],
   "source": [
    "def check_win(answer,guess):\n",
    "    '''This function checks if the palyer won the game i.e. if the answer list and guess list are exactly the same '''\n",
    "    count_win = 0\n",
    "    for ind in range(len(answer)):\n",
    "        if answer[ind] == guess[ind]:\n",
    "            count_win += 1\n",
    "    \n",
    "    if count_win == 4:\n",
    "        return True\n",
    "    else:\n",
    "        return False"
   ]
  },
  {
   "cell_type": "markdown",
   "id": "79e0ffdc",
   "metadata": {},
   "source": [
    "TEST to check if function works properly"
   ]
  },
  {
   "cell_type": "code",
   "execution_count": 9,
   "id": "2a1ac2ef",
   "metadata": {},
   "outputs": [],
   "source": [
    "code = ['R', 'R', 'R', 'R']\n",
    "guesses = ['R', 'R', 'R', 'R']"
   ]
  },
  {
   "cell_type": "code",
   "execution_count": 10,
   "id": "2a7df460",
   "metadata": {},
   "outputs": [
    {
     "data": {
      "text/plain": [
       "True"
      ]
     },
     "execution_count": 10,
     "metadata": {},
     "output_type": "execute_result"
    }
   ],
   "source": [
    "check_win(code,guesses)"
   ]
  },
  {
   "cell_type": "markdown",
   "id": "e6d063da",
   "metadata": {},
   "source": [
    "### Function to give feedback to the user"
   ]
  },
  {
   "cell_type": "code",
   "execution_count": 25,
   "id": "dec5ea31",
   "metadata": {},
   "outputs": [],
   "source": [
    "def check_guess(answer,guess):\n",
    "    '''This function will create a feedback for the player to show him if he guessed correctly the color and the position (symbol V) or color (symbol v)'''\n",
    "    #First I create the copy of all the answer and guess list in order to make chages in them and do not affect the original lists\n",
    "    answer_feed = answer[:]\n",
    "    guess_feed = guess[:]\n",
    "    \n",
    "    #I create an empty list to keep track of the user score/feedback\n",
    "    feedback = []\n",
    "    \n",
    "    #I compare the lists answer and guess in order to check if there is a right color in the right position\n",
    "    #At the same time in order to faiclitate the further analysis I change the correct elements from lists answer_feed and guess_feed\n",
    "    for ind in range(len(answer)):\n",
    "        if answer[ind] == guess[ind]:\n",
    "            feedback.append(\"V\")\n",
    "            answer_feed[ind] = ' '\n",
    "            guess_feed[ind] = 'd'\n",
    "    \n",
    "    #Now I check if user correctly guessed the color in the answer\n",
    "    for ind in range(len(answer_feed)):\n",
    "        if guess_feed[ind] in answer_feed:\n",
    "            feedback.append('v')\n",
    "            answer_feed.remove(guess_feed[ind])\n",
    "            \n",
    "    #Since feedback should be a list with 4 elements, I append empty elements to it. This will facilitate display \n",
    "    while len(feedback) <4:\n",
    "        feedback.append(' ')\n",
    "    \n",
    "    return feedback\n",
    "    "
   ]
  },
  {
   "cell_type": "markdown",
   "id": "c18bf0b4",
   "metadata": {},
   "source": [
    "TEST if the feedback works correctly\n"
   ]
  },
  {
   "cell_type": "code",
   "execution_count": 28,
   "id": "398ee4e8",
   "metadata": {},
   "outputs": [],
   "source": [
    "code = ['R', ' ', 'B', 'B']\n",
    "guesses = ['B', 'R', 'R', 'R']"
   ]
  },
  {
   "cell_type": "code",
   "execution_count": 29,
   "id": "263f30ab",
   "metadata": {},
   "outputs": [
    {
     "data": {
      "text/plain": [
       "['v', 'v', ' ', ' ']"
      ]
     },
     "execution_count": 29,
     "metadata": {},
     "output_type": "execute_result"
    }
   ],
   "source": [
    "check_guess(code,guesses)"
   ]
  },
  {
   "cell_type": "code",
   "execution_count": null,
   "id": "23355c9c",
   "metadata": {},
   "outputs": [],
   "source": []
  }
 ],
 "metadata": {
  "kernelspec": {
   "display_name": "Python 3 (ipykernel)",
   "language": "python",
   "name": "python3"
  },
  "language_info": {
   "codemirror_mode": {
    "name": "ipython",
    "version": 3
   },
   "file_extension": ".py",
   "mimetype": "text/x-python",
   "name": "python",
   "nbconvert_exporter": "python",
   "pygments_lexer": "ipython3",
   "version": "3.8.12"
  }
 },
 "nbformat": 4,
 "nbformat_minor": 5
}
