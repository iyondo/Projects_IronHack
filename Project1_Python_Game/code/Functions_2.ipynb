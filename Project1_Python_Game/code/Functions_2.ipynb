{
 "cells": [
  {
   "cell_type": "code",
   "execution_count": 1,
   "id": "302fe946",
   "metadata": {},
   "outputs": [
    {
     "name": "stdout",
     "output_type": "stream",
     "text": [
      "**Rule reminder: you can only choose from the following 4 colors: B G R Y.**\n",
      "**The colors will be assigned to in the order you type them.**\n",
      "Please type in your guess: G\n",
      "Please type in your guess: Y\n",
      "Please type in your guess: B\n",
      "Please type in your guess: i\n",
      "This is not a valid value, please try again.\n",
      "Please type in your guess: o\n",
      "This is not a valid value, please try again.\n",
      "Please type in your guess: y\n",
      "This is not a valid value, please try again.\n",
      "Please type in your guess: Y\n",
      "You typed the following combination:  ['G', 'Y', 'B', 'Y']\n"
     ]
    }
   ],
   "source": [
    "# Possible upgrade: make the guess case unsensitive\n",
    "\n",
    "def inputfromuser():\n",
    "\n",
    "    print(\"**Rule reminder: you can only choose from the following 4 colors: B G R Y.**\")\n",
    "    print(\"**The colors will be assigned to in the order you type them.**\")\n",
    "    \n",
    "    colours = ['B','G','R','Y']\n",
    "    combo = []\n",
    "    \n",
    "    while len(combo)<4:\n",
    "        guess = input(\"Please type in your guess: \")\n",
    "        if guess in colours:\n",
    "            combo.append(guess)\n",
    "        else:\n",
    "            print(\"This is not a valid value, please try again.\")\n",
    " \n",
    "    print(\"You typed the following combination: \",combo)\n",
    "\n",
    "inputfromuser()"
   ]
  },
  {
   "cell_type": "code",
   "execution_count": 11,
   "id": "587639c6",
   "metadata": {},
   "outputs": [
    {
     "name": "stdout",
     "output_type": "stream",
     "text": [
      " _______ _______ _______ _______\n",
      "|       |       |       |       |\n",
      "|   B   |   G   |   R   |   Y   |\n",
      "|_______|_______|_______|_______|\n"
     ]
    }
   ],
   "source": [
    "# Display board: can be ugraded with formatting\n",
    "\n",
    "def displayboard(combo):\n",
    "    \n",
    "    \n",
    "    print(\" _______ _______ _______ _______\")\n",
    "    print(\"|       |       |       |       |\")\n",
    "    print(f\"|   {combo[0]}   |   {combo[1]}   |   {combo[2]}   |   {combo[3]}   |\")\n",
    "    print(\"|_______|_______|_______|_______|\")\n",
    "\n",
    "\n",
    "a = ['B','G','R','Y']\n",
    "displayboard(a)"
   ]
  },
  {
   "cell_type": "code",
   "execution_count": null,
   "id": "674f5dbc",
   "metadata": {},
   "outputs": [],
   "source": [
    "f\"|{guesses[0]:^7}|{guesses[1]:^7}|{guesses[2]:^7}|{guesses[3]:^7}|{guesses[4]:^7}|\""
   ]
  }
 ],
 "metadata": {
  "kernelspec": {
   "display_name": "Python 3 (ipykernel)",
   "language": "python",
   "name": "python3"
  },
  "language_info": {
   "codemirror_mode": {
    "name": "ipython",
    "version": 3
   },
   "file_extension": ".py",
   "mimetype": "text/x-python",
   "name": "python",
   "nbconvert_exporter": "python",
   "pygments_lexer": "ipython3",
   "version": "3.8.12"
  }
 },
 "nbformat": 4,
 "nbformat_minor": 5
}
